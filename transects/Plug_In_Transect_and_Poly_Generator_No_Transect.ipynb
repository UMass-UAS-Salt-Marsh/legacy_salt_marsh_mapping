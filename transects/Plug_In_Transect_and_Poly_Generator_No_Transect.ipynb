{
 "cells": [
  {
   "cell_type": "markdown",
   "metadata": {},
   "source": [
    "Import Libraries"
   ]
  },
  {
   "cell_type": "code",
   "execution_count": 1,
   "metadata": {},
   "outputs": [],
   "source": [
    "from PyQt5.QtCore import *\n",
    "import pandas as pd\n",
    "from qgis.core import *\n",
    "import os\n",
    "import geopandas as gpd\n",
    "import fiona\n",
    "import sys\n",
    "import math\n",
    "import numpy\n",
    "from shapely.geometry import shape\n",
    "from shapely.geometry import Polygon\n",
    "from rtree import index"
   ]
  },
  {
   "cell_type": "code",
   "execution_count": 2,
   "metadata": {},
   "outputs": [
    {
     "data": {
      "text/html": [
       "<style>.container { width:100% !important; }</style>"
      ],
      "text/plain": [
       "<IPython.core.display.HTML object>"
      ]
     },
     "metadata": {},
     "output_type": "display_data"
    }
   ],
   "source": [
    "# Increase width of notebook\n",
    "from IPython.core.display import display, HTML\n",
    "display(HTML(\"<style>.container { width:100% !important; }</style>\"))"
   ]
  },
  {
   "cell_type": "markdown",
   "metadata": {},
   "source": [
    "Define functions to be used in script"
   ]
  },
  {
   "cell_type": "code",
   "execution_count": 3,
   "metadata": {},
   "outputs": [],
   "source": [
    "# Create function to check for transect numbers of before and after points\n",
    "\n",
    "def transectCheck(rownumber, dataframe):\n",
    "    current = dataframe['Transect'].iloc[rownumber]\n",
    "    after = dataframe['Transect'].iloc[rownumber + 1]\n",
    "    if \"/\" in current:\n",
    "        slash1 = current.find(\"/\")\n",
    "        slash2 = slash1 + 1\n",
    "        current = current[slash2:]\n",
    "    elif \",\" in current:\n",
    "        slash1 = current.find(\",\")\n",
    "        slash2 = slash1 + 1\n",
    "        current = current[slash2:]\n",
    "    else: pass\n",
    "    \n",
    "    if \"/\" in after:\n",
    "        slash = after.find(\"/\")\n",
    "        after = after[:slash]\n",
    "        \n",
    "    elif \",\" in after:\n",
    "        slash = after.find(\",\")\n",
    "        after = after[:slash]\n",
    "        \n",
    "    else: pass\n",
    "    \n",
    "    if current == after:\n",
    "        return 1\n",
    "    else: return 0\n",
    "    \n",
    "    \n",
    "# Create function to determine if a point is a mapping unit\n",
    "\n",
    "def muCheck(rownumber, dataframe):\n",
    "\n",
    "    # Check subclasses\n",
    "    currentS = dataframe['Subclass'].iloc[rownumber][:2]\n",
    "    beforeS = dataframe['Subclass'].iloc[rownumber - 1][:2]\n",
    "    afterS = dataframe['Subclass'].iloc[rownumber + 1][:2]\n",
    "    \n",
    "    # Check 'Notes' field for mu\n",
    "    \n",
    "    \n",
    "    if currentT == afterT and currentS == afterS: pass\n",
    "    else:\n",
    "            if currentT2 == beforeT and currentS == beforeS: pass\n",
    "            else: return 2\n",
    "            \n",
    "def muClassCheck(rownumber, dataframe):\n",
    "\n",
    "    currentS = dataframe['Class'].iloc[rownumber]\n",
    "    beforeS = dataframe['Class'].iloc[rownumber - 1]\n",
    "    afterS = dataframe['Class'].iloc[rownumber + 1]\n",
    "\n",
    "    if currentT == afterT and currentS == afterS: pass\n",
    "    else:\n",
    "            if currentT2 == beforeT and currentS == beforeS: pass\n",
    "            else: return 2\n",
    "            \n",
    "def muCheckLast(rownumber, dataframe):\n",
    "    # Check final subclass with [-1] subclass only\n",
    "    currentS = dataframe['Subclass'].iloc[rownumber][:2]\n",
    "    beforeS = dataframe['Subclass'].iloc[rownumber - 1][:2]\n",
    "    \n",
    "    if currentS == beforeS: pass\n",
    "    else: return 2\n",
    "    \n",
    "def muClassCheckLast(rownumber, dataframe):\n",
    "    # Check final subclass with [-1] subclass only\n",
    "    currentS = dataframe['Class'].iloc[rownumber][:2]\n",
    "    beforeS = dataframe['Class'].iloc[rownumber - 1][:2]\n",
    "    \n",
    "    if currentS == beforeS: pass\n",
    "    else: return 2\n",
    "\n",
    "# Define function to test whether angle of mu corresponds to pre or post angle\n",
    "\n",
    "def prepostCheck(rownumber, dataframe):\n",
    "    currentT = dataframe['Transect'].iloc[rownumber]\n",
    "    afterT = dataframe['Transect'].iloc[rownumber + 1]\n",
    "    \n",
    "    if \"/\" in currentT:\n",
    "        slash1 = currentT.find(\"/\")\n",
    "        slash2 = slash1 + 1\n",
    "        currentT = currentT[slash2:]\n",
    "    else: pass\n",
    "    \n",
    "    if \"/\" in afterT:\n",
    "        slash = afterT.find(\"/\")\n",
    "        afterT = afterT[:slash]\n",
    "    else: pass\n",
    "    \n",
    "    if currentT == afterT: return \"post\"\n",
    "    else: return \"pre\"\n",
    "    \n",
    "    "
   ]
  },
  {
   "cell_type": "markdown",
   "metadata": {},
   "source": [
    "Set Up the Data - Specify correct folders to be generated"
   ]
  },
  {
   "cell_type": "code",
   "execution_count": 4,
   "metadata": {},
   "outputs": [
    {
     "name": "stdout",
     "output_type": "stream",
     "text": [
      "Enter file path to site folder in EPA Salt Marsh UAS Study with quotations -- \"G:\\.shortcut-targets-by-id\\0B6-MI-dco6FLWkZmTDZ4MFhRU1k\\SaltMUAS_share\\EPA Salt Marsh UAS Study\\North River\"\n",
      "Enter in the date and site in the format: RR_14_Aug_2019 -- NR_21_Aug_2019\n",
      "G:\\.shortcut-targets-by-id\\0B6-MI-dco6FLWkZmTDZ4MFhRU1k\\SaltMUAS_share\\EPA Salt Marsh UAS Study\\North River\\Jupyter_Working_Folder\\NR_21_Aug_2019 created.\n",
      "G:\\.shortcut-targets-by-id\\0B6-MI-dco6FLWkZmTDZ4MFhRU1k\\SaltMUAS_share\\EPA Salt Marsh UAS Study\\North River\\Jupyter_Working_Folder\\NR_21_Aug_2019\\XY_Points created.\n",
      "G:\\.shortcut-targets-by-id\\0B6-MI-dco6FLWkZmTDZ4MFhRU1k\\SaltMUAS_share\\EPA Salt Marsh UAS Study\\North River\\Jupyter_Working_Folder\\NR_21_Aug_2019\\Lines created.\n",
      "G:\\.shortcut-targets-by-id\\0B6-MI-dco6FLWkZmTDZ4MFhRU1k\\SaltMUAS_share\\EPA Salt Marsh UAS Study\\North River\\Jupyter_Working_Folder\\NR_21_Aug_2019\\Lines_Buffered created.\n",
      "G:\\.shortcut-targets-by-id\\0B6-MI-dco6FLWkZmTDZ4MFhRU1k\\SaltMUAS_share\\EPA Salt Marsh UAS Study\\North River\\Jupyter_Working_Folder\\NR_21_Aug_2019\\mu created.\n",
      "G:\\.shortcut-targets-by-id\\0B6-MI-dco6FLWkZmTDZ4MFhRU1k\\SaltMUAS_share\\EPA Salt Marsh UAS Study\\North River\\Jupyter_Working_Folder\\NR_21_Aug_2019\\mu_Buffered created.\n",
      "G:\\.shortcut-targets-by-id\\0B6-MI-dco6FLWkZmTDZ4MFhRU1k\\SaltMUAS_share\\EPA Salt Marsh UAS Study\\North River\\Jupyter_Working_Folder\\NR_21_Aug_2019\\Class_Lines created.\n",
      "G:\\.shortcut-targets-by-id\\0B6-MI-dco6FLWkZmTDZ4MFhRU1k\\SaltMUAS_share\\EPA Salt Marsh UAS Study\\North River\\Jupyter_Working_Folder\\NR_21_Aug_2019\\Class_Lines_Buffered created.\n",
      "G:\\.shortcut-targets-by-id\\0B6-MI-dco6FLWkZmTDZ4MFhRU1k\\SaltMUAS_share\\EPA Salt Marsh UAS Study\\North River\\Jupyter_Working_Folder\\NR_21_Aug_2019\\working created.\n",
      "G:\\.shortcut-targets-by-id\\0B6-MI-dco6FLWkZmTDZ4MFhRU1k\\SaltMUAS_share\\EPA Salt Marsh UAS Study\\North River\\Jupyter_Working_Folder\\NR_21_Aug_2019\\Polygons created.\n",
      "Folder creation complete.\n"
     ]
    }
   ],
   "source": [
    "# Create directories within selected folder\n",
    "\n",
    "# If tapping into Google Drive, folder may need to be availble offline\n",
    "\n",
    "root = input(\"Enter file path to site folder in EPA Salt Marsh UAS Study with quotations -- \")\n",
    "root = root[1:-1]\n",
    "base = root + \"\\Jupyter_Working_Folder\"\n",
    "workIn = input(\"Enter in the date and site in the format: RR_14_Aug_2019 -- \")\n",
    "currentWork = base + \"\\\\\" + workIn\n",
    "XY_Points_Folder = currentWork + \"\\XY_Points\"\n",
    "Lines_Folder = currentWork + \"\\Lines\"\n",
    "Buffer_Folder = currentWork + \"\\Lines_Buffered\"\n",
    "Class_Lines_Folder = currentWork + \"\\Class_Lines\"\n",
    "Class_Buffer_Folder = currentWork + \"\\Class_Lines_Buffered\"\n",
    "mu_Folder = currentWork + \"\\mu\"\n",
    "mu_Buffer_Folder = currentWork + \"\\mu_Buffered\"\n",
    "working = currentWork + \"\\working\"\n",
    "Polygon_Folder = currentWork + \"\\Polygons\"\n",
    "folderList = [currentWork, XY_Points_Folder, Lines_Folder, Buffer_Folder, mu_Folder, \n",
    "              mu_Buffer_Folder, Class_Lines_Folder, Class_Buffer_Folder, working, Polygon_Folder]\n",
    "for i in folderList:\n",
    "    if not os.path.exists(i):\n",
    "        os.makedirs(i)\n",
    "        print(str(i) + \" created.\")\n",
    "print(\"Folder creation complete.\")"
   ]
  },
  {
   "cell_type": "markdown",
   "metadata": {},
   "source": [
    "Check data to edit cell below to determine number of rows to exclude"
   ]
  },
  {
   "cell_type": "code",
   "execution_count": 5,
   "metadata": {},
   "outputs": [
    {
     "name": "stdout",
     "output_type": "stream",
     "text": [
      "Enter file path to ground truthing data .csv here -- \"G:\\.shortcut-targets-by-id\\0B6-MI-dco6FLWkZmTDZ4MFhRU1k\\SaltMUAS_share\\EPA Salt Marsh UAS Study\\North River\\Ground Truthing\\northriver21aug2019.csv\"\n"
     ]
    }
   ],
   "source": [
    "# Read in .cvs with Transects\n",
    "# Keep quotations around file path in the input\n",
    "read_data = input(\"Enter file path to ground truthing data .csv here -- \")\n",
    "read_data = read_data[1:-1]\n",
    "\n",
    "# skiprows argument may need to be tweaked depending on format of the .csv's headers\n",
    "df = pd.read_csv(read_data)"
   ]
  },
  {
   "cell_type": "code",
   "execution_count": 6,
   "metadata": {},
   "outputs": [
    {
     "name": "stdout",
     "output_type": "stream",
     "text": [
      "Preview of data:\n"
     ]
    },
    {
     "data": {
      "text/html": [
       "<div>\n",
       "<style scoped>\n",
       "    .dataframe tbody tr th:only-of-type {\n",
       "        vertical-align: middle;\n",
       "    }\n",
       "\n",
       "    .dataframe tbody tr th {\n",
       "        vertical-align: top;\n",
       "    }\n",
       "\n",
       "    .dataframe thead th {\n",
       "        text-align: right;\n",
       "    }\n",
       "</style>\n",
       "<table border=\"1\" class=\"dataframe\">\n",
       "  <thead>\n",
       "    <tr style=\"text-align: right;\">\n",
       "      <th></th>\n",
       "      <th>Unnamed: 0</th>\n",
       "      <th>NAD 83 UTM 19N (EPSG Code: 26919)</th>\n",
       "      <th>Unnamed: 2</th>\n",
       "      <th>Unnamed: 3</th>\n",
       "      <th>Unnamed: 4</th>\n",
       "      <th>Unnamed: 5</th>\n",
       "      <th>Unnamed: 6</th>\n",
       "    </tr>\n",
       "  </thead>\n",
       "  <tbody>\n",
       "    <tr>\n",
       "      <th>0</th>\n",
       "      <td>NaN</td>\n",
       "      <td>Units: meters</td>\n",
       "      <td>NaN</td>\n",
       "      <td>NaN</td>\n",
       "      <td>NaN</td>\n",
       "      <td>NaN</td>\n",
       "      <td>NaN</td>\n",
       "    </tr>\n",
       "    <tr>\n",
       "      <th>1</th>\n",
       "      <td>TRANSECT</td>\n",
       "      <td>POINT #</td>\n",
       "      <td>SUBCLASS</td>\n",
       "      <td>NORTHING</td>\n",
       "      <td>EASTING</td>\n",
       "      <td>ELEVATION</td>\n",
       "      <td>NOTES</td>\n",
       "    </tr>\n",
       "    <tr>\n",
       "      <th>2</th>\n",
       "      <td>NaN</td>\n",
       "      <td>RTCM0052</td>\n",
       "      <td>NaN</td>\n",
       "      <td>4644294.626</td>\n",
       "      <td>362797.687</td>\n",
       "      <td>40.041</td>\n",
       "      <td>pathway</td>\n",
       "    </tr>\n",
       "    <tr>\n",
       "      <th>3</th>\n",
       "      <td>1</td>\n",
       "      <td>1</td>\n",
       "      <td>31</td>\n",
       "      <td>4670394.505</td>\n",
       "      <td>357429.934</td>\n",
       "      <td>1.173</td>\n",
       "      <td>flowering - open</td>\n",
       "    </tr>\n",
       "    <tr>\n",
       "      <th>4</th>\n",
       "      <td>1</td>\n",
       "      <td>2</td>\n",
       "      <td>06ac</td>\n",
       "      <td>4670396.306</td>\n",
       "      <td>357431.119</td>\n",
       "      <td>1.195</td>\n",
       "      <td>flowering - open</td>\n",
       "    </tr>\n",
       "  </tbody>\n",
       "</table>\n",
       "</div>"
      ],
      "text/plain": [
       "  Unnamed: 0 NAD 83 UTM 19N (EPSG Code: 26919) Unnamed: 2   Unnamed: 3  \\\n",
       "0        NaN                     Units: meters        NaN          NaN   \n",
       "1   TRANSECT                           POINT #   SUBCLASS     NORTHING   \n",
       "2        NaN                          RTCM0052        NaN  4644294.626   \n",
       "3          1                                 1         31  4670394.505   \n",
       "4          1                                 2       06ac  4670396.306   \n",
       "\n",
       "   Unnamed: 4  Unnamed: 5        Unnamed: 6  \n",
       "0         NaN         NaN               NaN  \n",
       "1     EASTING   ELEVATION             NOTES  \n",
       "2  362797.687      40.041           pathway  \n",
       "3  357429.934       1.173  flowering - open  \n",
       "4  357431.119       1.195  flowering - open  "
      ]
     },
     "execution_count": 6,
     "metadata": {},
     "output_type": "execute_result"
    }
   ],
   "source": [
    "# Observe number of rows to discard including RTC data\n",
    "print(\"Preview of data:\")\n",
    "df.head()"
   ]
  },
  {
   "cell_type": "code",
   "execution_count": 7,
   "metadata": {},
   "outputs": [
    {
     "name": "stdout",
     "output_type": "stream",
     "text": [
      "If dataframe start at the correct positional row, enter 1, if not, enter 2 -- 2\n",
      "Enter in number of rows to discard -- 3\n",
      "Three rows discarded\n"
     ]
    },
    {
     "data": {
      "text/html": [
       "<div>\n",
       "<style scoped>\n",
       "    .dataframe tbody tr th:only-of-type {\n",
       "        vertical-align: middle;\n",
       "    }\n",
       "\n",
       "    .dataframe tbody tr th {\n",
       "        vertical-align: top;\n",
       "    }\n",
       "\n",
       "    .dataframe thead th {\n",
       "        text-align: right;\n",
       "    }\n",
       "</style>\n",
       "<table border=\"1\" class=\"dataframe\">\n",
       "  <thead>\n",
       "    <tr style=\"text-align: right;\">\n",
       "      <th></th>\n",
       "      <th>Unnamed: 0</th>\n",
       "      <th>NAD 83 UTM 19N (EPSG Code: 26919)</th>\n",
       "      <th>Unnamed: 2</th>\n",
       "      <th>Unnamed: 3</th>\n",
       "      <th>Unnamed: 4</th>\n",
       "      <th>Unnamed: 5</th>\n",
       "      <th>Unnamed: 6</th>\n",
       "    </tr>\n",
       "  </thead>\n",
       "  <tbody>\n",
       "    <tr>\n",
       "      <th>3</th>\n",
       "      <td>1</td>\n",
       "      <td>1</td>\n",
       "      <td>31</td>\n",
       "      <td>4670394.505</td>\n",
       "      <td>357429.934</td>\n",
       "      <td>1.173</td>\n",
       "      <td>flowering - open</td>\n",
       "    </tr>\n",
       "    <tr>\n",
       "      <th>4</th>\n",
       "      <td>1</td>\n",
       "      <td>2</td>\n",
       "      <td>06ac</td>\n",
       "      <td>4670396.306</td>\n",
       "      <td>357431.119</td>\n",
       "      <td>1.195</td>\n",
       "      <td>flowering - open</td>\n",
       "    </tr>\n",
       "    <tr>\n",
       "      <th>5</th>\n",
       "      <td>1</td>\n",
       "      <td>3</td>\n",
       "      <td>06a</td>\n",
       "      <td>4670398.116</td>\n",
       "      <td>357432.198</td>\n",
       "      <td>1.234</td>\n",
       "      <td>flowering - open</td>\n",
       "    </tr>\n",
       "    <tr>\n",
       "      <th>6</th>\n",
       "      <td>1</td>\n",
       "      <td>4</td>\n",
       "      <td>06a</td>\n",
       "      <td>4670401.102</td>\n",
       "      <td>357434.414</td>\n",
       "      <td>1.272</td>\n",
       "      <td>flowering - tight</td>\n",
       "    </tr>\n",
       "    <tr>\n",
       "      <th>7</th>\n",
       "      <td>1</td>\n",
       "      <td>5</td>\n",
       "      <td>06a</td>\n",
       "      <td>4670402.771</td>\n",
       "      <td>357435.806</td>\n",
       "      <td>1.258</td>\n",
       "      <td>flowering - tight</td>\n",
       "    </tr>\n",
       "  </tbody>\n",
       "</table>\n",
       "</div>"
      ],
      "text/plain": [
       "  Unnamed: 0 NAD 83 UTM 19N (EPSG Code: 26919) Unnamed: 2   Unnamed: 3  \\\n",
       "3          1                                 1         31  4670394.505   \n",
       "4          1                                 2       06ac  4670396.306   \n",
       "5          1                                 3        06a  4670398.116   \n",
       "6          1                                 4        06a  4670401.102   \n",
       "7          1                                 5        06a  4670402.771   \n",
       "\n",
       "   Unnamed: 4 Unnamed: 5         Unnamed: 6  \n",
       "3  357429.934      1.173   flowering - open  \n",
       "4  357431.119      1.195   flowering - open  \n",
       "5  357432.198      1.234   flowering - open  \n",
       "6  357434.414      1.272  flowering - tight  \n",
       "7  357435.806      1.258  flowering - tight  "
      ]
     },
     "execution_count": 7,
     "metadata": {},
     "output_type": "execute_result"
    }
   ],
   "source": [
    "# Remove top rows of data if necessary\n",
    "dat = input(\"If dataframe start at the correct positional row, enter 1, if not, enter 2 -- \")\n",
    "if dat == \"2\":\n",
    "    num = int(input(\"Enter in number of rows to discard -- \"))\n",
    "    if num == 1:\n",
    "        datos = df.iloc[1:]\n",
    "        dato = pd.DataFrame(datos)\n",
    "        print(\"One row discarded\")\n",
    "    elif num == 2:\n",
    "        datos = df.iloc[2:]\n",
    "        dato = pd.DataFrame(datos)  \n",
    "        print(\"Two rows discarded\")\n",
    "    elif num == 3:\n",
    "        datos = df.iloc[3:]\n",
    "        dato = pd.DataFrame(datos) \n",
    "        print(\"Three rows discarded\")\n",
    "    else:\n",
    "        datos = df.iloc[4:]\n",
    "        dato = pd.DataFrame(datos)  \n",
    "        print(\"Rows discarded\")\n",
    "else: dato = pd.DataFrame(df)\n",
    "dato.head()"
   ]
  },
  {
   "cell_type": "code",
   "execution_count": 8,
   "metadata": {},
   "outputs": [],
   "source": [
    "# Rename column headers\n",
    "dato.columns = ['Transect', 'Point Number', 'Subclass', 'Northing', 'Easting', 'Altitude', 'Notes']"
   ]
  },
  {
   "cell_type": "code",
   "execution_count": 9,
   "metadata": {},
   "outputs": [],
   "source": [
    "# Filter for null values where Transect != NaN \n",
    "filter_dato = dato[dato['Transect'].notnull()]"
   ]
  },
  {
   "cell_type": "code",
   "execution_count": 10,
   "metadata": {},
   "outputs": [
    {
     "data": {
      "text/html": [
       "<div>\n",
       "<style scoped>\n",
       "    .dataframe tbody tr th:only-of-type {\n",
       "        vertical-align: middle;\n",
       "    }\n",
       "\n",
       "    .dataframe tbody tr th {\n",
       "        vertical-align: top;\n",
       "    }\n",
       "\n",
       "    .dataframe thead th {\n",
       "        text-align: right;\n",
       "    }\n",
       "</style>\n",
       "<table border=\"1\" class=\"dataframe\">\n",
       "  <thead>\n",
       "    <tr style=\"text-align: right;\">\n",
       "      <th></th>\n",
       "      <th>Transect</th>\n",
       "      <th>Point Number</th>\n",
       "      <th>Subclass</th>\n",
       "      <th>Northing</th>\n",
       "      <th>Easting</th>\n",
       "      <th>Altitude</th>\n",
       "      <th>Notes</th>\n",
       "      <th>Class</th>\n",
       "      <th>Raw Subclass</th>\n",
       "      <th>Pre Angle</th>\n",
       "      <th>Post Angle</th>\n",
       "      <th>mu</th>\n",
       "      <th>Class mu</th>\n",
       "      <th>Pre/Post</th>\n",
       "    </tr>\n",
       "  </thead>\n",
       "  <tbody>\n",
       "    <tr>\n",
       "      <th>3</th>\n",
       "      <td>1</td>\n",
       "      <td>1</td>\n",
       "      <td>31</td>\n",
       "      <td>4670394.505</td>\n",
       "      <td>357429.934</td>\n",
       "      <td>1.173</td>\n",
       "      <td>flowering - open</td>\n",
       "      <td></td>\n",
       "      <td></td>\n",
       "      <td></td>\n",
       "      <td></td>\n",
       "      <td></td>\n",
       "      <td></td>\n",
       "      <td></td>\n",
       "    </tr>\n",
       "    <tr>\n",
       "      <th>4</th>\n",
       "      <td>1</td>\n",
       "      <td>2</td>\n",
       "      <td>06ac</td>\n",
       "      <td>4670396.306</td>\n",
       "      <td>357431.119</td>\n",
       "      <td>1.195</td>\n",
       "      <td>flowering - open</td>\n",
       "      <td></td>\n",
       "      <td></td>\n",
       "      <td></td>\n",
       "      <td></td>\n",
       "      <td></td>\n",
       "      <td></td>\n",
       "      <td></td>\n",
       "    </tr>\n",
       "    <tr>\n",
       "      <th>5</th>\n",
       "      <td>1</td>\n",
       "      <td>3</td>\n",
       "      <td>06a</td>\n",
       "      <td>4670398.116</td>\n",
       "      <td>357432.198</td>\n",
       "      <td>1.234</td>\n",
       "      <td>flowering - open</td>\n",
       "      <td></td>\n",
       "      <td></td>\n",
       "      <td></td>\n",
       "      <td></td>\n",
       "      <td></td>\n",
       "      <td></td>\n",
       "      <td></td>\n",
       "    </tr>\n",
       "    <tr>\n",
       "      <th>6</th>\n",
       "      <td>1</td>\n",
       "      <td>4</td>\n",
       "      <td>06a</td>\n",
       "      <td>4670401.102</td>\n",
       "      <td>357434.414</td>\n",
       "      <td>1.272</td>\n",
       "      <td>flowering - tight</td>\n",
       "      <td></td>\n",
       "      <td></td>\n",
       "      <td></td>\n",
       "      <td></td>\n",
       "      <td></td>\n",
       "      <td></td>\n",
       "      <td></td>\n",
       "    </tr>\n",
       "    <tr>\n",
       "      <th>7</th>\n",
       "      <td>1</td>\n",
       "      <td>5</td>\n",
       "      <td>06a</td>\n",
       "      <td>4670402.771</td>\n",
       "      <td>357435.806</td>\n",
       "      <td>1.258</td>\n",
       "      <td>flowering - tight</td>\n",
       "      <td></td>\n",
       "      <td></td>\n",
       "      <td></td>\n",
       "      <td></td>\n",
       "      <td></td>\n",
       "      <td></td>\n",
       "      <td></td>\n",
       "    </tr>\n",
       "  </tbody>\n",
       "</table>\n",
       "</div>"
      ],
      "text/plain": [
       "  Transect Point Number Subclass     Northing     Easting Altitude  \\\n",
       "3        1            1       31  4670394.505  357429.934    1.173   \n",
       "4        1            2     06ac  4670396.306  357431.119    1.195   \n",
       "5        1            3      06a  4670398.116  357432.198    1.234   \n",
       "6        1            4      06a  4670401.102  357434.414    1.272   \n",
       "7        1            5      06a  4670402.771  357435.806    1.258   \n",
       "\n",
       "               Notes Class Raw Subclass Pre Angle Post Angle mu Class mu  \\\n",
       "3   flowering - open                                                       \n",
       "4   flowering - open                                                       \n",
       "5   flowering - open                                                       \n",
       "6  flowering - tight                                                       \n",
       "7  flowering - tight                                                       \n",
       "\n",
       "  Pre/Post  \n",
       "3           \n",
       "4           \n",
       "5           \n",
       "6           \n",
       "7           "
      ]
     },
     "execution_count": 10,
     "metadata": {},
     "output_type": "execute_result"
    }
   ],
   "source": [
    "# Create empty fields for transect angles, Class, and mapping unit\n",
    "\n",
    "filter_dato['Class'] = \"\"\n",
    "filter_dato[\"Raw Subclass\"] = \"\"\n",
    "filter_dato['Pre Angle'] = \"\"\n",
    "filter_dato['Post Angle'] = \"\"\n",
    "filter_dato['mu'] = \"\"\n",
    "filter_dato['Class mu'] = \"\"\n",
    "filter_dato[\"Pre/Post\"] = \"\"\n",
    "\n",
    "\n",
    "# Preview the data\n",
    "filter_dato.head()"
   ]
  },
  {
   "cell_type": "code",
   "execution_count": 11,
   "metadata": {},
   "outputs": [
    {
     "name": "stdout",
     "output_type": "stream",
     "text": [
      "Press Enter after confirming cell alters data as needed; stop running Notebook if not\n"
     ]
    }
   ],
   "source": [
    "# Use this cell to alter the data if needed\n",
    "\n",
    "input(\"Press Enter after confirming cell alters data as needed; stop running Notebook if not\")\n",
    "\n"
   ]
  },
  {
   "cell_type": "code",
   "execution_count": 13,
   "metadata": {},
   "outputs": [],
   "source": [
    "# Convert any strings to floats or ints\n",
    "\n",
    "filter_dato['Point Number'] = list(map(int, filter_dato['Point Number']))\n",
    "filter_dato['Northing'] = list(map(float, filter_dato['Northing']))\n",
    "filter_dato['Easting'] = list(map(float, filter_dato['Easting']))\n",
    "filter_dato['Altitude'] = list(map(float, filter_dato['Altitude']))"
   ]
  },
  {
   "cell_type": "code",
   "execution_count": 14,
   "metadata": {},
   "outputs": [],
   "source": [
    "# Define variables of lists of coordinates of current, before, and after coordinates\n",
    "# This will be used to calculate angle from one point to the next\n",
    "\n",
    "y = 0\n",
    "precoordN = []\n",
    "for x in filter_dato.iterrows():\n",
    "    precoordN.append(filter_dato['Northing'].iloc[y-1])\n",
    "    y += 1\n",
    "y = 0\n",
    "precoordE = []\n",
    "for x in filter_dato.iterrows():\n",
    "    precoordE.append(filter_dato['Easting'].iloc[y-1])\n",
    "    y += 1\n",
    "y = 0\n",
    "currcoordN = []\n",
    "for x in filter_dato.iterrows():\n",
    "    currcoordN.append(filter_dato['Northing'].iloc[y])\n",
    "    y += 1\n",
    "y = 0\n",
    "currcoordE = []\n",
    "for x in filter_dato.iterrows():\n",
    "    currcoordE.append(filter_dato['Easting'].iloc[y])\n",
    "    y += 1\n",
    "y = 0\n",
    "postcoordN = []\n",
    "for x in filter_dato.iterrows():\n",
    "    if y+1 < len(filter_dato):\n",
    "        postcoordN.append(filter_dato['Northing'].iloc[y+1])\n",
    "        y += 1\n",
    "    else: break\n",
    "y = 0\n",
    "postcoordE = []\n",
    "for x in filter_dato.iterrows():\n",
    "    if y+1 < len(filter_dato):\n",
    "        postcoordE.append(filter_dato['Easting'].iloc[y+1])\n",
    "        y += 1\n",
    "    else: break"
   ]
  },
  {
   "cell_type": "code",
   "execution_count": 15,
   "metadata": {},
   "outputs": [],
   "source": [
    "# # Convert any strings to floats\n",
    "\n",
    "# precoordN = list(map(float, precoordN))\n",
    "# precoordE = list(map(float, precoordE))\n",
    "# currcoordN = list(map(float, currcoordN))\n",
    "# currcoordE = list(map(float, currcoordE))\n",
    "# postcoordN = list(map(float, postcoordN))\n",
    "# postcoordE = list(map(float, postcoordE))"
   ]
  },
  {
   "cell_type": "code",
   "execution_count": 16,
   "metadata": {},
   "outputs": [],
   "source": [
    "# Append calculated angles to lists\n",
    "y = 0\n",
    "preAngle = []\n",
    "for i in filter_dato.iterrows():\n",
    "    if y-1 < 0:\n",
    "        preAngle.append(0)\n",
    "        y += 1\n",
    "    else:\n",
    "        myradians = math.atan2(currcoordN[y]-precoordN[y], currcoordE[y]-precoordE[y])\n",
    "        mydegrees = math.degrees(myradians)\n",
    "        preAngle.append(mydegrees)\n",
    "        y += 1\n",
    "\n",
    "y = 0\n",
    "postAngle = []\n",
    "for i in filter_dato.iterrows():\n",
    "    if y+1 < len(filter_dato):\n",
    "        myradians = math.atan2(postcoordN[y]-currcoordN[y], postcoordE[y]-currcoordE[y])\n",
    "        mydegrees = math.degrees(myradians)\n",
    "        postAngle.append(mydegrees)\n",
    "        y += 1\n",
    "    else: \n",
    "        postAngle.append(0)\n",
    "        y += 1       "
   ]
  },
  {
   "cell_type": "code",
   "execution_count": 17,
   "metadata": {},
   "outputs": [],
   "source": [
    "# Parse out Class from Subclass and append to new list\n",
    "\n",
    "classe = []\n",
    "y = 0\n",
    "for i in filter_dato.iterrows():\n",
    "    if filter_dato['Subclass'].iloc[y][:1] == \"0\" or filter_dato['Subclass'].iloc[y][:1] == \"1\":\n",
    "        classe.append(1)\n",
    "        y += 1\n",
    "    elif filter_dato['Subclass'].iloc[y][:1] == \"2\":\n",
    "        classe.append(2)\n",
    "        y += 1\n",
    "    elif filter_dato['Subclass'].iloc[y][:1] == \"3\":\n",
    "        classe.append(3)\n",
    "        y += 1"
   ]
  },
  {
   "cell_type": "code",
   "execution_count": 18,
   "metadata": {},
   "outputs": [],
   "source": [
    "# Parse out Raw Subclass data with only letters - no attribute letters\n",
    "\n",
    "subraw = []\n",
    "y = 0\n",
    "for i in filter_dato[\"Subclass\"]:\n",
    "    subraw.append(str(i[:2]))"
   ]
  },
  {
   "cell_type": "code",
   "execution_count": 19,
   "metadata": {},
   "outputs": [],
   "source": [
    "# Add lists to empty columns\n",
    "\n",
    "filter_dato['Pre Angle'] = preAngle\n",
    "filter_dato['Post Angle'] = postAngle\n",
    "filter_dato['Class'] = classe\n",
    "filter_dato[\"Raw Subclass\"] = subraw"
   ]
  },
  {
   "cell_type": "code",
   "execution_count": 20,
   "metadata": {},
   "outputs": [],
   "source": [
    "# Create new shapefile for Points that do not create a line\n",
    "y = 0\n",
    "muList = []\n",
    "\n",
    "# for loop to write point for every mapping unit\n",
    "for feat in filter_dato.iterrows():\n",
    "    # Create if statement so you y is never > the length of your data set; this will end your script\n",
    "    if y + 1 < len(filter_dato):\n",
    "        if filter_dato['Raw Subclass'].iloc[y] == \"13\":\n",
    "            muList.append(1)\n",
    "        else:\n",
    "            if muCheck(y, filter_dato) == 2:\n",
    "                muList.append(1)\n",
    "\n",
    "\n",
    "\n",
    "                y += 1\n",
    "            else: \n",
    "                muList.append(0)\n",
    "                y += 1\n",
    "    else:\n",
    "        muList.append(1)\n",
    "        \n",
    "# Repeart for Class mapping units\n",
    "\n",
    "y = 0\n",
    "ClassmuList = []\n",
    "for feat in filter_dato.iterrows():\n",
    "    if y + 1 < len(filter_dato):\n",
    "        if muClassCheck(y, filter_dato) == 2:\n",
    "            ClassmuList.append(1)\n",
    "            \n",
    "            \n",
    "\n",
    "            y += 1\n",
    "        else: \n",
    "            ClassmuList.append(0)\n",
    "            y += 1\n",
    "    else:\n",
    "        ClassmuList.append(1)"
   ]
  },
  {
   "cell_type": "code",
   "execution_count": 21,
   "metadata": {},
   "outputs": [],
   "source": [
    "# Append muList to dataframe\n",
    "filter_dato['mu'] = muList\n",
    "filter_dato['Class mu'] = ClassmuList"
   ]
  },
  {
   "cell_type": "code",
   "execution_count": 22,
   "metadata": {},
   "outputs": [
    {
     "name": "stdout",
     "output_type": "stream",
     "text": [
      "Keep value as zero if the last point in the data is not a mapping unit. Press Enter. \n"
     ]
    },
    {
     "name": "stderr",
     "output_type": "stream",
     "text": [
      "C:\\Users\\brett\\anaconda3\\envs\\CAFE\\lib\\site-packages\\ipykernel_launcher.py:2: SettingWithCopyWarning: \n",
      "A value is trying to be set on a copy of a slice from a DataFrame\n",
      "\n",
      "See the caveats in the documentation: https://pandas.pydata.org/pandas-docs/stable/user_guide/indexing.html#returning-a-view-versus-a-copy\n",
      "  \n"
     ]
    }
   ],
   "source": [
    "input(\"Keep value as zero if the last point in the data is not a mapping unit. Press Enter. \")\n",
    "filter_dato['mu'][-1:] = 1"
   ]
  },
  {
   "cell_type": "code",
   "execution_count": 23,
   "metadata": {},
   "outputs": [],
   "source": [
    "# Create for loop to create list of pre or post to append to dataframe\n",
    "# This angle determines the angle the mapping unit should be rotated\n",
    "\n",
    "y = 0\n",
    "prepost = []\n",
    "\n",
    "for i in filter_dato.iterrows():\n",
    "    if y + 1 < len(filter_dato):\n",
    "        pp = prepostCheck(y, filter_dato)\n",
    "        prepost.append(pp)\n",
    "        y += 1\n",
    "    else: prepost.append(\"pre\")"
   ]
  },
  {
   "cell_type": "code",
   "execution_count": 24,
   "metadata": {},
   "outputs": [],
   "source": [
    "# Append prepost list to dataframe\n",
    "\n",
    "filter_dato[\"Pre/Post\"] = prepost"
   ]
  },
  {
   "cell_type": "code",
   "execution_count": 25,
   "metadata": {},
   "outputs": [],
   "source": [
    "# Create QGIS XY Point Data into a List based on coordinates\n",
    "point_list = [QgsPointXY(r['Easting'], r['Northing']) for i, r in filter_dato.iterrows() ]"
   ]
  },
  {
   "cell_type": "code",
   "execution_count": 26,
   "metadata": {},
   "outputs": [],
   "source": [
    "# Create Multipoint list\n",
    "points = QgsGeometry.fromMultiPointXY(point_list)"
   ]
  },
  {
   "cell_type": "markdown",
   "metadata": {},
   "source": [
    "Create the XY Point Shapefile"
   ]
  },
  {
   "cell_type": "code",
   "execution_count": 27,
   "metadata": {},
   "outputs": [
    {
     "data": {
      "text/plain": [
       "True"
      ]
     },
     "execution_count": 27,
     "metadata": {},
     "output_type": "execute_result"
    }
   ],
   "source": [
    "# Create fields with correct data types\n",
    "\n",
    "layerFields = QgsFields()\n",
    "layerFields.append(QgsField('Transect', QVariant.String))\n",
    "layerFields.append(QgsField('PointNum', QVariant.Int))\n",
    "layerFields.append(QgsField('SubClass', QVariant.String))\n",
    "layerFields.append(QgsField('Northing', QVariant.Double))\n",
    "layerFields.append(QgsField('Easting', QVariant.Double))\n",
    "layerFields.append(QgsField('Altitude', QVariant.Double))\n",
    "layerFields.append(QgsField('Notes', QVariant.String))\n",
    "layerFields.append(QgsField('Class', QVariant.Int))\n",
    "layerFields.append(QgsField('Raw Subclass', QVariant.String))\n",
    "layerFields.append(QgsField('Pre Angle', QVariant.Double))\n",
    "layerFields.append(QgsField('Post Angle', QVariant.Double))\n",
    "layerFields.append(QgsField('mu', QVariant.Int))\n",
    "layerFields.append(QgsField('Class mu', QVariant.Int))\n",
    "layerFields.append(QgsField('Pre/Post', QVariant.String))\n",
    "\n"
   ]
  },
  {
   "cell_type": "code",
   "execution_count": 28,
   "metadata": {},
   "outputs": [],
   "source": [
    "# Set attributes by assigning to list assigned to variable\n",
    "attributeList = [filter_dato['Transect'].iloc[y], \\\n",
    "                 int(filter_dato['Point Number'].iloc[y]), \\\n",
    "                 filter_dato['Subclass'].iloc[y], \\\n",
    "                 filter_dato['Northing'].iloc[y].item(), \\\n",
    "                 filter_dato['Easting'].iloc[y].item(), \\\n",
    "                 filter_dato['Altitude'].iloc[y].item(), \\\n",
    "                 filter_dato['Notes'].iloc[y], \\\n",
    "                 filter_dato['Class'].iloc[y].item(), \\\n",
    "                 filter_dato['Raw Subclass'].iloc[y], \\\n",
    "                 filter_dato['Pre Angle'].iloc[y].item(), \\\n",
    "                 filter_dato['Post Angle'].iloc[y].item(), \\\n",
    "                 filter_dato['mu'].iloc[y].item(),  \\\n",
    "                 filter_dato['Class mu'].iloc[y].item(), \\\n",
    "                 filter_dato['Pre/Post'].iloc[y]]"
   ]
  },
  {
   "cell_type": "code",
   "execution_count": 29,
   "metadata": {},
   "outputs": [],
   "source": [
    "# Write XY Point Data for each row in .csv\n",
    "# Specify output to variable\n",
    "XY_Output_Path = XY_Points_Folder"
   ]
  },
  {
   "cell_type": "code",
   "execution_count": 30,
   "metadata": {},
   "outputs": [
    {
     "name": "stderr",
     "output_type": "stream",
     "text": [
      "C:\\Users\\brett\\anaconda3\\envs\\CAFE\\lib\\site-packages\\ipykernel_launcher.py:7: DeprecationWarning: QgsVectorFileWriter constructor is deprecated\n",
      "  import sys\n"
     ]
    }
   ],
   "source": [
    "# Use for loop to create shapefile\n",
    "y = 0\n",
    "for x in filter_dato.itertuples():\n",
    "    # Specify file output and name of .shp\n",
    "    file = XY_Output_Path + \"\\XYPoint\" + str(y) + \".shp\"\n",
    "    # Set type (QgsWkbTypes.), CRS (EPSG:26919), and type of file (ESRI Shapefile)\n",
    "    writer = QgsVectorFileWriter(file, 'UTF-8', layerFields, QgsWkbTypes.MultiPoint, QgsCoordinateReferenceSystem('EPSG:26919'), 'ESRI Shapefile')\n",
    "    # Appends X and Y coordinates to variable 'point1' at the y position (starts at 0 and adds 1 for each iteration of the for loop)\n",
    "    point1 = QgsGeometry.fromPointXY(point_list[y])\n",
    "    # Create an empty feature\n",
    "    feat = QgsFeature()\n",
    "    # Set feature's geometry to that of point1\n",
    "    feat.setGeometry(point1)\n",
    "    # Set values from dataframe to attributes\n",
    "    # Values will be applied in the order you created the layerFields\n",
    "    feat.setAttributes([filter_dato['Transect'].iloc[y], \\\n",
    "                 int(filter_dato['Point Number'].iloc[y]), \\\n",
    "                 filter_dato['Subclass'].iloc[y], \\\n",
    "                 filter_dato['Northing'].iloc[y].item(), \\\n",
    "                 filter_dato['Easting'].iloc[y].item(), \\\n",
    "                 filter_dato['Altitude'].iloc[y].item(), \\\n",
    "                 filter_dato['Notes'].iloc[y], \\\n",
    "                 filter_dato['Class'].iloc[y].item(), \\\n",
    "                 filter_dato['Raw Subclass'].iloc[y], \\\n",
    "                 filter_dato['Pre Angle'].iloc[y].item(), \\\n",
    "                 filter_dato['Post Angle'].iloc[y].item(), \\\n",
    "                 filter_dato['mu'].iloc[y].item(),  \\\n",
    "                 filter_dato['Class mu'].iloc[y].item(), \\\n",
    "                 filter_dato['Pre/Post'].iloc[y]])\n",
    "    # Add 1 to y to continue through the dataframe during next for loop\n",
    "    y += 1\n",
    "    # write the feature\n",
    "    writer.addFeature(feat)\n",
    "\n",
    "del(writer)"
   ]
  },
  {
   "cell_type": "markdown",
   "metadata": {},
   "source": [
    "Concatenate all XY Point shapefiles into a single shapefile"
   ]
  },
  {
   "cell_type": "code",
   "execution_count": 31,
   "metadata": {},
   "outputs": [],
   "source": [
    "# Specify which folder to look in\n",
    "file = os.listdir(XY_Output_Path)\n",
    "\n",
    "# Look for all files ending in \".shp\"\n",
    "path = [os.path.join(XY_Output_Path, i) for i in file if \".shp\" in i]\n",
    "\n",
    "# Concatenate to file specified in last line of code\n",
    "gdf = gpd.GeoDataFrame(pd.concat([gpd.read_file(i) for i in path],\n",
    "                        ignore_index=True), crs=gpd.read_file(path[0]).crs)\n",
    "# Write to same folder + name of new folder to be created which will include the shapefile of compiled XY Points\n",
    "XY_Points_Comp = \"\\XY_Points_Comp\""
   ]
  },
  {
   "cell_type": "code",
   "execution_count": 32,
   "metadata": {},
   "outputs": [],
   "source": [
    "# Write concatenated files to output path\n",
    "gdf.to_file(XY_Output_Path + XY_Points_Comp )"
   ]
  },
  {
   "cell_type": "code",
   "execution_count": 33,
   "metadata": {},
   "outputs": [],
   "source": [
    "# Sort shapefile by Point Number attribute\n",
    "# Assign XY_Points__Outfile to where the sorted compiled XY Points will be saved\n",
    "XY_Points_outfile = XY_Output_Path + XY_Points_Comp + \"\\\\XY_Points_Comp_Sort.shp\"\n",
    "# Designate which compiled shapefile will be sorted\n",
    "filePath = XY_Output_Path + XY_Points_Comp + XY_Points_Comp + \".shp\"\n",
    "# Use geopandas to read in shapefile - Append read shapefile to variable 'shape'\n",
    "shape = gpd.read_file(filePath)\n",
    "# Sort based on Point Number\n",
    "shape_sort = shape.iloc[shape['PointNum'].sort_values().index.values]"
   ]
  },
  {
   "cell_type": "code",
   "execution_count": 34,
   "metadata": {},
   "outputs": [],
   "source": [
    "# Re-write file back out as sorted compiled shapefile\n",
    "shape_sort.to_file(driver = 'ESRI Shapefile', filename = XY_Points_outfile)"
   ]
  },
  {
   "cell_type": "markdown",
   "metadata": {},
   "source": [
    "Create PolyLine Shapefile"
   ]
  },
  {
   "cell_type": "code",
   "execution_count": 35,
   "metadata": {},
   "outputs": [],
   "source": [
    "# Specify empty folder to put the Line files in\n",
    "linesFolder = Lines_Folder\n",
    "classlinesFolder = Class_Lines_Folder"
   ]
  },
  {
   "cell_type": "code",
   "execution_count": 59,
   "metadata": {},
   "outputs": [],
   "source": [
    "# create variable to iterate through\n",
    "shape = fiona.open(XY_Points_outfile)"
   ]
  },
  {
   "cell_type": "code",
   "execution_count": 60,
   "metadata": {},
   "outputs": [
    {
     "name": "stderr",
     "output_type": "stream",
     "text": [
      "C:\\Users\\brett\\anaconda3\\envs\\CAFE\\lib\\site-packages\\ipykernel_launcher.py:12: DeprecationWarning: QgsVectorFileWriter constructor is deprecated\n",
      "  if sys.path[0] == '':\n"
     ]
    }
   ],
   "source": [
    "# Create lines based on subclasses\n",
    "\n",
    "# for loop to write line file between every 2 sequential points with matching sublass\n",
    "y = 0\n",
    "for feat in shape:\n",
    "    # Create if statement so you y is never > the length of your data set; this will end your script\n",
    "    if y + 1 < len(filter_dato):\n",
    "        # What file to write\n",
    "        file = linesFolder + \"\\line_\" + str(y) + \".shp\"\n",
    "        # Same as previous writer, except QgsWkbTypes. is LineString\n",
    "        writer = QgsVectorFileWriter(file, 'UTF-8', layerFields, QgsWkbTypes.LineString, \\\n",
    "                                 QgsCoordinateReferenceSystem('EPSG:26919'), 'ESRI Shapefile')\n",
    "        # y point in point_list will act as the start of the line\n",
    "        lineStart = point_list[y]\n",
    "        # y + 1 point in point_list will act as the end of the line\n",
    "        lineEnd = point_list[y+1]\n",
    "        # Creates line based on the start and end points previously specified\n",
    "        line = QgsGeometry.fromPolylineXY([lineStart, lineEnd])\n",
    "        # Create empty feature for line\n",
    "        linef = QgsFeature()\n",
    "        # Set geometry to previously created PolyLine\n",
    "        linef.setGeometry(line)\n",
    "        # Append attributes from dataframe\n",
    "        # Since the Line will consist of 2 points, both points' attributes must be stored in the line\n",
    "        linef.setAttributes([filter_dato['Transect'].iloc[y], \\\n",
    "                 int(filter_dato['Point Number'].iloc[y]), \\\n",
    "                 filter_dato['Subclass'].iloc[y], \\\n",
    "                 filter_dato['Northing'].iloc[y].item(), \\\n",
    "                 filter_dato['Easting'].iloc[y].item(), \\\n",
    "                 filter_dato['Altitude'].iloc[y].item(), \\\n",
    "                 filter_dato['Notes'].iloc[y], \\\n",
    "                 filter_dato['Class'].iloc[y].item(), \\\n",
    "                 filter_dato['Raw Subclass'].iloc[y], \\\n",
    "                 filter_dato['Pre Angle'].iloc[y].item(), \\\n",
    "                 filter_dato['Post Angle'].iloc[y].item(), \\\n",
    "                 filter_dato['mu'].iloc[y].item(),  \\\n",
    "                 filter_dato['Class mu'].iloc[y].item(), \\\n",
    "                 filter_dato['Pre/Post'].iloc[y]])\n",
    "        # if statement so a line is only written if it belongs to the same transect\n",
    "        if filter_dato['Subclass'].iloc[y][:2] == filter_dato['Subclass'].iloc[y+1][:2] and transectCheck(y,filter_dato) == 1:\n",
    "            if filter_dato['mu'].iloc[y] == 1:\n",
    "                y +=1\n",
    "            else:\n",
    "                writer.addFeature(linef)\n",
    "                y += 1\n",
    "        else:\n",
    "            y += 1\n",
    "    else: break\n",
    "del(writer)"
   ]
  },
  {
   "cell_type": "code",
   "execution_count": 38,
   "metadata": {},
   "outputs": [],
   "source": [
    "# # Create lines based on Class\n",
    "\n",
    "# # for loop to write line file between every 2 sequential points with matching Class\n",
    "# y = 0\n",
    "# for feat in shape:\n",
    "#     # Create if statement so you y is never > the length of your data set; this will end your script\n",
    "#     if y + 1 < len(filter_dato):\n",
    "#         # What file to write\n",
    "#         file = classlinesFolder + \"\\line_\" + str(y) + \".shp\"\n",
    "#         # Same as previous writer, except QgsWkbTypes. is LineString\n",
    "#         writer = QgsVectorFileWriter(file, 'UTF-8', layerFields, QgsWkbTypes.LineString, \\\n",
    "#                                  QgsCoordinateReferenceSystem('EPSG:26919'), 'ESRI Shapefile')\n",
    "#         # y point in point_list will act as the start of the line\n",
    "#         lineStart = point_list[y]\n",
    "#         # y + 1 point in point_list will act as the end of the line\n",
    "#         lineEnd = point_list[y+1]\n",
    "#         # Creates line based on the start and end points previously specified\n",
    "#         line = QgsGeometry.fromPolylineXY([lineStart, lineEnd])\n",
    "#         # Create empty feature for line\n",
    "#         linef = QgsFeature()\n",
    "#         # Set geometry to previously created PolyLine\n",
    "#         linef.setGeometry(line)\n",
    "#         # Append attributes from dataframe\n",
    "#         # Since the Line will consist of 2 points, both points' attributes must be stored in the line\n",
    "#         linef.setAttributes([filter_dato['Transect'].iloc[y], \\\n",
    "#                  int(filter_dato['Point Number'].iloc[y]), \\\n",
    "#                  filter_dato['Subclass'].iloc[y], \\\n",
    "#                  filter_dato['Northing'].iloc[y].item(), \\\n",
    "#                  filter_dato['Easting'].iloc[y].item(), \\\n",
    "#                  filter_dato['Altitude'].iloc[y].item(), \\\n",
    "#                  filter_dato['Notes'].iloc[y], \\\n",
    "#                  filter_dato['Class'].iloc[y].item(), \\\n",
    "#                  filter_dato['Raw Subclass'].iloc[y], \\\n",
    "#                  filter_dato['Pre Angle'].iloc[y].item(), \\\n",
    "#                  filter_dato['Post Angle'].iloc[y].item(), \\\n",
    "#                  filter_dato['mu'].iloc[y].item(),  \\\n",
    "#                  filter_dato['Class mu'].iloc[y].item(), \\\n",
    "#                  filter_dato['Pre/Post'].iloc[y]])\n",
    "#         # if statement so a line is only written if it belongs to the same transect\n",
    "#         if filter_dato['Class'].iloc[y] == filter_dato['Class'].iloc[y+1] and transectCheck(y,filter_dato) == 1:\n",
    "#             writer.addFeature(linef)\n",
    "#             y += 1\n",
    "#         else:\n",
    "#             y += 1\n",
    "#     else: break\n",
    "# del(writer)"
   ]
  },
  {
   "cell_type": "code",
   "execution_count": 39,
   "metadata": {},
   "outputs": [
    {
     "name": "stderr",
     "output_type": "stream",
     "text": [
      "C:\\Users\\brett\\anaconda3\\envs\\CAFE\\lib\\site-packages\\ipykernel_launcher.py:18: DeprecationWarning: QgsVectorFileWriter constructor is deprecated\n"
     ]
    }
   ],
   "source": [
    "# Create mapping units based on subclasses\n",
    "\n",
    "# Create new shapefile for Points that do not create a line\n",
    "\n",
    "y = 0\n",
    "shape = gpd.read_file(XY_Points_outfile)\n",
    "muList2 = filter_dato['mu'].to_list()\n",
    "\n",
    "# for loop to write point for every mapping unit\n",
    "for i in muList2:\n",
    "    # Create if statement so you y is never > the length of your data set; this will end your script\n",
    "    if i == 1:\n",
    "            \n",
    "        # What file to write\n",
    "        file = mu_Folder + \"\\mu_\" + str(y) + \".shp\"\n",
    "        # Same as previous writer, except QgsWkbTypes. is Polygon\n",
    "        writer = QgsVectorFileWriter(file, 'UTF-8', layerFields, QgsWkbTypes.MultiPoint, \\\n",
    "                                QgsCoordinateReferenceSystem('EPSG:26919'), 'ESRI Shapefile')\n",
    "        poly1 = QgsGeometry.fromPointXY(point_list[y])\n",
    "        feat1 = QgsFeature()\n",
    "        feat1.setGeometry(poly1)\n",
    "        feat1.setAttributes([filter_dato['Transect'].iloc[y], \\\n",
    "                 int(filter_dato['Point Number'].iloc[y]), \\\n",
    "                 filter_dato['Subclass'].iloc[y], \\\n",
    "                 filter_dato['Northing'].iloc[y].item(), \\\n",
    "                 filter_dato['Easting'].iloc[y].item(), \\\n",
    "                 filter_dato['Altitude'].iloc[y].item(), \\\n",
    "                 filter_dato['Notes'].iloc[y], \\\n",
    "                 filter_dato['Class'].iloc[y].item(), \\\n",
    "                 filter_dato['Raw Subclass'].iloc[y], \\\n",
    "                 filter_dato['Pre Angle'].iloc[y].item(), \\\n",
    "                 filter_dato['Post Angle'].iloc[y].item(), \\\n",
    "                 filter_dato['mu'].iloc[y].item(),  \\\n",
    "                 filter_dato['Class mu'].iloc[y].item(), \\\n",
    "                 filter_dato['Pre/Post'].iloc[y]])\n",
    "        y += 1\n",
    "        writer.addFeature(feat1)\n",
    "    else: \n",
    "        y += 1\n",
    "del(writer)"
   ]
  },
  {
   "cell_type": "code",
   "execution_count": 61,
   "metadata": {},
   "outputs": [],
   "source": [
    "# Create list of folders that contain newly created shapefiles to iterate through\n",
    "concat_list = [linesFolder, mu_Folder]\n",
    "n = 0\n",
    "\n",
    "for i in concat_list:\n",
    "    file = os.listdir(i)\n",
    "    path = [os.path.join(i, x) for x in file if \".shp\" in x]\n",
    "    gdf = gpd.GeoDataFrame(pd.concat([gpd.read_file(x) for x in path],\n",
    "                                    ignore_index=True), crs=gpd.read_file(path[0]).crs)\n",
    "    if n == 0: gdf.to_file(i + \"\\\\Lines_Comp\")\n",
    "    elif n == 1: gdf.to_file(i + \"\\\\Class_Lines_Comp\")\n",
    "    else: gdf.to_file(i + \"\\\\mu_Comp\")\n",
    "    \n",
    "    n += 1"
   ]
  },
  {
   "cell_type": "code",
   "execution_count": 62,
   "metadata": {},
   "outputs": [],
   "source": [
    "concat_fileList = [linesFolder + \"\\\\Lines_Comp\\\\Lines_Comp.shp\",\n",
    "                   mu_Folder + \"\\\\mu_Comp\\\\mu_Comp.shp\"]"
   ]
  },
  {
   "cell_type": "code",
   "execution_count": 43,
   "metadata": {},
   "outputs": [
    {
     "data": {
      "text/plain": [
       "['G:\\\\.shortcut-targets-by-id\\\\0B6-MI-dco6FLWkZmTDZ4MFhRU1k\\\\SaltMUAS_share\\\\EPA Salt Marsh UAS Study\\\\North River\\\\Jupyter_Working_Folder\\\\NR_21_Aug_2019\\\\Lines\\\\Lines_Comp\\\\Lines_Comp.shp',\n",
       " 'G:\\\\.shortcut-targets-by-id\\\\0B6-MI-dco6FLWkZmTDZ4MFhRU1k\\\\SaltMUAS_share\\\\EPA Salt Marsh UAS Study\\\\North River\\\\Jupyter_Working_Folder\\\\NR_21_Aug_2019\\\\mu\\\\mu_Comp\\\\mu_Comp.shp']"
      ]
     },
     "execution_count": 43,
     "metadata": {},
     "output_type": "execute_result"
    }
   ],
   "source": [
    "concat_fileList"
   ]
  },
  {
   "cell_type": "markdown",
   "metadata": {},
   "source": [
    "Buffer time"
   ]
  },
  {
   "cell_type": "code",
   "execution_count": 63,
   "metadata": {},
   "outputs": [],
   "source": [
    "# Buffer lines\n",
    "\n",
    "# Assign empty folder to variable to write new file to\n",
    "linesBufferFolder = Buffer_Folder\n",
    "# Read in line shapefile of transects\n",
    "lines= gpd.read_file(concat_fileList[0])\n",
    "# Assign buffer and keep attributes\n",
    "lines['geometry'] = lines.buffer(1, cap_style=3)\n",
    "# Write new shapefile\n",
    "lines.to_file(linesBufferFolder + \"\\\\Lines_Buffer\")\n",
    "\n",
    "# # Buffer Class lines\n",
    "\n",
    "# # Assign empty folder to variable to write new file to\n",
    "# classlinesBufferFolder = Class_Buffer_Folder\n",
    "# # Read in line shapefile of transects\n",
    "# lines= gpd.read_file(concat_fileList[1])\n",
    "# # Assign buffer and keep attributes\n",
    "# lines['geometry'] = lines.buffer(1, cap_style=3)\n",
    "# # Write new shapefile\n",
    "# lines.to_file(classlinesBufferFolder + \"\\\\Class_Lines_Buffer\")"
   ]
  },
  {
   "cell_type": "code",
   "execution_count": 64,
   "metadata": {},
   "outputs": [],
   "source": [
    "# Buffer the mapping units\n",
    "\n",
    "# Specify which folder to look in to buffer mu\n",
    "file = os.listdir(mu_Folder)\n",
    "\n",
    "# Assign empty folder to variable to write new file to\n",
    "muBufferFolder = mu_Buffer_Folder\n",
    "\n",
    "# Begin buffer by iterating through each mapping unit\n",
    "path = [os.path.join(mu_Folder, i) for i in file if \".shp\" in i]\n",
    "y = 0\n",
    "for i in path:\n",
    "    mus = gpd.read_file(path[y])\n",
    "    if mus['Pre/Post'][0] == \"post\": \n",
    "        mus['geometry'] = mus.buffer(1, cap_style=3).rotate(mus[\"Post Angle\"][0], origin='center')\n",
    "        mus.to_file(muBufferFolder + \"\\\\mu_\" + str(mus[\"PointNum\"][0]) + \"_Buffer.shp\")\n",
    "    else: \n",
    "        mus['geometry'] = mus.buffer(1, cap_style=3).rotate(mus[\"Pre Angle\"][0], origin='center')\n",
    "        mus.to_file(muBufferFolder + \"\\\\mu_\" + str(mus[\"PointNum\"][0]) + \"_Buffer.shp\")\n",
    "    y += 1\n"
   ]
  },
  {
   "cell_type": "code",
   "execution_count": 65,
   "metadata": {},
   "outputs": [],
   "source": [
    "# Concatenate mapping units\n",
    "\n",
    "# Specify which folder to look in to compile mu\n",
    "file = os.listdir(muBufferFolder)\n",
    "\n",
    "# Look for all files ending in \".shp\"\n",
    "path = [os.path.join(muBufferFolder, i) for i in file if \".shp\" in i]\n",
    "\n",
    "# Concatenate to file specified in last line of code\n",
    "gdf = gpd.GeoDataFrame(pd.concat([gpd.read_file(i) for i in path],\n",
    "                        ignore_index=True), crs=gpd.read_file(path[0]).crs)\n",
    "# Write to same folder + name of new folder to be created which will include the shapefile of compiled XY Points\n",
    "# Variable below is the suffix to add to linesFolder to specify folder to store compiled line files\n",
    "muCompSuff = \"\\\\mu_Comp\"\n",
    "gdf.to_file(muBufferFolder + muCompSuff)"
   ]
  },
  {
   "cell_type": "markdown",
   "metadata": {},
   "source": [
    "Erase the Duplicate Overlapping Dat"
   ]
  },
  {
   "cell_type": "code",
   "execution_count": 66,
   "metadata": {},
   "outputs": [],
   "source": [
    "# Import libraries needed for erase\n",
    "\n",
    "from itertools import combinations\n",
    "from shapely.geometry import LineString\n",
    "import matplotlib"
   ]
  },
  {
   "cell_type": "code",
   "execution_count": 67,
   "metadata": {},
   "outputs": [],
   "source": [
    "# Read in transect polygons as GeoDataFrame\n",
    "\n",
    "polygdf = gpd.GeoDataFrame.from_file(linesBufferFolder + \"\\\\Lines_Buffer\")"
   ]
  },
  {
   "cell_type": "code",
   "execution_count": 68,
   "metadata": {},
   "outputs": [],
   "source": [
    "# Use itertools to iterate through all polys within shapefile by combination\n",
    "\n",
    "for p1_idx, p2_idx in combinations(polygdf.geometry.index, 2):\n",
    "    if polygdf.geometry.loc[p1_idx].intersects(polygdf.geometry.loc[p2_idx]):\n",
    "        # Store intermediary results back to poly\n",
    "        polygdf.geometry.loc[p2_idx] -= polygdf.geometry.loc[p1_idx]\n",
    "# polygdf is now saved with the new geometry where it does not overlap itself"
   ]
  },
  {
   "cell_type": "code",
   "execution_count": 69,
   "metadata": {},
   "outputs": [
    {
     "data": {
      "text/plain": [
       "<AxesSubplot:>"
      ]
     },
     "execution_count": 69,
     "metadata": {},
     "output_type": "execute_result"
    },
    {
     "data": {
      "image/png": "[encoded data removed]",
      "text/plain": [
       "<Figure size 432x288 with 1 Axes>"
      ]
     },
     "metadata": {
      "needs_background": "light"
     },
     "output_type": "display_data"
    }
   ],
   "source": [
    "# Preview polygons using matplotlib\n",
    "polygdf.plot(alpha=0.75, cmap=\"tab10\")"
   ]
  },
  {
   "cell_type": "code",
   "execution_count": 70,
   "metadata": {},
   "outputs": [],
   "source": [
    "mugdf = gpd.GeoDataFrame.from_file(muBufferFolder + muCompSuff)"
   ]
  },
  {
   "cell_type": "code",
   "execution_count": 71,
   "metadata": {},
   "outputs": [],
   "source": [
    "for mu_idx in mugdf.geometry.index:\n",
    "    for p1_idx in polygdf.geometry.index:\n",
    "        if mugdf.geometry.loc[mu_idx].intersects(polygdf.geometry.loc[p1_idx]):\n",
    "            # Store intermediary results back to poly\n",
    "            polygdf.geometry.loc[p1_idx] -= mugdf.geometry.loc[mu_idx]"
   ]
  },
  {
   "cell_type": "code",
   "execution_count": 72,
   "metadata": {},
   "outputs": [],
   "source": [
    "# Erase overlapping mapping untis\n",
    "\n",
    "for p1_idx, p2_idx in combinations(mugdf.geometry.index, 2):\n",
    "    if mugdf.geometry.loc[p1_idx].intersects(mugdf.geometry.loc[p2_idx]):\n",
    "        # Store intermediary results back to poly\n",
    "        mugdf.geometry.loc[p2_idx] -= mugdf.geometry.loc[p1_idx]\n",
    "# mugdf is now saved with the new geometry where it does not overlap itself"
   ]
  },
  {
   "cell_type": "markdown",
   "metadata": {},
   "source": [
    "Begin Final File Output"
   ]
  },
  {
   "cell_type": "code",
   "execution_count": 73,
   "metadata": {},
   "outputs": [
    {
     "name": "stdout",
     "output_type": "stream",
     "text": [
      "Enter Path of Site in UAS Data Collection (and Year if Applicable) to Write Final Output --- \"G:\\.shortcut-targets-by-id\\0B6-MI-dco6FLWkZmTDZ4MFhRU1k\\SaltMUAS_share\\UAS Data Collection\\North River\\2019\"\n",
      "Folder creation complete.\n"
     ]
    }
   ],
   "source": [
    "# Input Final Output Folder Path\n",
    "rootOut = input(\"Enter Path of Site in UAS Data Collection (and Year if Applicable) to Write Final Output --- \")\n",
    "rootOut = rootOut[1:-1]\n",
    "workingFinal = rootOut + \"\\\\Transects_Working\"\n",
    "transectFinal = rootOut + \"\\\\Transects\"\n",
    "\n",
    "# Create list of variables with folder paths stored\n",
    "finalfolderList = [workingFinal, transectFinal]\n",
    "\n",
    "# Iterate through folder list and create folder if it does not already exist\n",
    "for i in finalfolderList:\n",
    "    if not os.path.exists(i):\n",
    "        os.makedirs(i)\n",
    "        print(str(i) + \" created.\")\n",
    "print(\"Folder creation complete.\")\n"
   ]
  },
  {
   "cell_type": "code",
   "execution_count": 74,
   "metadata": {},
   "outputs": [],
   "source": [
    "# Specify date in the name of the shapefile\n",
    "\n",
    "# Use previously defined workIn variable to name file\n",
    "outShape = workingFinal + r\"\\\\\" + workIn + \"_Transects_Final.shp\"\n",
    "outMu = workingFinal + r\"\\\\\" + workIn + \"_mu_Final.shp\"\n",
    "\n",
    "polygdf.to_file(outShape)\n",
    "mugdf.to_file(outMu)"
   ]
  },
  {
   "cell_type": "code",
   "execution_count": null,
   "metadata": {},
   "outputs": [],
   "source": []
  }
 ],
 "metadata": {
  "kernelspec": {
   "display_name": "Python 3",
   "language": "python",
   "name": "python3"
  },
  "language_info": {
   "codemirror_mode": {
    "name": "ipython",
    "version": 3
   },
   "file_extension": ".py",
   "mimetype": "text/x-python",
   "name": "python",
   "nbconvert_exporter": "python",
   "pygments_lexer": "ipython3",
   "version": "3.7.6"
  }
 },
 "nbformat": 4,
 "nbformat_minor": 4
}
