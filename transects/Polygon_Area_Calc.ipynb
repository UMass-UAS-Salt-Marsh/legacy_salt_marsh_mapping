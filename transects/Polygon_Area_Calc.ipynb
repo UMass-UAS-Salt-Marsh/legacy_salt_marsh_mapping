{
 "cells": [
  {
   "cell_type": "markdown",
   "metadata": {},
   "source": [
    "Import Libraries"
   ]
  },
  {
   "cell_type": "code",
   "execution_count": 1,
   "metadata": {},
   "outputs": [],
   "source": [
    "import pandas as pd\n",
    "import os\n",
    "import geopandas as gpd\n",
    "import fiona\n",
    "import sys\n",
    "import numpy as np\n",
    "import matplotlib"
   ]
  },
  {
   "cell_type": "code",
   "execution_count": 2,
   "metadata": {},
   "outputs": [
    {
     "data": {
      "text/plain": [
       "['Peggoty_Poly_Final.shp',\n",
       " 'Peggoty_Poly_Final.shx',\n",
       " 'Peggoty_Poly_Final.dbf',\n",
       " 'Peggoty_Poly_Final.cpg',\n",
       " 'Peggoty_Poly_Final.prj',\n",
       " 'Peggoty_Poly_Final_v2.shp',\n",
       " 'Peggoty_Poly_Final_v2.shx',\n",
       " 'Peggoty_Poly_Final_v2.dbf',\n",
       " 'Peggoty_Poly_Final_v2.cpg',\n",
       " 'Peggoty_Poly_Final_v2.prj',\n",
       " 'Peggotty_Poly_Final_v3.shp',\n",
       " 'Peggotty_Poly_Final_v3.shx',\n",
       " 'Peggotty_Poly_Final_v3.dbf',\n",
       " 'Peggotty_Poly_Final_v3.cpg',\n",
       " 'Peggotty_Poly_Final_v3.prj']"
      ]
     },
     "execution_count": 2,
     "metadata": {},
     "output_type": "execute_result"
    }
   ],
   "source": [
    "# Set environment of root folder of data products\n",
    "\n",
    "path = r\"G:\\.shortcut-targets-by-id\\0B6-MI-dco6FLWkZmTDZ4MFhRU1k\\7. SaltMUAS_share\\UAS Data Collection\\Peggotty Beach, Scituate\\Data_2018\\Transects\"\n",
    "\n",
    "# View files in directory\n",
    "dir_list = os.listdir(path)\n",
    "dir_list"
   ]
  },
  {
   "cell_type": "code",
   "execution_count": 3,
   "metadata": {},
   "outputs": [],
   "source": [
    "# Set path to polygon for site\n",
    "\n",
    "polypath = path + \"\\\\\" + dir_list[10]"
   ]
  },
  {
   "cell_type": "code",
   "execution_count": 4,
   "metadata": {},
   "outputs": [
    {
     "data": {
      "text/html": [
       "<div>\n",
       "<style scoped>\n",
       "    .dataframe tbody tr th:only-of-type {\n",
       "        vertical-align: middle;\n",
       "    }\n",
       "\n",
       "    .dataframe tbody tr th {\n",
       "        vertical-align: top;\n",
       "    }\n",
       "\n",
       "    .dataframe thead th {\n",
       "        text-align: right;\n",
       "    }\n",
       "</style>\n",
       "<table border=\"1\" class=\"dataframe\">\n",
       "  <thead>\n",
       "    <tr style=\"text-align: right;\">\n",
       "      <th></th>\n",
       "      <th>Transect</th>\n",
       "      <th>PointNum</th>\n",
       "      <th>SubClass</th>\n",
       "      <th>Northing</th>\n",
       "      <th>Easting</th>\n",
       "      <th>Altitude</th>\n",
       "      <th>Notes</th>\n",
       "      <th>Class</th>\n",
       "      <th>Raw Subcla</th>\n",
       "      <th>Pre Angle</th>\n",
       "      <th>Post Angle</th>\n",
       "      <th>mu</th>\n",
       "      <th>Class mu</th>\n",
       "      <th>Pre/Post</th>\n",
       "      <th>Area_meter</th>\n",
       "      <th>geometry</th>\n",
       "    </tr>\n",
       "  </thead>\n",
       "  <tbody>\n",
       "    <tr>\n",
       "      <th>0</th>\n",
       "      <td>68</td>\n",
       "      <td>N/A</td>\n",
       "      <td>25jn</td>\n",
       "      <td>N/A</td>\n",
       "      <td>N/A</td>\n",
       "      <td>N/A</td>\n",
       "      <td>poly</td>\n",
       "      <td>2</td>\n",
       "      <td>25</td>\n",
       "      <td>N/A</td>\n",
       "      <td>N/A</td>\n",
       "      <td>N/A</td>\n",
       "      <td>N/A</td>\n",
       "      <td>N/A</td>\n",
       "      <td>None</td>\n",
       "      <td>POLYGON ((357652.685 4672487.698, 357652.965 4...</td>\n",
       "    </tr>\n",
       "    <tr>\n",
       "      <th>1</th>\n",
       "      <td>4</td>\n",
       "      <td>7</td>\n",
       "      <td>13a</td>\n",
       "      <td>4672421.277</td>\n",
       "      <td>357584.895</td>\n",
       "      <td>1.311</td>\n",
       "      <td>poly</td>\n",
       "      <td>1</td>\n",
       "      <td>13</td>\n",
       "      <td>None</td>\n",
       "      <td>None</td>\n",
       "      <td>None</td>\n",
       "      <td>None</td>\n",
       "      <td>None</td>\n",
       "      <td>None</td>\n",
       "      <td>POLYGON ((357578.020 4672420.354, 357584.895 4...</td>\n",
       "    </tr>\n",
       "    <tr>\n",
       "      <th>2</th>\n",
       "      <td>20</td>\n",
       "      <td>60</td>\n",
       "      <td>23jn</td>\n",
       "      <td>4672452.464</td>\n",
       "      <td>357629.781</td>\n",
       "      <td>1.224</td>\n",
       "      <td>poly</td>\n",
       "      <td>2</td>\n",
       "      <td>23</td>\n",
       "      <td>None</td>\n",
       "      <td>None</td>\n",
       "      <td>None</td>\n",
       "      <td>None</td>\n",
       "      <td>None</td>\n",
       "      <td>None</td>\n",
       "      <td>POLYGON ((357623.239 4672451.539, 357629.781 4...</td>\n",
       "    </tr>\n",
       "    <tr>\n",
       "      <th>3</th>\n",
       "      <td>28</td>\n",
       "      <td>81</td>\n",
       "      <td>01a</td>\n",
       "      <td>4672481.383</td>\n",
       "      <td>357664.745</td>\n",
       "      <td>1.058</td>\n",
       "      <td>poly</td>\n",
       "      <td>1</td>\n",
       "      <td>01</td>\n",
       "      <td>None</td>\n",
       "      <td>None</td>\n",
       "      <td>None</td>\n",
       "      <td>None</td>\n",
       "      <td>None</td>\n",
       "      <td>None</td>\n",
       "      <td>POLYGON ((357653.128 4672481.707, 357653.416 4...</td>\n",
       "    </tr>\n",
       "    <tr>\n",
       "      <th>4</th>\n",
       "      <td>54</td>\n",
       "      <td>118</td>\n",
       "      <td>22kn</td>\n",
       "      <td>4672484.217</td>\n",
       "      <td>357741.904</td>\n",
       "      <td>0.238</td>\n",
       "      <td>poly</td>\n",
       "      <td>2</td>\n",
       "      <td>22</td>\n",
       "      <td>None</td>\n",
       "      <td>None</td>\n",
       "      <td>None</td>\n",
       "      <td>None</td>\n",
       "      <td>None</td>\n",
       "      <td>None</td>\n",
       "      <td>POLYGON ((357725.006 4672482.289, 357727.272 4...</td>\n",
       "    </tr>\n",
       "    <tr>\n",
       "      <th>...</th>\n",
       "      <td>...</td>\n",
       "      <td>...</td>\n",
       "      <td>...</td>\n",
       "      <td>...</td>\n",
       "      <td>...</td>\n",
       "      <td>...</td>\n",
       "      <td>...</td>\n",
       "      <td>...</td>\n",
       "      <td>...</td>\n",
       "      <td>...</td>\n",
       "      <td>...</td>\n",
       "      <td>...</td>\n",
       "      <td>...</td>\n",
       "      <td>...</td>\n",
       "      <td>...</td>\n",
       "      <td>...</td>\n",
       "    </tr>\n",
       "    <tr>\n",
       "      <th>181</th>\n",
       "      <td>66</td>\n",
       "      <td>188</td>\n",
       "      <td>22k</td>\n",
       "      <td>4672437.225</td>\n",
       "      <td>357719.511</td>\n",
       "      <td>0.53</td>\n",
       "      <td>edge,L</td>\n",
       "      <td>2</td>\n",
       "      <td>22</td>\n",
       "      <td>-61.51116429807623</td>\n",
       "      <td>160.3559422657164</td>\n",
       "      <td>0</td>\n",
       "      <td>0</td>\n",
       "      <td>post</td>\n",
       "      <td>None</td>\n",
       "      <td>POLYGON ((357719.200 4672436.353, 357718.396 4...</td>\n",
       "    </tr>\n",
       "    <tr>\n",
       "      <th>182</th>\n",
       "      <td>66</td>\n",
       "      <td>189</td>\n",
       "      <td>22k</td>\n",
       "      <td>4672437.623</td>\n",
       "      <td>357718.396</td>\n",
       "      <td>0.603</td>\n",
       "      <td>edge,L</td>\n",
       "      <td>2</td>\n",
       "      <td>22</td>\n",
       "      <td>160.3559422657164</td>\n",
       "      <td>-57.65773406775361</td>\n",
       "      <td>0</td>\n",
       "      <td>0</td>\n",
       "      <td>post</td>\n",
       "      <td>None</td>\n",
       "      <td>MULTIPOLYGON (((357719.523 4672435.843, 357719...</td>\n",
       "    </tr>\n",
       "    <tr>\n",
       "      <th>183</th>\n",
       "      <td>66</td>\n",
       "      <td>190</td>\n",
       "      <td>22k</td>\n",
       "      <td>4672435.78</td>\n",
       "      <td>357719.563</td>\n",
       "      <td>0.613</td>\n",
       "      <td>edge,L</td>\n",
       "      <td>2</td>\n",
       "      <td>22</td>\n",
       "      <td>-57.65773406775361</td>\n",
       "      <td>-140.7105941941502</td>\n",
       "      <td>0</td>\n",
       "      <td>0</td>\n",
       "      <td>post</td>\n",
       "      <td>None</td>\n",
       "      <td>POLYGON ((357719.756 4672435.544, 357720.042 4...</td>\n",
       "    </tr>\n",
       "    <tr>\n",
       "      <th>184</th>\n",
       "      <td>66</td>\n",
       "      <td>191</td>\n",
       "      <td>22k</td>\n",
       "      <td>4672435.771000001</td>\n",
       "      <td>357719.552</td>\n",
       "      <td>0.607</td>\n",
       "      <td>edge,L</td>\n",
       "      <td>2</td>\n",
       "      <td>22</td>\n",
       "      <td>-140.7105941941502</td>\n",
       "      <td>-58.24051993283167</td>\n",
       "      <td>0</td>\n",
       "      <td>0</td>\n",
       "      <td>post</td>\n",
       "      <td>None</td>\n",
       "      <td>MULTIPOLYGON (((357720.410 4672434.385, 357720...</td>\n",
       "    </tr>\n",
       "    <tr>\n",
       "      <th>185</th>\n",
       "      <td>66</td>\n",
       "      <td>192</td>\n",
       "      <td>22k</td>\n",
       "      <td>4672434.385</td>\n",
       "      <td>357720.41</td>\n",
       "      <td>0.613</td>\n",
       "      <td>edge,L</td>\n",
       "      <td>2</td>\n",
       "      <td>22</td>\n",
       "      <td>-58.24051993283167</td>\n",
       "      <td>-30.47411045938727</td>\n",
       "      <td>0</td>\n",
       "      <td>0</td>\n",
       "      <td>post</td>\n",
       "      <td>None</td>\n",
       "      <td>MULTIPOLYGON (((357723.333 4672432.665, 357720...</td>\n",
       "    </tr>\n",
       "  </tbody>\n",
       "</table>\n",
       "<p>186 rows × 16 columns</p>\n",
       "</div>"
      ],
      "text/plain": [
       "    Transect PointNum SubClass           Northing     Easting Altitude  \\\n",
       "0         68      N/A     25jn                N/A         N/A      N/A   \n",
       "1          4        7      13a        4672421.277  357584.895    1.311   \n",
       "2         20       60     23jn        4672452.464  357629.781    1.224   \n",
       "3         28       81      01a        4672481.383  357664.745    1.058   \n",
       "4         54      118     22kn        4672484.217  357741.904    0.238   \n",
       "..       ...      ...      ...                ...         ...      ...   \n",
       "181       66      188      22k        4672437.225  357719.511     0.53   \n",
       "182       66      189      22k        4672437.623  357718.396    0.603   \n",
       "183       66      190      22k         4672435.78  357719.563    0.613   \n",
       "184       66      191      22k  4672435.771000001  357719.552    0.607   \n",
       "185       66      192      22k        4672434.385   357720.41    0.613   \n",
       "\n",
       "      Notes Class Raw Subcla           Pre Angle          Post Angle    mu  \\\n",
       "0      poly     2         25                 N/A                 N/A   N/A   \n",
       "1      poly     1         13                None                None  None   \n",
       "2      poly     2         23                None                None  None   \n",
       "3      poly     1         01                None                None  None   \n",
       "4      poly     2         22                None                None  None   \n",
       "..      ...   ...        ...                 ...                 ...   ...   \n",
       "181  edge,L     2         22  -61.51116429807623   160.3559422657164     0   \n",
       "182  edge,L     2         22   160.3559422657164  -57.65773406775361     0   \n",
       "183  edge,L     2         22  -57.65773406775361  -140.7105941941502     0   \n",
       "184  edge,L     2         22  -140.7105941941502  -58.24051993283167     0   \n",
       "185  edge,L     2         22  -58.24051993283167  -30.47411045938727     0   \n",
       "\n",
       "    Class mu Pre/Post Area_meter  \\\n",
       "0        N/A      N/A       None   \n",
       "1       None     None       None   \n",
       "2       None     None       None   \n",
       "3       None     None       None   \n",
       "4       None     None       None   \n",
       "..       ...      ...        ...   \n",
       "181        0     post       None   \n",
       "182        0     post       None   \n",
       "183        0     post       None   \n",
       "184        0     post       None   \n",
       "185        0     post       None   \n",
       "\n",
       "                                              geometry  \n",
       "0    POLYGON ((357652.685 4672487.698, 357652.965 4...  \n",
       "1    POLYGON ((357578.020 4672420.354, 357584.895 4...  \n",
       "2    POLYGON ((357623.239 4672451.539, 357629.781 4...  \n",
       "3    POLYGON ((357653.128 4672481.707, 357653.416 4...  \n",
       "4    POLYGON ((357725.006 4672482.289, 357727.272 4...  \n",
       "..                                                 ...  \n",
       "181  POLYGON ((357719.200 4672436.353, 357718.396 4...  \n",
       "182  MULTIPOLYGON (((357719.523 4672435.843, 357719...  \n",
       "183  POLYGON ((357719.756 4672435.544, 357720.042 4...  \n",
       "184  MULTIPOLYGON (((357720.410 4672434.385, 357720...  \n",
       "185  MULTIPOLYGON (((357723.333 4672432.665, 357720...  \n",
       "\n",
       "[186 rows x 16 columns]"
      ]
     },
     "execution_count": 4,
     "metadata": {},
     "output_type": "execute_result"
    }
   ],
   "source": [
    "# Read in shapefile as GeoDataFrame to the variable \"poly\"\n",
    "\n",
    "poly = gpd.read_file(polypath)\n",
    "poly"
   ]
  },
  {
   "cell_type": "code",
   "execution_count": 5,
   "metadata": {},
   "outputs": [
    {
     "data": {
      "text/plain": [
       "<Projected CRS: EPSG:26919>\n",
       "Name: NAD83 / UTM zone 19N\n",
       "Axis Info [cartesian]:\n",
       "- E[east]: Easting (metre)\n",
       "- N[north]: Northing (metre)\n",
       "Area of Use:\n",
       "- name: North America - 72°W to 66°W and NAD83 by country\n",
       "- bounds: (-72.0, 14.92, -66.0, 84.0)\n",
       "Coordinate Operation:\n",
       "- name: UTM zone 19N\n",
       "- method: Transverse Mercator\n",
       "Datum: North American Datum 1983\n",
       "- Ellipsoid: GRS 1980\n",
       "- Prime Meridian: Greenwich"
      ]
     },
     "execution_count": 5,
     "metadata": {},
     "output_type": "execute_result"
    }
   ],
   "source": [
    "# Check Coordinate Reference System \n",
    "# Make sure it is set to ESPG 26919 NAD83 UTM19N\n",
    "\n",
    "poly.crs"
   ]
  },
  {
   "cell_type": "code",
   "execution_count": 6,
   "metadata": {},
   "outputs": [],
   "source": [
    "subList = poly['Raw Subcla'].unique()"
   ]
  },
  {
   "cell_type": "code",
   "execution_count": 7,
   "metadata": {},
   "outputs": [
    {
     "data": {
      "text/plain": [
       "array(['25', '13', '23', '01', '22', '28', '21', '06', '05', '04', '09',\n",
       "       '02', '31', '10', '32', '27', '12', '08', '11', '03'], dtype=object)"
      ]
     },
     "execution_count": 7,
     "metadata": {},
     "output_type": "execute_result"
    }
   ],
   "source": [
    "subList"
   ]
  },
  {
   "cell_type": "code",
   "execution_count": 8,
   "metadata": {},
   "outputs": [],
   "source": [
    "subList.sort()"
   ]
  },
  {
   "cell_type": "code",
   "execution_count": 9,
   "metadata": {},
   "outputs": [
    {
     "data": {
      "text/plain": [
       "array(['01', '02', '03', '04', '05', '06', '08', '09', '10', '11', '12',\n",
       "       '13', '21', '22', '23', '25', '27', '28', '31', '32'], dtype=object)"
      ]
     },
     "execution_count": 9,
     "metadata": {},
     "output_type": "execute_result"
    }
   ],
   "source": [
    "subList\n"
   ]
  },
  {
   "cell_type": "markdown",
   "metadata": {},
   "source": [
    "Automate Calculation of Area by Raw Subclass"
   ]
  },
  {
   "cell_type": "code",
   "execution_count": 10,
   "metadata": {},
   "outputs": [
    {
     "name": "stdout",
     "output_type": "stream",
     "text": [
      "01\n",
      "02\n",
      "03\n",
      "04\n",
      "05\n",
      "06\n",
      "08\n",
      "09\n",
      "10\n",
      "11\n",
      "12\n",
      "13\n",
      "21\n",
      "22\n",
      "23\n",
      "25\n",
      "27\n",
      "28\n",
      "31\n",
      "32\n"
     ]
    }
   ],
   "source": [
    "areaList = []\n",
    "\n",
    "for i in subList: \n",
    "    print(i)\n",
    "    tempPoly = poly.loc[poly['Raw Subcla'] == i]\n",
    "    areaPoly = tempPoly.area\n",
    "    sumPoly = areaPoly.sum()\n",
    "    areaList.append(sumPoly)"
   ]
  },
  {
   "cell_type": "code",
   "execution_count": 11,
   "metadata": {},
   "outputs": [
    {
     "data": {
      "text/plain": [
       "[278.62121442174737,\n",
       " 77.1140322003718,\n",
       " 133.3070208833895,\n",
       " 107.9735769046257,\n",
       " 75.45832789675899,\n",
       " 655.6341358860238,\n",
       " 194.06409338302387,\n",
       " 57.993231947944565,\n",
       " 54.115835915293296,\n",
       " 103.43421315026072,\n",
       " 173.89029315150123,\n",
       " 137.0949508061549,\n",
       " 97.10894078849716,\n",
       " 144.5877759496178,\n",
       " 17.32052099570624,\n",
       " 95.59211851662519,\n",
       " 8.935918419477563,\n",
       " 19.921325999355236,\n",
       " 133.22518379492598,\n",
       " 4.972984116621196]"
      ]
     },
     "execution_count": 11,
     "metadata": {},
     "output_type": "execute_result"
    }
   ],
   "source": [
    "areaList"
   ]
  },
  {
   "cell_type": "code",
   "execution_count": 12,
   "metadata": {},
   "outputs": [],
   "source": [
    "df = pd.DataFrame(data = subList)"
   ]
  },
  {
   "cell_type": "code",
   "execution_count": 13,
   "metadata": {},
   "outputs": [],
   "source": [
    "df['Areas'] = areaList"
   ]
  },
  {
   "cell_type": "code",
   "execution_count": 14,
   "metadata": {},
   "outputs": [],
   "source": [
    "df.columns = ['Subclass', 'Area Sq Meters']"
   ]
  },
  {
   "cell_type": "code",
   "execution_count": 15,
   "metadata": {},
   "outputs": [
    {
     "data": {
      "text/html": [
       "<div>\n",
       "<style scoped>\n",
       "    .dataframe tbody tr th:only-of-type {\n",
       "        vertical-align: middle;\n",
       "    }\n",
       "\n",
       "    .dataframe tbody tr th {\n",
       "        vertical-align: top;\n",
       "    }\n",
       "\n",
       "    .dataframe thead th {\n",
       "        text-align: right;\n",
       "    }\n",
       "</style>\n",
       "<table border=\"1\" class=\"dataframe\">\n",
       "  <thead>\n",
       "    <tr style=\"text-align: right;\">\n",
       "      <th></th>\n",
       "      <th>Subclass</th>\n",
       "      <th>Area Sq Meters</th>\n",
       "    </tr>\n",
       "  </thead>\n",
       "  <tbody>\n",
       "    <tr>\n",
       "      <th>0</th>\n",
       "      <td>01</td>\n",
       "      <td>278.621214</td>\n",
       "    </tr>\n",
       "    <tr>\n",
       "      <th>1</th>\n",
       "      <td>02</td>\n",
       "      <td>77.114032</td>\n",
       "    </tr>\n",
       "    <tr>\n",
       "      <th>2</th>\n",
       "      <td>03</td>\n",
       "      <td>133.307021</td>\n",
       "    </tr>\n",
       "    <tr>\n",
       "      <th>3</th>\n",
       "      <td>04</td>\n",
       "      <td>107.973577</td>\n",
       "    </tr>\n",
       "    <tr>\n",
       "      <th>4</th>\n",
       "      <td>05</td>\n",
       "      <td>75.458328</td>\n",
       "    </tr>\n",
       "    <tr>\n",
       "      <th>5</th>\n",
       "      <td>06</td>\n",
       "      <td>655.634136</td>\n",
       "    </tr>\n",
       "    <tr>\n",
       "      <th>6</th>\n",
       "      <td>08</td>\n",
       "      <td>194.064093</td>\n",
       "    </tr>\n",
       "    <tr>\n",
       "      <th>7</th>\n",
       "      <td>09</td>\n",
       "      <td>57.993232</td>\n",
       "    </tr>\n",
       "    <tr>\n",
       "      <th>8</th>\n",
       "      <td>10</td>\n",
       "      <td>54.115836</td>\n",
       "    </tr>\n",
       "    <tr>\n",
       "      <th>9</th>\n",
       "      <td>11</td>\n",
       "      <td>103.434213</td>\n",
       "    </tr>\n",
       "    <tr>\n",
       "      <th>10</th>\n",
       "      <td>12</td>\n",
       "      <td>173.890293</td>\n",
       "    </tr>\n",
       "    <tr>\n",
       "      <th>11</th>\n",
       "      <td>13</td>\n",
       "      <td>137.094951</td>\n",
       "    </tr>\n",
       "    <tr>\n",
       "      <th>12</th>\n",
       "      <td>21</td>\n",
       "      <td>97.108941</td>\n",
       "    </tr>\n",
       "    <tr>\n",
       "      <th>13</th>\n",
       "      <td>22</td>\n",
       "      <td>144.587776</td>\n",
       "    </tr>\n",
       "    <tr>\n",
       "      <th>14</th>\n",
       "      <td>23</td>\n",
       "      <td>17.320521</td>\n",
       "    </tr>\n",
       "    <tr>\n",
       "      <th>15</th>\n",
       "      <td>25</td>\n",
       "      <td>95.592119</td>\n",
       "    </tr>\n",
       "    <tr>\n",
       "      <th>16</th>\n",
       "      <td>27</td>\n",
       "      <td>8.935918</td>\n",
       "    </tr>\n",
       "    <tr>\n",
       "      <th>17</th>\n",
       "      <td>28</td>\n",
       "      <td>19.921326</td>\n",
       "    </tr>\n",
       "    <tr>\n",
       "      <th>18</th>\n",
       "      <td>31</td>\n",
       "      <td>133.225184</td>\n",
       "    </tr>\n",
       "    <tr>\n",
       "      <th>19</th>\n",
       "      <td>32</td>\n",
       "      <td>4.972984</td>\n",
       "    </tr>\n",
       "  </tbody>\n",
       "</table>\n",
       "</div>"
      ],
      "text/plain": [
       "   Subclass  Area Sq Meters\n",
       "0        01      278.621214\n",
       "1        02       77.114032\n",
       "2        03      133.307021\n",
       "3        04      107.973577\n",
       "4        05       75.458328\n",
       "5        06      655.634136\n",
       "6        08      194.064093\n",
       "7        09       57.993232\n",
       "8        10       54.115836\n",
       "9        11      103.434213\n",
       "10       12      173.890293\n",
       "11       13      137.094951\n",
       "12       21       97.108941\n",
       "13       22      144.587776\n",
       "14       23       17.320521\n",
       "15       25       95.592119\n",
       "16       27        8.935918\n",
       "17       28       19.921326\n",
       "18       31      133.225184\n",
       "19       32        4.972984"
      ]
     },
     "execution_count": 15,
     "metadata": {},
     "output_type": "execute_result"
    }
   ],
   "source": [
    "df"
   ]
  },
  {
   "cell_type": "code",
   "execution_count": 16,
   "metadata": {},
   "outputs": [
    {
     "data": {
      "text/plain": [
       "<AxesSubplot:>"
      ]
     },
     "execution_count": 16,
     "metadata": {},
     "output_type": "execute_result"
    },
    {
     "data": {
      "image/png": "[encoded data removed]",
      "text/plain": [
       "<Figure size 432x288 with 1 Axes>"
      ]
     },
     "metadata": {
      "needs_background": "light"
     },
     "output_type": "display_data"
    }
   ],
   "source": [
    "df.plot(kind = 'bar')"
   ]
  },
  {
   "cell_type": "code",
   "execution_count": 17,
   "metadata": {},
   "outputs": [],
   "source": [
    "import matplotlib.pyplot as plt\n",
    "%matplotlib inline\n",
    "plt.style.use('ggplot')"
   ]
  },
  {
   "cell_type": "code",
   "execution_count": 18,
   "metadata": {},
   "outputs": [],
   "source": [
    "x = df['Subclass']\n",
    "y = df['Area Sq Meters']"
   ]
  },
  {
   "cell_type": "code",
   "execution_count": 19,
   "metadata": {},
   "outputs": [],
   "source": [
    "x_pos = [i for i, _ in enumerate(x)]"
   ]
  },
  {
   "cell_type": "code",
   "execution_count": 20,
   "metadata": {},
   "outputs": [
    {
     "data": {
      "image/png": "[encoded data removed]",
      "text/plain": [
       "<Figure size 432x288 with 1 Axes>"
      ]
     },
     "metadata": {},
     "output_type": "display_data"
    },
    {
     "data": {
      "text/plain": [
       "<Figure size 432x288 with 0 Axes>"
      ]
     },
     "metadata": {},
     "output_type": "display_data"
    }
   ],
   "source": [
    "plt.bar(x_pos, y, color = 'blue')\n",
    "plt.xlabel('SubClass')\n",
    "plt.ylabel('Area (Sq. Meters)')\n",
    "plt.title('Peggoty SubClass Presence in Training Data by Area')\n",
    "\n",
    "plt.xticks(x_pos, x)\n",
    "\n",
    "fig1 = plt.gcf()\n",
    "plt.show()\n",
    "plt.draw()\n",
    "\n",
    "fig1.savefig(\"D:\\Documents\\Test\\Peggoty_Subclass_Area_Bar.png\", dpi=100)"
   ]
  },
  {
   "cell_type": "code",
   "execution_count": 21,
   "metadata": {},
   "outputs": [
    {
     "data": {
      "text/plain": [
       "<Figure size 432x288 with 0 Axes>"
      ]
     },
     "metadata": {},
     "output_type": "display_data"
    }
   ],
   "source": [
    "fig1 = plt.gcf()"
   ]
  },
  {
   "cell_type": "code",
   "execution_count": 22,
   "metadata": {},
   "outputs": [],
   "source": [
    "plt.show()"
   ]
  },
  {
   "cell_type": "code",
   "execution_count": 23,
   "metadata": {},
   "outputs": [
    {
     "data": {
      "text/plain": [
       "<Figure size 432x288 with 0 Axes>"
      ]
     },
     "metadata": {},
     "output_type": "display_data"
    }
   ],
   "source": [
    "plt.draw()"
   ]
  },
  {
   "cell_type": "code",
   "execution_count": 24,
   "metadata": {},
   "outputs": [],
   "source": [
    "# fig1.savefig(\"D:\\Documents\\Test\\Subclass_Area_Bar.png\", dpi=100)"
   ]
  },
  {
   "cell_type": "code",
   "execution_count": 25,
   "metadata": {},
   "outputs": [
    {
     "data": {
      "image/png": "[encoded data removed]",
      "text/plain": [
       "<Figure size 432x288 with 1 Axes>"
      ]
     },
     "metadata": {},
     "output_type": "display_data"
    },
    {
     "data": {
      "text/plain": [
       "<Figure size 432x288 with 0 Axes>"
      ]
     },
     "metadata": {},
     "output_type": "display_data"
    }
   ],
   "source": [
    "plt.barh(x_pos, y, color = \"red\")\n",
    "plt.ylabel(\"SubClass\")\n",
    "plt.xlabel(\"Area (Sq Meters)\")\n",
    "plt.title('Peggoty SubClass Presence in Training Data by Area')\n",
    "\n",
    "plt.yticks(x_pos, x)\n",
    "\n",
    "fig2 = plt.gcf()\n",
    "plt.show()\n",
    "plt.draw()\n",
    "\n",
    "fig2.savefig(\"D:\\Documents\\Test\\Peggoty_Subclass_Area_BarH.png\", dpi=100)\n",
    "\n",
    "plt.show()"
   ]
  },
  {
   "cell_type": "code",
   "execution_count": null,
   "metadata": {},
   "outputs": [],
   "source": []
  },
  {
   "cell_type": "code",
   "execution_count": null,
   "metadata": {},
   "outputs": [],
   "source": []
  }
 ],
 "metadata": {
  "kernelspec": {
   "display_name": "Python 3",
   "language": "python",
   "name": "python3"
  },
  "language_info": {
   "codemirror_mode": {
    "name": "ipython",
    "version": 3
   },
   "file_extension": ".py",
   "mimetype": "text/x-python",
   "name": "python",
   "nbconvert_exporter": "python",
   "pygments_lexer": "ipython3",
   "version": "3.7.6"
  }
 },
 "nbformat": 4,
 "nbformat_minor": 4
}
