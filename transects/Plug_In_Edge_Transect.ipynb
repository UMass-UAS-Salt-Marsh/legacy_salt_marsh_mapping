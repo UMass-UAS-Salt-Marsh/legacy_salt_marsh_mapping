{
 "cells": [
  {
   "cell_type": "markdown",
   "metadata": {},
   "source": [
    "Import Libraries"
   ]
  },
  {
   "cell_type": "code",
   "execution_count": 1,
   "metadata": {},
   "outputs": [],
   "source": [
    "from PyQt5.QtCore import *\n",
    "import pandas as pd\n",
    "from qgis.core import *\n",
    "import os\n",
    "import geopandas as gpd\n",
    "import fiona\n",
    "import sys\n",
    "import math\n",
    "import numpy\n",
    "from shapely.geometry import shape\n",
    "from shapely.geometry import Polygon\n",
    "import shapely\n",
    "from rtree import index"
   ]
  },
  {
   "cell_type": "code",
   "execution_count": 2,
   "metadata": {},
   "outputs": [
    {
     "data": {
      "text/html": [
       "<style>.container { width:100% !important; }</style>"
      ],
      "text/plain": [
       "<IPython.core.display.HTML object>"
      ]
     },
     "metadata": {},
     "output_type": "display_data"
    }
   ],
   "source": [
    "# Increase width of notebook\n",
    "from IPython.core.display import display, HTML\n",
    "display(HTML(\"<style>.container { width:100% !important; }</style>\"))"
   ]
  },
  {
   "cell_type": "markdown",
   "metadata": {},
   "source": [
    "Define functions to be used in script"
   ]
  },
  {
   "cell_type": "code",
   "execution_count": 3,
   "metadata": {},
   "outputs": [],
   "source": [
    "# Create function to check for transect numbers of before and after points\n",
    "\n",
    "def transectCheck(rownumber, dataframe):\n",
    "    current = dataframe['Transect'].iloc[rownumber]\n",
    "    after = dataframe['Transect'].iloc[rownumber + 1]\n",
    "    if \"/\" in current:\n",
    "        slash1 = current.find(\"/\")\n",
    "        slash2 = slash1 + 1\n",
    "        current = current[slash2:]\n",
    "    elif \",\" in current:\n",
    "        slash1 = current.find(\",\")\n",
    "        slash2 = slash1 + 1\n",
    "        current = current[slash2:]\n",
    "    else: pass\n",
    "    \n",
    "    if \"/\" in after:\n",
    "        slash = after.find(\"/\")\n",
    "        after = after[:slash]\n",
    "        \n",
    "    elif \",\" in after:\n",
    "        slash = after.find(\",\")\n",
    "        after = after[:slash]\n",
    "        \n",
    "    else: pass\n",
    "    \n",
    "    if current == after:\n",
    "        return 1\n",
    "    else: return 0\n",
    "    \n",
    "    \n",
    "# Create function to determine if a point is a mapping unit\n",
    "\n",
    "def muCheck(rownumber, dataframe):\n",
    "    # Check transects\n",
    "    currentT = dataframe['Transect'].iloc[rownumber].replace(\" \", \"\")\n",
    "    currentT2 = dataframe['Transect'].iloc[rownumber].replace(\" \", \"\")    \n",
    "    beforeT = dataframe['Transect'].iloc[rownumber - 1].replace(\" \", \"\")\n",
    "    afterT = dataframe['Transect'].iloc[rownumber + 1].replace(\" \", \"\")\n",
    "    if \"/\" in currentT:\n",
    "        slash1 = currentT.find(\"/\")\n",
    "        slash2 = slash1 + 1\n",
    "        currentT = currentT[slash2:]\n",
    "        currentT2 = currentT2[:slash1]\n",
    "    else: pass\n",
    "    if \"/\" in afterT:\n",
    "        slash = afterT.find(\"/\")\n",
    "        afterT = afterT[:slash]\n",
    "    else: pass\n",
    "    if \"/\" in beforeT:\n",
    "        slash3 = beforeT.find(\"/\")\n",
    "        slash4 = slash3 + 1\n",
    "        beforeT = beforeT[slash4:]\n",
    "    else: pass\n",
    "    \n",
    "    # Check subclasses\n",
    "    currentS = str(dataframe['Subclass'].iloc[rownumber])[:2]\n",
    "    beforeS = str(dataframe['Subclass'].iloc[rownumber - 1])[:2]\n",
    "    afterS = str(dataframe['Subclass'].iloc[rownumber + 1])[:2]\n",
    "    \n",
    "    # Check 'Notes' field for mu\n",
    "    \n",
    "    \n",
    "    if currentT == afterT and currentS == afterS: pass\n",
    "    else:\n",
    "            if currentT2 == beforeT and currentS == beforeS: pass\n",
    "            else: return 2\n",
    "            \n",
    "def muCheck2(rownumber, dataframe):\n",
    "    \n",
    "    # Check again in case of \",\"\n",
    "    currentT = dataframe['Transect'].iloc[rownumber].replace(\" \", \"\")\n",
    "    currentT2 = dataframe['Transect'].iloc[rownumber].replace(\" \", \"\")    \n",
    "    beforeT = dataframe['Transect'].iloc[rownumber - 1].replace(\" \", \"\")\n",
    "    afterT = dataframe['Transect'].iloc[rownumber + 1].replace(\" \", \"\")\n",
    "    if \",\" in currentT:\n",
    "        slash1 = currentT.find(\",\")\n",
    "        slash2 = slash1 + 1\n",
    "        currentT = currentT[slash2:]\n",
    "        currentT2 = currentT2[:slash1]\n",
    "    else: pass\n",
    "    if \",\" in afterT:\n",
    "        slash = afterT.find(\",\")\n",
    "        afterT = afterT[:slash]\n",
    "    else: pass\n",
    "    if \",\" in beforeT:\n",
    "        slash3 = beforeT.find(\",\")\n",
    "        slash4 = slash3 + 1\n",
    "        beforeT = beforeT[slash4:]\n",
    "    else: pass\n",
    "    \n",
    "    # Check subclasses\n",
    "    currentS = str(dataframe['Subclass'].iloc[rownumber])[:2]\n",
    "    beforeS = str(dataframe['Subclass'].iloc[rownumber - 1])[:2]\n",
    "    afterS = str(dataframe['Subclass'].iloc[rownumber + 1])[:2]\n",
    "    \n",
    "    # Check 'Notes' field for mu\n",
    "    \n",
    "    \n",
    "    if currentT == afterT and currentS == afterS: pass\n",
    "    else:\n",
    "            if currentT2 == beforeT and currentS == beforeS: pass\n",
    "            else: return 2\n",
    "    \n",
    "    \n",
    "            \n",
    "def muClassCheck(rownumber, dataframe):\n",
    "    # Check transects\n",
    "    currentT = dataframe['Transect'].iloc[rownumber]\n",
    "    currentT2 = dataframe['Transect'].iloc[rownumber]    \n",
    "    beforeT = dataframe['Transect'].iloc[rownumber - 1]\n",
    "    afterT = dataframe['Transect'].iloc[rownumber + 1]\n",
    "    if \"/\" in currentT:\n",
    "        slash1 = currentT.find(\"/\")\n",
    "        slash2 = slash1 + 1\n",
    "        currentT = currentT[slash2:]\n",
    "        currentT2 = currentT2[:slash1]\n",
    "    else: pass\n",
    "    if \"/\" in afterT:\n",
    "        slash = afterT.find(\"/\")\n",
    "        afterT = afterT[:slash]\n",
    "    else: pass\n",
    "    if \"/\" in beforeT:\n",
    "        slash3 = beforeT.find(\"/\")\n",
    "        slash4 = slash3 + 1\n",
    "        beforeT = beforeT[slash4:]\n",
    "    else: pass\n",
    "    \n",
    "    # Check subclasses\n",
    "    currentS = dataframe['Class'].iloc[rownumber]\n",
    "    beforeS = dataframe['Class'].iloc[rownumber - 1]\n",
    "    afterS = dataframe['Class'].iloc[rownumber + 1]\n",
    "\n",
    "    if currentT == afterT and currentS == afterS: pass\n",
    "    else:\n",
    "            if currentT2 == beforeT and currentS == beforeS: pass\n",
    "            else: return 2\n",
    "            \n",
    "def muCheckLast(rownumber, dataframe):\n",
    "    # Check final subclass with [-1] subclass only\n",
    "    currentS = dataframe['Subclass'].iloc[rownumber][:2]\n",
    "    beforeS = dataframe['Subclass'].iloc[rownumber - 1][:2]\n",
    "    \n",
    "    if currentS == beforeS: pass\n",
    "    else: return 2\n",
    "    \n",
    "def muClassCheckLast(rownumber, dataframe):\n",
    "    # Check final subclass with [-1] subclass only\n",
    "    currentS = dataframe['Class'].iloc[rownumber][:2]\n",
    "    beforeS = dataframe['Class'].iloc[rownumber - 1][:2]\n",
    "    \n",
    "    if currentS == beforeS: pass\n",
    "    else: return 2\n",
    "\n",
    "# Define function to test whether angle of mu corresponds to pre or post angle\n",
    "\n",
    "def prepostCheck(rownumber, dataframe):\n",
    "    currentT = dataframe['Transect'].iloc[rownumber]\n",
    "    afterT = dataframe['Transect'].iloc[rownumber + 1]\n",
    "    \n",
    "    if \"/\" in currentT:\n",
    "        slash1 = currentT.find(\"/\")\n",
    "        slash2 = slash1 + 1\n",
    "        currentT = currentT[slash2:]\n",
    "    else: pass\n",
    "    \n",
    "    if \"/\" in afterT:\n",
    "        slash = afterT.find(\"/\")\n",
    "        afterT = afterT[:slash]\n",
    "    else: pass\n",
    "    \n",
    "    if currentT == afterT: return \"post\"\n",
    "    else: return \"pre\"\n",
    "    \n",
    "    "
   ]
  },
  {
   "cell_type": "markdown",
   "metadata": {},
   "source": [
    "Set Up the Data - Specify correct folders to be generated"
   ]
  },
  {
   "cell_type": "code",
   "execution_count": 4,
   "metadata": {},
   "outputs": [
    {
     "name": "stdout",
     "output_type": "stream",
     "text": [
      "Enter file path to the manually created Creek Edge folder in the site folder in EPA Salt Marsh UAS Study with quotations -- \"G:\\.shortcut-targets-by-id\\0B6-MI-dco6FLWkZmTDZ4MFhRU1k\\7. SaltMUAS_share\\EPA Salt Marsh UAS Study\\Newbury\"\n",
      "Enter in the date and site in the format: RR_14_Aug_2019 -- OTH_14_Oct_2018_CreekR\n",
      "G:\\.shortcut-targets-by-id\\0B6-MI-dco6FLWkZmTDZ4MFhRU1k\\7. SaltMUAS_share\\EPA Salt Marsh UAS Study\\Newbury\\Jupyter_Working_Folder\\OTH_14_Oct_2018_CreekR created.\n",
      "G:\\.shortcut-targets-by-id\\0B6-MI-dco6FLWkZmTDZ4MFhRU1k\\7. SaltMUAS_share\\EPA Salt Marsh UAS Study\\Newbury\\Jupyter_Working_Folder\\OTH_14_Oct_2018_CreekR\\XY_Points created.\n",
      "G:\\.shortcut-targets-by-id\\0B6-MI-dco6FLWkZmTDZ4MFhRU1k\\7. SaltMUAS_share\\EPA Salt Marsh UAS Study\\Newbury\\Jupyter_Working_Folder\\OTH_14_Oct_2018_CreekR\\Lines created.\n",
      "G:\\.shortcut-targets-by-id\\0B6-MI-dco6FLWkZmTDZ4MFhRU1k\\7. SaltMUAS_share\\EPA Salt Marsh UAS Study\\Newbury\\Jupyter_Working_Folder\\OTH_14_Oct_2018_CreekR\\Lines_Buffered created.\n",
      "G:\\.shortcut-targets-by-id\\0B6-MI-dco6FLWkZmTDZ4MFhRU1k\\7. SaltMUAS_share\\EPA Salt Marsh UAS Study\\Newbury\\Jupyter_Working_Folder\\OTH_14_Oct_2018_CreekR\\mu created.\n",
      "G:\\.shortcut-targets-by-id\\0B6-MI-dco6FLWkZmTDZ4MFhRU1k\\7. SaltMUAS_share\\EPA Salt Marsh UAS Study\\Newbury\\Jupyter_Working_Folder\\OTH_14_Oct_2018_CreekR\\mu_Buffered created.\n",
      "G:\\.shortcut-targets-by-id\\0B6-MI-dco6FLWkZmTDZ4MFhRU1k\\7. SaltMUAS_share\\EPA Salt Marsh UAS Study\\Newbury\\Jupyter_Working_Folder\\OTH_14_Oct_2018_CreekR\\Class_Lines created.\n",
      "G:\\.shortcut-targets-by-id\\0B6-MI-dco6FLWkZmTDZ4MFhRU1k\\7. SaltMUAS_share\\EPA Salt Marsh UAS Study\\Newbury\\Jupyter_Working_Folder\\OTH_14_Oct_2018_CreekR\\Class_Lines_Buffered created.\n",
      "G:\\.shortcut-targets-by-id\\0B6-MI-dco6FLWkZmTDZ4MFhRU1k\\7. SaltMUAS_share\\EPA Salt Marsh UAS Study\\Newbury\\Jupyter_Working_Folder\\OTH_14_Oct_2018_CreekR\\working created.\n",
      "G:\\.shortcut-targets-by-id\\0B6-MI-dco6FLWkZmTDZ4MFhRU1k\\7. SaltMUAS_share\\EPA Salt Marsh UAS Study\\Newbury\\Jupyter_Working_Folder\\OTH_14_Oct_2018_CreekR\\Polygons created.\n",
      "Folder creation complete.\n"
     ]
    }
   ],
   "source": [
    "# Create directories within selected folder\n",
    "\n",
    "# If tapping into Google Drive, folder may need to be availble offline\n",
    "\n",
    "root = input(\"Enter file path to the manually created Creek Edge folder in the site folder in EPA Salt Marsh UAS Study with quotations -- \")\n",
    "root = root[1:-1]\n",
    "base = root + \"\\Jupyter_Working_Folder\"\n",
    "workIn = input(\"Enter in the date and site in the format: RR_14_Aug_2019 -- \")\n",
    "currentWork = base + \"\\\\\" + workIn\n",
    "XY_Points_Folder = currentWork + \"\\XY_Points\"\n",
    "Lines_Folder = currentWork + \"\\Lines\"\n",
    "Buffer_Folder = currentWork + \"\\Lines_Buffered\"\n",
    "Class_Lines_Folder = currentWork + \"\\Class_Lines\"\n",
    "Class_Buffer_Folder = currentWork + \"\\Class_Lines_Buffered\"\n",
    "mu_Folder = currentWork + \"\\mu\"\n",
    "mu_Buffer_Folder = currentWork + \"\\mu_Buffered\"\n",
    "working = currentWork + \"\\working\"\n",
    "Polygon_Folder = currentWork + \"\\Polygons\"\n",
    "folderList = [currentWork, XY_Points_Folder, Lines_Folder, Buffer_Folder, mu_Folder, \n",
    "              mu_Buffer_Folder, Class_Lines_Folder, Class_Buffer_Folder, working, Polygon_Folder]\n",
    "for i in folderList:\n",
    "    if not os.path.exists(i):\n",
    "        os.makedirs(i)\n",
    "        print(str(i) + \" created.\")\n",
    "print(\"Folder creation complete.\")"
   ]
  },
  {
   "cell_type": "markdown",
   "metadata": {},
   "source": [
    "Check data to edit cell below to determine number of rows to exclude"
   ]
  },
  {
   "cell_type": "code",
   "execution_count": 5,
   "metadata": {},
   "outputs": [
    {
     "name": "stdout",
     "output_type": "stream",
     "text": [
      "Enter file path to ground truthing data .csv here -- \"G:\\.shortcut-targets-by-id\\0B6-MI-dco6FLWkZmTDZ4MFhRU1k\\7. SaltMUAS_share\\EPA Salt Marsh UAS Study\\Newbury\\Ground Truthing\\NAD83_UTM19N\\oldtownhill14oct2018_revised_edge_R.csv\"\n"
     ]
    }
   ],
   "source": [
    "# Read in .cvs with Transects\n",
    "# Keep quotations around file path in the input\n",
    "read_data = input(\"Enter file path to ground truthing data .csv here -- \")\n",
    "read_data = read_data[1:-1]\n",
    "\n",
    "# skiprows argument may need to be tweaked depending on format of the .csv's headers\n",
    "df = pd.read_csv(read_data)"
   ]
  },
  {
   "cell_type": "code",
   "execution_count": 6,
   "metadata": {},
   "outputs": [
    {
     "name": "stdout",
     "output_type": "stream",
     "text": [
      "Preview of data:\n"
     ]
    },
    {
     "data": {
      "text/html": [
       "<div>\n",
       "<style scoped>\n",
       "    .dataframe tbody tr th:only-of-type {\n",
       "        vertical-align: middle;\n",
       "    }\n",
       "\n",
       "    .dataframe tbody tr th {\n",
       "        vertical-align: top;\n",
       "    }\n",
       "\n",
       "    .dataframe thead th {\n",
       "        text-align: right;\n",
       "    }\n",
       "</style>\n",
       "<table border=\"1\" class=\"dataframe\">\n",
       "  <thead>\n",
       "    <tr style=\"text-align: right;\">\n",
       "      <th></th>\n",
       "      <th>PolygonNum</th>\n",
       "      <th>PointNum</th>\n",
       "      <th>Subclass</th>\n",
       "      <th>Northing</th>\n",
       "      <th>Easting</th>\n",
       "      <th>Altitude</th>\n",
       "      <th>Notes</th>\n",
       "    </tr>\n",
       "  </thead>\n",
       "  <tbody>\n",
       "    <tr>\n",
       "      <th>0</th>\n",
       "      <td>1</td>\n",
       "      <td>1</td>\n",
       "      <td>22r</td>\n",
       "      <td>4737159.533</td>\n",
       "      <td>347668.963</td>\n",
       "      <td>0.695</td>\n",
       "      <td>edge,R</td>\n",
       "    </tr>\n",
       "    <tr>\n",
       "      <th>1</th>\n",
       "      <td>1</td>\n",
       "      <td>2</td>\n",
       "      <td>22r</td>\n",
       "      <td>4737157.980</td>\n",
       "      <td>347669.880</td>\n",
       "      <td>0.726</td>\n",
       "      <td>edge,R</td>\n",
       "    </tr>\n",
       "    <tr>\n",
       "      <th>2</th>\n",
       "      <td>1</td>\n",
       "      <td>3</td>\n",
       "      <td>22r</td>\n",
       "      <td>4737157.053</td>\n",
       "      <td>347671.442</td>\n",
       "      <td>0.785</td>\n",
       "      <td>edge,R</td>\n",
       "    </tr>\n",
       "    <tr>\n",
       "      <th>3</th>\n",
       "      <td>1</td>\n",
       "      <td>4</td>\n",
       "      <td>22r</td>\n",
       "      <td>4737155.156</td>\n",
       "      <td>347673.739</td>\n",
       "      <td>0.976</td>\n",
       "      <td>edge,R</td>\n",
       "    </tr>\n",
       "    <tr>\n",
       "      <th>4</th>\n",
       "      <td>2</td>\n",
       "      <td>5</td>\n",
       "      <td>22r</td>\n",
       "      <td>4737151.725</td>\n",
       "      <td>347671.306</td>\n",
       "      <td>0.342</td>\n",
       "      <td>edge,R</td>\n",
       "    </tr>\n",
       "  </tbody>\n",
       "</table>\n",
       "</div>"
      ],
      "text/plain": [
       "   PolygonNum  PointNum Subclass     Northing     Easting  Altitude   Notes\n",
       "0           1         1      22r  4737159.533  347668.963     0.695  edge,R\n",
       "1           1         2      22r  4737157.980  347669.880     0.726  edge,R\n",
       "2           1         3      22r  4737157.053  347671.442     0.785  edge,R\n",
       "3           1         4      22r  4737155.156  347673.739     0.976  edge,R\n",
       "4           2         5      22r  4737151.725  347671.306     0.342  edge,R"
      ]
     },
     "execution_count": 6,
     "metadata": {},
     "output_type": "execute_result"
    }
   ],
   "source": [
    "# Observe number of rows to discard including RTC data\n",
    "print(\"Preview of data:\")\n",
    "df.head()"
   ]
  },
  {
   "cell_type": "code",
   "execution_count": 7,
   "metadata": {},
   "outputs": [
    {
     "name": "stdout",
     "output_type": "stream",
     "text": [
      "If dataframe start at the correct positional row, enter 1, if not, enter 2 -- 1\n"
     ]
    },
    {
     "data": {
      "text/html": [
       "<div>\n",
       "<style scoped>\n",
       "    .dataframe tbody tr th:only-of-type {\n",
       "        vertical-align: middle;\n",
       "    }\n",
       "\n",
       "    .dataframe tbody tr th {\n",
       "        vertical-align: top;\n",
       "    }\n",
       "\n",
       "    .dataframe thead th {\n",
       "        text-align: right;\n",
       "    }\n",
       "</style>\n",
       "<table border=\"1\" class=\"dataframe\">\n",
       "  <thead>\n",
       "    <tr style=\"text-align: right;\">\n",
       "      <th></th>\n",
       "      <th>PolygonNum</th>\n",
       "      <th>PointNum</th>\n",
       "      <th>Subclass</th>\n",
       "      <th>Northing</th>\n",
       "      <th>Easting</th>\n",
       "      <th>Altitude</th>\n",
       "      <th>Notes</th>\n",
       "    </tr>\n",
       "  </thead>\n",
       "  <tbody>\n",
       "    <tr>\n",
       "      <th>0</th>\n",
       "      <td>1</td>\n",
       "      <td>1</td>\n",
       "      <td>22r</td>\n",
       "      <td>4737159.533</td>\n",
       "      <td>347668.963</td>\n",
       "      <td>0.695</td>\n",
       "      <td>edge,R</td>\n",
       "    </tr>\n",
       "    <tr>\n",
       "      <th>1</th>\n",
       "      <td>1</td>\n",
       "      <td>2</td>\n",
       "      <td>22r</td>\n",
       "      <td>4737157.980</td>\n",
       "      <td>347669.880</td>\n",
       "      <td>0.726</td>\n",
       "      <td>edge,R</td>\n",
       "    </tr>\n",
       "    <tr>\n",
       "      <th>2</th>\n",
       "      <td>1</td>\n",
       "      <td>3</td>\n",
       "      <td>22r</td>\n",
       "      <td>4737157.053</td>\n",
       "      <td>347671.442</td>\n",
       "      <td>0.785</td>\n",
       "      <td>edge,R</td>\n",
       "    </tr>\n",
       "    <tr>\n",
       "      <th>3</th>\n",
       "      <td>1</td>\n",
       "      <td>4</td>\n",
       "      <td>22r</td>\n",
       "      <td>4737155.156</td>\n",
       "      <td>347673.739</td>\n",
       "      <td>0.976</td>\n",
       "      <td>edge,R</td>\n",
       "    </tr>\n",
       "    <tr>\n",
       "      <th>4</th>\n",
       "      <td>2</td>\n",
       "      <td>5</td>\n",
       "      <td>22r</td>\n",
       "      <td>4737151.725</td>\n",
       "      <td>347671.306</td>\n",
       "      <td>0.342</td>\n",
       "      <td>edge,R</td>\n",
       "    </tr>\n",
       "  </tbody>\n",
       "</table>\n",
       "</div>"
      ],
      "text/plain": [
       "   PolygonNum  PointNum Subclass     Northing     Easting  Altitude   Notes\n",
       "0           1         1      22r  4737159.533  347668.963     0.695  edge,R\n",
       "1           1         2      22r  4737157.980  347669.880     0.726  edge,R\n",
       "2           1         3      22r  4737157.053  347671.442     0.785  edge,R\n",
       "3           1         4      22r  4737155.156  347673.739     0.976  edge,R\n",
       "4           2         5      22r  4737151.725  347671.306     0.342  edge,R"
      ]
     },
     "execution_count": 7,
     "metadata": {},
     "output_type": "execute_result"
    }
   ],
   "source": [
    "# Remove top rows of data if necessary\n",
    "dat = input(\"If dataframe start at the correct positional row, enter 1, if not, enter 2 -- \")\n",
    "if dat == \"2\":\n",
    "    num = int(input(\"Enter in number of rows to discard -- \"))\n",
    "    if num == 1:\n",
    "        datos = df.iloc[1:]\n",
    "        dato = pd.DataFrame(datos)\n",
    "        print(\"One row discarded\")\n",
    "    elif num == 2:\n",
    "        datos = df.iloc[2:]\n",
    "        dato = pd.DataFrame(datos)  \n",
    "        print(\"Two rows discarded\")\n",
    "    elif num == 3:\n",
    "        datos = df.iloc[3:]\n",
    "        dato = pd.DataFrame(datos) \n",
    "        print(\"Three rows discarded\")\n",
    "    else:\n",
    "        datos = df.iloc[4:]\n",
    "        dato = pd.DataFrame(datos)  \n",
    "        print(\"Rows discarded\")\n",
    "else: dato = pd.DataFrame(df)\n",
    "dato.head()"
   ]
  },
  {
   "cell_type": "code",
   "execution_count": 8,
   "metadata": {},
   "outputs": [],
   "source": [
    "# Rename column headers\n",
    "dato.columns = ['Transect', 'Point Number', 'Subclass', 'Northing', 'Easting', 'Altitude', 'Notes']"
   ]
  },
  {
   "cell_type": "code",
   "execution_count": 9,
   "metadata": {},
   "outputs": [
    {
     "data": {
      "text/html": [
       "<div>\n",
       "<style scoped>\n",
       "    .dataframe tbody tr th:only-of-type {\n",
       "        vertical-align: middle;\n",
       "    }\n",
       "\n",
       "    .dataframe tbody tr th {\n",
       "        vertical-align: top;\n",
       "    }\n",
       "\n",
       "    .dataframe thead th {\n",
       "        text-align: right;\n",
       "    }\n",
       "</style>\n",
       "<table border=\"1\" class=\"dataframe\">\n",
       "  <thead>\n",
       "    <tr style=\"text-align: right;\">\n",
       "      <th></th>\n",
       "      <th>Transect</th>\n",
       "      <th>Point Number</th>\n",
       "      <th>Subclass</th>\n",
       "      <th>Northing</th>\n",
       "      <th>Easting</th>\n",
       "      <th>Altitude</th>\n",
       "      <th>Notes</th>\n",
       "    </tr>\n",
       "  </thead>\n",
       "  <tbody>\n",
       "    <tr>\n",
       "      <th>0</th>\n",
       "      <td>1</td>\n",
       "      <td>1</td>\n",
       "      <td>22r</td>\n",
       "      <td>4737159.533</td>\n",
       "      <td>347668.963</td>\n",
       "      <td>0.695</td>\n",
       "      <td>edge,R</td>\n",
       "    </tr>\n",
       "    <tr>\n",
       "      <th>1</th>\n",
       "      <td>1</td>\n",
       "      <td>2</td>\n",
       "      <td>22r</td>\n",
       "      <td>4737157.980</td>\n",
       "      <td>347669.880</td>\n",
       "      <td>0.726</td>\n",
       "      <td>edge,R</td>\n",
       "    </tr>\n",
       "    <tr>\n",
       "      <th>2</th>\n",
       "      <td>1</td>\n",
       "      <td>3</td>\n",
       "      <td>22r</td>\n",
       "      <td>4737157.053</td>\n",
       "      <td>347671.442</td>\n",
       "      <td>0.785</td>\n",
       "      <td>edge,R</td>\n",
       "    </tr>\n",
       "    <tr>\n",
       "      <th>3</th>\n",
       "      <td>1</td>\n",
       "      <td>4</td>\n",
       "      <td>22r</td>\n",
       "      <td>4737155.156</td>\n",
       "      <td>347673.739</td>\n",
       "      <td>0.976</td>\n",
       "      <td>edge,R</td>\n",
       "    </tr>\n",
       "    <tr>\n",
       "      <th>4</th>\n",
       "      <td>2</td>\n",
       "      <td>5</td>\n",
       "      <td>22r</td>\n",
       "      <td>4737151.725</td>\n",
       "      <td>347671.306</td>\n",
       "      <td>0.342</td>\n",
       "      <td>edge,R</td>\n",
       "    </tr>\n",
       "    <tr>\n",
       "      <th>5</th>\n",
       "      <td>2</td>\n",
       "      <td>6</td>\n",
       "      <td>22r</td>\n",
       "      <td>4737149.745</td>\n",
       "      <td>347671.894</td>\n",
       "      <td>0.634</td>\n",
       "      <td>edge,R</td>\n",
       "    </tr>\n",
       "    <tr>\n",
       "      <th>6</th>\n",
       "      <td>2</td>\n",
       "      <td>7</td>\n",
       "      <td>22r</td>\n",
       "      <td>4737148.561</td>\n",
       "      <td>347671.512</td>\n",
       "      <td>0.609</td>\n",
       "      <td>edge,R</td>\n",
       "    </tr>\n",
       "    <tr>\n",
       "      <th>7</th>\n",
       "      <td>2</td>\n",
       "      <td>8</td>\n",
       "      <td>22r</td>\n",
       "      <td>4737148.145</td>\n",
       "      <td>347669.894</td>\n",
       "      <td>0.445</td>\n",
       "      <td>edge,R</td>\n",
       "    </tr>\n",
       "    <tr>\n",
       "      <th>8</th>\n",
       "      <td>130</td>\n",
       "      <td>294</td>\n",
       "      <td>22r</td>\n",
       "      <td>4737193.703</td>\n",
       "      <td>347654.516</td>\n",
       "      <td>0.987</td>\n",
       "      <td>edge,R</td>\n",
       "    </tr>\n",
       "    <tr>\n",
       "      <th>9</th>\n",
       "      <td>130</td>\n",
       "      <td>295</td>\n",
       "      <td>22r</td>\n",
       "      <td>4737196.930</td>\n",
       "      <td>347653.195</td>\n",
       "      <td>1.030</td>\n",
       "      <td>edge,R</td>\n",
       "    </tr>\n",
       "    <tr>\n",
       "      <th>10</th>\n",
       "      <td>130</td>\n",
       "      <td>296</td>\n",
       "      <td>22r</td>\n",
       "      <td>4737201.154</td>\n",
       "      <td>347652.098</td>\n",
       "      <td>1.059</td>\n",
       "      <td>edge,R</td>\n",
       "    </tr>\n",
       "    <tr>\n",
       "      <th>11</th>\n",
       "      <td>130</td>\n",
       "      <td>297</td>\n",
       "      <td>22r</td>\n",
       "      <td>4737204.810</td>\n",
       "      <td>347652.896</td>\n",
       "      <td>0.913</td>\n",
       "      <td>edge,R</td>\n",
       "    </tr>\n",
       "    <tr>\n",
       "      <th>12</th>\n",
       "      <td>130</td>\n",
       "      <td>298</td>\n",
       "      <td>22r</td>\n",
       "      <td>4737208.269</td>\n",
       "      <td>347653.551</td>\n",
       "      <td>0.770</td>\n",
       "      <td>edge,R</td>\n",
       "    </tr>\n",
       "    <tr>\n",
       "      <th>13</th>\n",
       "      <td>131</td>\n",
       "      <td>299</td>\n",
       "      <td>22r</td>\n",
       "      <td>4737221.576</td>\n",
       "      <td>347650.887</td>\n",
       "      <td>1.116</td>\n",
       "      <td>edge,R</td>\n",
       "    </tr>\n",
       "    <tr>\n",
       "      <th>14</th>\n",
       "      <td>131</td>\n",
       "      <td>300</td>\n",
       "      <td>22r</td>\n",
       "      <td>4737223.897</td>\n",
       "      <td>347650.832</td>\n",
       "      <td>0.983</td>\n",
       "      <td>edge,R</td>\n",
       "    </tr>\n",
       "    <tr>\n",
       "      <th>15</th>\n",
       "      <td>131</td>\n",
       "      <td>301</td>\n",
       "      <td>22r</td>\n",
       "      <td>4737225.607</td>\n",
       "      <td>347650.884</td>\n",
       "      <td>1.017</td>\n",
       "      <td>edge,R</td>\n",
       "    </tr>\n",
       "    <tr>\n",
       "      <th>16</th>\n",
       "      <td>132</td>\n",
       "      <td>302</td>\n",
       "      <td>22r</td>\n",
       "      <td>4737233.534</td>\n",
       "      <td>347648.449</td>\n",
       "      <td>1.257</td>\n",
       "      <td>edge,R</td>\n",
       "    </tr>\n",
       "    <tr>\n",
       "      <th>17</th>\n",
       "      <td>133</td>\n",
       "      <td>303</td>\n",
       "      <td>22r</td>\n",
       "      <td>4737242.847</td>\n",
       "      <td>347649.187</td>\n",
       "      <td>1.172</td>\n",
       "      <td>edge,R</td>\n",
       "    </tr>\n",
       "    <tr>\n",
       "      <th>18</th>\n",
       "      <td>134</td>\n",
       "      <td>304</td>\n",
       "      <td>22r</td>\n",
       "      <td>4737256.405</td>\n",
       "      <td>347651.545</td>\n",
       "      <td>1.235</td>\n",
       "      <td>edge,R</td>\n",
       "    </tr>\n",
       "  </tbody>\n",
       "</table>\n",
       "</div>"
      ],
      "text/plain": [
       "    Transect  Point Number Subclass     Northing     Easting  Altitude   Notes\n",
       "0          1             1      22r  4737159.533  347668.963     0.695  edge,R\n",
       "1          1             2      22r  4737157.980  347669.880     0.726  edge,R\n",
       "2          1             3      22r  4737157.053  347671.442     0.785  edge,R\n",
       "3          1             4      22r  4737155.156  347673.739     0.976  edge,R\n",
       "4          2             5      22r  4737151.725  347671.306     0.342  edge,R\n",
       "5          2             6      22r  4737149.745  347671.894     0.634  edge,R\n",
       "6          2             7      22r  4737148.561  347671.512     0.609  edge,R\n",
       "7          2             8      22r  4737148.145  347669.894     0.445  edge,R\n",
       "8        130           294      22r  4737193.703  347654.516     0.987  edge,R\n",
       "9        130           295      22r  4737196.930  347653.195     1.030  edge,R\n",
       "10       130           296      22r  4737201.154  347652.098     1.059  edge,R\n",
       "11       130           297      22r  4737204.810  347652.896     0.913  edge,R\n",
       "12       130           298      22r  4737208.269  347653.551     0.770  edge,R\n",
       "13       131           299      22r  4737221.576  347650.887     1.116  edge,R\n",
       "14       131           300      22r  4737223.897  347650.832     0.983  edge,R\n",
       "15       131           301      22r  4737225.607  347650.884     1.017  edge,R\n",
       "16       132           302      22r  4737233.534  347648.449     1.257  edge,R\n",
       "17       133           303      22r  4737242.847  347649.187     1.172  edge,R\n",
       "18       134           304      22r  4737256.405  347651.545     1.235  edge,R"
      ]
     },
     "execution_count": 9,
     "metadata": {},
     "output_type": "execute_result"
    }
   ],
   "source": [
    "dato"
   ]
  },
  {
   "cell_type": "code",
   "execution_count": 10,
   "metadata": {},
   "outputs": [],
   "source": [
    "filter_dato = dato[dato['Transect'].notnull()]"
   ]
  },
  {
   "cell_type": "code",
   "execution_count": 11,
   "metadata": {},
   "outputs": [],
   "source": [
    "# Filter for null values where Transect != NaN \n",
    "filter_dato2 = dato[dato['Transect'].isnull()]"
   ]
  },
  {
   "cell_type": "code",
   "execution_count": 12,
   "metadata": {},
   "outputs": [
    {
     "data": {
      "text/plain": [
       "Series([], Name: Transect, dtype: int64)"
      ]
     },
     "execution_count": 12,
     "metadata": {},
     "output_type": "execute_result"
    }
   ],
   "source": [
    "filter_dato2['Transect']"
   ]
  },
  {
   "cell_type": "code",
   "execution_count": 13,
   "metadata": {},
   "outputs": [
    {
     "data": {
      "text/html": [
       "<div>\n",
       "<style scoped>\n",
       "    .dataframe tbody tr th:only-of-type {\n",
       "        vertical-align: middle;\n",
       "    }\n",
       "\n",
       "    .dataframe tbody tr th {\n",
       "        vertical-align: top;\n",
       "    }\n",
       "\n",
       "    .dataframe thead th {\n",
       "        text-align: right;\n",
       "    }\n",
       "</style>\n",
       "<table border=\"1\" class=\"dataframe\">\n",
       "  <thead>\n",
       "    <tr style=\"text-align: right;\">\n",
       "      <th></th>\n",
       "      <th>Transect</th>\n",
       "      <th>Point Number</th>\n",
       "      <th>Subclass</th>\n",
       "      <th>Northing</th>\n",
       "      <th>Easting</th>\n",
       "      <th>Altitude</th>\n",
       "      <th>Notes</th>\n",
       "      <th>Class</th>\n",
       "      <th>Raw Subclass</th>\n",
       "      <th>Pre Angle</th>\n",
       "      <th>Post Angle</th>\n",
       "      <th>mu</th>\n",
       "      <th>Class mu</th>\n",
       "      <th>Pre/Post</th>\n",
       "    </tr>\n",
       "  </thead>\n",
       "  <tbody>\n",
       "    <tr>\n",
       "      <th>0</th>\n",
       "      <td>1</td>\n",
       "      <td>1</td>\n",
       "      <td>22r</td>\n",
       "      <td>4737159.533</td>\n",
       "      <td>347668.963</td>\n",
       "      <td>0.695</td>\n",
       "      <td>edge,R</td>\n",
       "      <td></td>\n",
       "      <td></td>\n",
       "      <td></td>\n",
       "      <td></td>\n",
       "      <td></td>\n",
       "      <td></td>\n",
       "      <td></td>\n",
       "    </tr>\n",
       "    <tr>\n",
       "      <th>1</th>\n",
       "      <td>1</td>\n",
       "      <td>2</td>\n",
       "      <td>22r</td>\n",
       "      <td>4737157.980</td>\n",
       "      <td>347669.880</td>\n",
       "      <td>0.726</td>\n",
       "      <td>edge,R</td>\n",
       "      <td></td>\n",
       "      <td></td>\n",
       "      <td></td>\n",
       "      <td></td>\n",
       "      <td></td>\n",
       "      <td></td>\n",
       "      <td></td>\n",
       "    </tr>\n",
       "    <tr>\n",
       "      <th>2</th>\n",
       "      <td>1</td>\n",
       "      <td>3</td>\n",
       "      <td>22r</td>\n",
       "      <td>4737157.053</td>\n",
       "      <td>347671.442</td>\n",
       "      <td>0.785</td>\n",
       "      <td>edge,R</td>\n",
       "      <td></td>\n",
       "      <td></td>\n",
       "      <td></td>\n",
       "      <td></td>\n",
       "      <td></td>\n",
       "      <td></td>\n",
       "      <td></td>\n",
       "    </tr>\n",
       "    <tr>\n",
       "      <th>3</th>\n",
       "      <td>1</td>\n",
       "      <td>4</td>\n",
       "      <td>22r</td>\n",
       "      <td>4737155.156</td>\n",
       "      <td>347673.739</td>\n",
       "      <td>0.976</td>\n",
       "      <td>edge,R</td>\n",
       "      <td></td>\n",
       "      <td></td>\n",
       "      <td></td>\n",
       "      <td></td>\n",
       "      <td></td>\n",
       "      <td></td>\n",
       "      <td></td>\n",
       "    </tr>\n",
       "    <tr>\n",
       "      <th>4</th>\n",
       "      <td>2</td>\n",
       "      <td>5</td>\n",
       "      <td>22r</td>\n",
       "      <td>4737151.725</td>\n",
       "      <td>347671.306</td>\n",
       "      <td>0.342</td>\n",
       "      <td>edge,R</td>\n",
       "      <td></td>\n",
       "      <td></td>\n",
       "      <td></td>\n",
       "      <td></td>\n",
       "      <td></td>\n",
       "      <td></td>\n",
       "      <td></td>\n",
       "    </tr>\n",
       "  </tbody>\n",
       "</table>\n",
       "</div>"
      ],
      "text/plain": [
       "   Transect  Point Number Subclass     Northing     Easting  Altitude   Notes  \\\n",
       "0         1             1      22r  4737159.533  347668.963     0.695  edge,R   \n",
       "1         1             2      22r  4737157.980  347669.880     0.726  edge,R   \n",
       "2         1             3      22r  4737157.053  347671.442     0.785  edge,R   \n",
       "3         1             4      22r  4737155.156  347673.739     0.976  edge,R   \n",
       "4         2             5      22r  4737151.725  347671.306     0.342  edge,R   \n",
       "\n",
       "  Class Raw Subclass Pre Angle Post Angle mu Class mu Pre/Post  \n",
       "0                                                               \n",
       "1                                                               \n",
       "2                                                               \n",
       "3                                                               \n",
       "4                                                               "
      ]
     },
     "execution_count": 13,
     "metadata": {},
     "output_type": "execute_result"
    }
   ],
   "source": [
    "# Create empty fields for transect angles, Class, and mapping unit\n",
    "\n",
    "filter_dato['Class'] = \"\"\n",
    "filter_dato[\"Raw Subclass\"] = \"\"\n",
    "filter_dato['Pre Angle'] = \"\"\n",
    "filter_dato['Post Angle'] = \"\"\n",
    "filter_dato['mu'] = \"\"\n",
    "filter_dato['Class mu'] = \"\"\n",
    "filter_dato[\"Pre/Post\"] = \"\"\n",
    "\n",
    "\n",
    "# Preview the data\n",
    "filter_dato.head()"
   ]
  },
  {
   "cell_type": "code",
   "execution_count": 14,
   "metadata": {},
   "outputs": [],
   "source": [
    "# with pd.option_context('display.max_rows', None, 'display.max_columns', None):  # more options can be specified also\n",
    "#     print(filter_dato2)"
   ]
  },
  {
   "cell_type": "code",
   "execution_count": null,
   "metadata": {},
   "outputs": [],
   "source": []
  },
  {
   "cell_type": "code",
   "execution_count": 15,
   "metadata": {},
   "outputs": [
    {
     "name": "stdout",
     "output_type": "stream",
     "text": [
      "Press Enter after confirming cell alters data as needed; stop running Notebook if not\n"
     ]
    },
    {
     "data": {
      "text/plain": [
       "''"
      ]
     },
     "execution_count": 15,
     "metadata": {},
     "output_type": "execute_result"
    }
   ],
   "source": [
    "# Use this cell to alter the data if needed\n",
    "\n",
    "input(\"Press Enter after confirming cell alters data as needed; stop running Notebook if not\")\n",
    "\n"
   ]
  },
  {
   "cell_type": "code",
   "execution_count": 16,
   "metadata": {},
   "outputs": [],
   "source": [
    "tList = filter_dato['Transect'].tolist()"
   ]
  },
  {
   "cell_type": "code",
   "execution_count": 17,
   "metadata": {},
   "outputs": [],
   "source": [
    "tList = list(map(str, tList))"
   ]
  },
  {
   "cell_type": "code",
   "execution_count": 18,
   "metadata": {},
   "outputs": [],
   "source": [
    "tList2 = []\n",
    "for i in tList:\n",
    "    tList2.append(i.replace(\".0\", \"\"))"
   ]
  },
  {
   "cell_type": "code",
   "execution_count": 19,
   "metadata": {},
   "outputs": [
    {
     "data": {
      "text/plain": [
       "['1',\n",
       " '1',\n",
       " '1',\n",
       " '1',\n",
       " '2',\n",
       " '2',\n",
       " '2',\n",
       " '2',\n",
       " '130',\n",
       " '130',\n",
       " '130',\n",
       " '130',\n",
       " '130',\n",
       " '131',\n",
       " '131',\n",
       " '131',\n",
       " '132',\n",
       " '133',\n",
       " '134']"
      ]
     },
     "execution_count": 19,
     "metadata": {},
     "output_type": "execute_result"
    }
   ],
   "source": [
    "tList2"
   ]
  },
  {
   "cell_type": "code",
   "execution_count": 20,
   "metadata": {},
   "outputs": [],
   "source": [
    "# Convert any strings to floats or ints\n",
    "\n",
    "filter_dato['Transect'] = tList2\n",
    "filter_dato['Point Number'] = list(map(int, filter_dato['Point Number']))\n",
    "filter_dato['Northing'] = list(map(float, filter_dato['Northing']))\n",
    "filter_dato['Easting'] = list(map(float, filter_dato['Easting']))\n",
    "filter_dato['Altitude'] = list(map(float, filter_dato['Altitude']))"
   ]
  },
  {
   "cell_type": "code",
   "execution_count": 21,
   "metadata": {},
   "outputs": [
    {
     "data": {
      "text/plain": [
       "Transect         object\n",
       "Point Number      int64\n",
       "Subclass         object\n",
       "Northing        float64\n",
       "Easting         float64\n",
       "Altitude        float64\n",
       "Notes            object\n",
       "Class            object\n",
       "Raw Subclass     object\n",
       "Pre Angle        object\n",
       "Post Angle       object\n",
       "mu               object\n",
       "Class mu         object\n",
       "Pre/Post         object\n",
       "dtype: object"
      ]
     },
     "execution_count": 21,
     "metadata": {},
     "output_type": "execute_result"
    }
   ],
   "source": [
    "filter_dato.dtypes"
   ]
  },
  {
   "cell_type": "code",
   "execution_count": 22,
   "metadata": {},
   "outputs": [],
   "source": [
    "# Define variables of lists of coordinates of current, before, and after coordinates\n",
    "# This will be used to calculate angle from one point to the next\n",
    "\n",
    "y = 0\n",
    "precoordN = []\n",
    "for x in filter_dato.iterrows():\n",
    "    precoordN.append(filter_dato['Northing'].iloc[y-1])\n",
    "    y += 1\n",
    "y = 0\n",
    "precoordE = []\n",
    "for x in filter_dato.iterrows():\n",
    "    precoordE.append(filter_dato['Easting'].iloc[y-1])\n",
    "    y += 1\n",
    "y = 0\n",
    "currcoordN = []\n",
    "for x in filter_dato.iterrows():\n",
    "    currcoordN.append(filter_dato['Northing'].iloc[y])\n",
    "    y += 1\n",
    "y = 0\n",
    "currcoordE = []\n",
    "for x in filter_dato.iterrows():\n",
    "    currcoordE.append(filter_dato['Easting'].iloc[y])\n",
    "    y += 1\n",
    "y = 0\n",
    "postcoordN = []\n",
    "for x in filter_dato.iterrows():\n",
    "    if y+1 < len(filter_dato):\n",
    "        postcoordN.append(filter_dato['Northing'].iloc[y+1])\n",
    "        y += 1\n",
    "    else: break\n",
    "y = 0\n",
    "postcoordE = []\n",
    "for x in filter_dato.iterrows():\n",
    "    if y+1 < len(filter_dato):\n",
    "        postcoordE.append(filter_dato['Easting'].iloc[y+1])\n",
    "        y += 1\n",
    "    else: break"
   ]
  },
  {
   "cell_type": "code",
   "execution_count": 23,
   "metadata": {},
   "outputs": [],
   "source": [
    "# # Convert any strings to floats\n",
    "\n",
    "# precoordN = list(map(float, precoordN))\n",
    "# precoordE = list(map(float, precoordE))\n",
    "# currcoordN = list(map(float, currcoordN))\n",
    "# currcoordE = list(map(float, currcoordE))\n",
    "# postcoordN = list(map(float, postcoordN))\n",
    "# postcoordE = list(map(float, postcoordE))"
   ]
  },
  {
   "cell_type": "code",
   "execution_count": 24,
   "metadata": {},
   "outputs": [],
   "source": [
    "# Append calculated angles to lists\n",
    "y = 0\n",
    "preAngle = []\n",
    "for i in filter_dato.iterrows():\n",
    "    if y-1 < 0:\n",
    "        preAngle.append(0)\n",
    "        y += 1\n",
    "    else:\n",
    "        myradians = math.atan2(currcoordN[y]-precoordN[y], currcoordE[y]-precoordE[y])\n",
    "        mydegrees = math.degrees(myradians)\n",
    "        preAngle.append(mydegrees)\n",
    "        y += 1\n",
    "\n",
    "y = 0\n",
    "postAngle = []\n",
    "for i in filter_dato.iterrows():\n",
    "    if y+1 < len(filter_dato):\n",
    "        myradians = math.atan2(postcoordN[y]-currcoordN[y], postcoordE[y]-currcoordE[y])\n",
    "        mydegrees = math.degrees(myradians)\n",
    "        postAngle.append(mydegrees)\n",
    "        y += 1\n",
    "    else: \n",
    "        postAngle.append(0)\n",
    "        y += 1       "
   ]
  },
  {
   "cell_type": "code",
   "execution_count": 25,
   "metadata": {},
   "outputs": [],
   "source": [
    "# Below was editted by adding in string conversions"
   ]
  },
  {
   "cell_type": "code",
   "execution_count": 26,
   "metadata": {},
   "outputs": [],
   "source": [
    "# Parse out Class from Subclass and append to new list\n",
    "\n",
    "classe = []\n",
    "y = 0\n",
    "for i in filter_dato.iterrows():\n",
    "    if str(filter_dato['Subclass'].iloc[y])[:1] == \"0\" or str(filter_dato['Subclass'].iloc[y])[:1] == \"1\":\n",
    "        classe.append(1)\n",
    "        y += 1\n",
    "    elif str(filter_dato['Subclass'].iloc[y])[:1] == \"2\":\n",
    "        classe.append(2)\n",
    "        y += 1\n",
    "    elif str(filter_dato['Subclass'].iloc[y])[:1] == \"3\":\n",
    "        classe.append(3)\n",
    "        y += 1\n",
    "    else:\n",
    "        classe.append(9999)"
   ]
  },
  {
   "cell_type": "code",
   "execution_count": 27,
   "metadata": {},
   "outputs": [],
   "source": [
    "# Parse out Raw Subclass data with only letters - no attribute letters\n",
    "\n",
    "subraw = []\n",
    "y = 0\n",
    "for i in filter_dato[\"Subclass\"]:\n",
    "    subraw.append(str(i)[:2])"
   ]
  },
  {
   "cell_type": "code",
   "execution_count": 28,
   "metadata": {},
   "outputs": [],
   "source": [
    "# Add lists to empty columns\n",
    "\n",
    "filter_dato['Pre Angle'] = preAngle\n",
    "filter_dato['Post Angle'] = postAngle\n",
    "filter_dato['Class'] = classe\n",
    "filter_dato[\"Raw Subclass\"] = subraw"
   ]
  },
  {
   "cell_type": "code",
   "execution_count": 29,
   "metadata": {},
   "outputs": [
    {
     "name": "stdout",
     "output_type": "stream",
     "text": [
      "<class 'str'>\n",
      "<class 'str'>\n",
      "<class 'str'>\n",
      "<class 'str'>\n",
      "<class 'str'>\n",
      "<class 'str'>\n",
      "<class 'str'>\n",
      "<class 'str'>\n",
      "<class 'str'>\n",
      "<class 'str'>\n",
      "<class 'str'>\n",
      "<class 'str'>\n",
      "<class 'str'>\n",
      "<class 'str'>\n",
      "<class 'str'>\n",
      "<class 'str'>\n",
      "<class 'str'>\n",
      "<class 'str'>\n",
      "<class 'str'>\n"
     ]
    }
   ],
   "source": [
    "x = 0\n",
    "for i in filter_dato['Transect']:\n",
    "    print(type(filter_dato['Transect'].iloc[x]))\n",
    "    x += 1"
   ]
  },
  {
   "cell_type": "code",
   "execution_count": 30,
   "metadata": {},
   "outputs": [
    {
     "data": {
      "text/html": [
       "<div>\n",
       "<style scoped>\n",
       "    .dataframe tbody tr th:only-of-type {\n",
       "        vertical-align: middle;\n",
       "    }\n",
       "\n",
       "    .dataframe tbody tr th {\n",
       "        vertical-align: top;\n",
       "    }\n",
       "\n",
       "    .dataframe thead th {\n",
       "        text-align: right;\n",
       "    }\n",
       "</style>\n",
       "<table border=\"1\" class=\"dataframe\">\n",
       "  <thead>\n",
       "    <tr style=\"text-align: right;\">\n",
       "      <th></th>\n",
       "      <th>Transect</th>\n",
       "      <th>Point Number</th>\n",
       "      <th>Subclass</th>\n",
       "      <th>Northing</th>\n",
       "      <th>Easting</th>\n",
       "      <th>Altitude</th>\n",
       "      <th>Notes</th>\n",
       "      <th>Class</th>\n",
       "      <th>Raw Subclass</th>\n",
       "      <th>Pre Angle</th>\n",
       "      <th>Post Angle</th>\n",
       "      <th>mu</th>\n",
       "      <th>Class mu</th>\n",
       "      <th>Pre/Post</th>\n",
       "    </tr>\n",
       "  </thead>\n",
       "  <tbody>\n",
       "    <tr>\n",
       "      <th>0</th>\n",
       "      <td>1</td>\n",
       "      <td>1</td>\n",
       "      <td>22r</td>\n",
       "      <td>4737159.533</td>\n",
       "      <td>347668.963</td>\n",
       "      <td>0.695</td>\n",
       "      <td>edge,R</td>\n",
       "      <td>2</td>\n",
       "      <td>22</td>\n",
       "      <td>0.000000</td>\n",
       "      <td>-59.439421</td>\n",
       "      <td></td>\n",
       "      <td></td>\n",
       "      <td></td>\n",
       "    </tr>\n",
       "    <tr>\n",
       "      <th>1</th>\n",
       "      <td>1</td>\n",
       "      <td>2</td>\n",
       "      <td>22r</td>\n",
       "      <td>4737157.980</td>\n",
       "      <td>347669.880</td>\n",
       "      <td>0.726</td>\n",
       "      <td>edge,R</td>\n",
       "      <td>2</td>\n",
       "      <td>22</td>\n",
       "      <td>-59.439421</td>\n",
       "      <td>-30.687856</td>\n",
       "      <td></td>\n",
       "      <td></td>\n",
       "      <td></td>\n",
       "    </tr>\n",
       "    <tr>\n",
       "      <th>2</th>\n",
       "      <td>1</td>\n",
       "      <td>3</td>\n",
       "      <td>22r</td>\n",
       "      <td>4737157.053</td>\n",
       "      <td>347671.442</td>\n",
       "      <td>0.785</td>\n",
       "      <td>edge,R</td>\n",
       "      <td>2</td>\n",
       "      <td>22</td>\n",
       "      <td>-30.687856</td>\n",
       "      <td>-39.551932</td>\n",
       "      <td></td>\n",
       "      <td></td>\n",
       "      <td></td>\n",
       "    </tr>\n",
       "    <tr>\n",
       "      <th>3</th>\n",
       "      <td>1</td>\n",
       "      <td>4</td>\n",
       "      <td>22r</td>\n",
       "      <td>4737155.156</td>\n",
       "      <td>347673.739</td>\n",
       "      <td>0.976</td>\n",
       "      <td>edge,R</td>\n",
       "      <td>2</td>\n",
       "      <td>22</td>\n",
       "      <td>-39.551932</td>\n",
       "      <td>-125.341319</td>\n",
       "      <td></td>\n",
       "      <td></td>\n",
       "      <td></td>\n",
       "    </tr>\n",
       "    <tr>\n",
       "      <th>4</th>\n",
       "      <td>2</td>\n",
       "      <td>5</td>\n",
       "      <td>22r</td>\n",
       "      <td>4737151.725</td>\n",
       "      <td>347671.306</td>\n",
       "      <td>0.342</td>\n",
       "      <td>edge,R</td>\n",
       "      <td>2</td>\n",
       "      <td>22</td>\n",
       "      <td>-125.341319</td>\n",
       "      <td>-73.460176</td>\n",
       "      <td></td>\n",
       "      <td></td>\n",
       "      <td></td>\n",
       "    </tr>\n",
       "    <tr>\n",
       "      <th>5</th>\n",
       "      <td>2</td>\n",
       "      <td>6</td>\n",
       "      <td>22r</td>\n",
       "      <td>4737149.745</td>\n",
       "      <td>347671.894</td>\n",
       "      <td>0.634</td>\n",
       "      <td>edge,R</td>\n",
       "      <td>2</td>\n",
       "      <td>22</td>\n",
       "      <td>-73.460176</td>\n",
       "      <td>-107.881524</td>\n",
       "      <td></td>\n",
       "      <td></td>\n",
       "      <td></td>\n",
       "    </tr>\n",
       "    <tr>\n",
       "      <th>6</th>\n",
       "      <td>2</td>\n",
       "      <td>7</td>\n",
       "      <td>22r</td>\n",
       "      <td>4737148.561</td>\n",
       "      <td>347671.512</td>\n",
       "      <td>0.609</td>\n",
       "      <td>edge,R</td>\n",
       "      <td>2</td>\n",
       "      <td>22</td>\n",
       "      <td>-107.881524</td>\n",
       "      <td>-165.581125</td>\n",
       "      <td></td>\n",
       "      <td></td>\n",
       "      <td></td>\n",
       "    </tr>\n",
       "    <tr>\n",
       "      <th>7</th>\n",
       "      <td>2</td>\n",
       "      <td>8</td>\n",
       "      <td>22r</td>\n",
       "      <td>4737148.145</td>\n",
       "      <td>347669.894</td>\n",
       "      <td>0.445</td>\n",
       "      <td>edge,R</td>\n",
       "      <td>2</td>\n",
       "      <td>22</td>\n",
       "      <td>-165.581125</td>\n",
       "      <td>108.651994</td>\n",
       "      <td></td>\n",
       "      <td></td>\n",
       "      <td></td>\n",
       "    </tr>\n",
       "    <tr>\n",
       "      <th>8</th>\n",
       "      <td>130</td>\n",
       "      <td>294</td>\n",
       "      <td>22r</td>\n",
       "      <td>4737193.703</td>\n",
       "      <td>347654.516</td>\n",
       "      <td>0.987</td>\n",
       "      <td>edge,R</td>\n",
       "      <td>2</td>\n",
       "      <td>22</td>\n",
       "      <td>108.651994</td>\n",
       "      <td>112.262158</td>\n",
       "      <td></td>\n",
       "      <td></td>\n",
       "      <td></td>\n",
       "    </tr>\n",
       "    <tr>\n",
       "      <th>9</th>\n",
       "      <td>130</td>\n",
       "      <td>295</td>\n",
       "      <td>22r</td>\n",
       "      <td>4737196.930</td>\n",
       "      <td>347653.195</td>\n",
       "      <td>1.030</td>\n",
       "      <td>edge,R</td>\n",
       "      <td>2</td>\n",
       "      <td>22</td>\n",
       "      <td>112.262158</td>\n",
       "      <td>104.558460</td>\n",
       "      <td></td>\n",
       "      <td></td>\n",
       "      <td></td>\n",
       "    </tr>\n",
       "    <tr>\n",
       "      <th>10</th>\n",
       "      <td>130</td>\n",
       "      <td>296</td>\n",
       "      <td>22r</td>\n",
       "      <td>4737201.154</td>\n",
       "      <td>347652.098</td>\n",
       "      <td>1.059</td>\n",
       "      <td>edge,R</td>\n",
       "      <td>2</td>\n",
       "      <td>22</td>\n",
       "      <td>104.558460</td>\n",
       "      <td>77.687088</td>\n",
       "      <td></td>\n",
       "      <td></td>\n",
       "      <td></td>\n",
       "    </tr>\n",
       "    <tr>\n",
       "      <th>11</th>\n",
       "      <td>130</td>\n",
       "      <td>297</td>\n",
       "      <td>22r</td>\n",
       "      <td>4737204.810</td>\n",
       "      <td>347652.896</td>\n",
       "      <td>0.913</td>\n",
       "      <td>edge,R</td>\n",
       "      <td>2</td>\n",
       "      <td>22</td>\n",
       "      <td>77.687088</td>\n",
       "      <td>79.277369</td>\n",
       "      <td></td>\n",
       "      <td></td>\n",
       "      <td></td>\n",
       "    </tr>\n",
       "    <tr>\n",
       "      <th>12</th>\n",
       "      <td>130</td>\n",
       "      <td>298</td>\n",
       "      <td>22r</td>\n",
       "      <td>4737208.269</td>\n",
       "      <td>347653.551</td>\n",
       "      <td>0.770</td>\n",
       "      <td>edge,R</td>\n",
       "      <td>2</td>\n",
       "      <td>22</td>\n",
       "      <td>79.277369</td>\n",
       "      <td>101.320696</td>\n",
       "      <td></td>\n",
       "      <td></td>\n",
       "      <td></td>\n",
       "    </tr>\n",
       "    <tr>\n",
       "      <th>13</th>\n",
       "      <td>131</td>\n",
       "      <td>299</td>\n",
       "      <td>22r</td>\n",
       "      <td>4737221.576</td>\n",
       "      <td>347650.887</td>\n",
       "      <td>1.116</td>\n",
       "      <td>edge,R</td>\n",
       "      <td>2</td>\n",
       "      <td>22</td>\n",
       "      <td>101.320696</td>\n",
       "      <td>91.357466</td>\n",
       "      <td></td>\n",
       "      <td></td>\n",
       "      <td></td>\n",
       "    </tr>\n",
       "    <tr>\n",
       "      <th>14</th>\n",
       "      <td>131</td>\n",
       "      <td>300</td>\n",
       "      <td>22r</td>\n",
       "      <td>4737223.897</td>\n",
       "      <td>347650.832</td>\n",
       "      <td>0.983</td>\n",
       "      <td>edge,R</td>\n",
       "      <td>2</td>\n",
       "      <td>22</td>\n",
       "      <td>91.357466</td>\n",
       "      <td>88.258209</td>\n",
       "      <td></td>\n",
       "      <td></td>\n",
       "      <td></td>\n",
       "    </tr>\n",
       "    <tr>\n",
       "      <th>15</th>\n",
       "      <td>131</td>\n",
       "      <td>301</td>\n",
       "      <td>22r</td>\n",
       "      <td>4737225.607</td>\n",
       "      <td>347650.884</td>\n",
       "      <td>1.017</td>\n",
       "      <td>edge,R</td>\n",
       "      <td>2</td>\n",
       "      <td>22</td>\n",
       "      <td>88.258209</td>\n",
       "      <td>107.075806</td>\n",
       "      <td></td>\n",
       "      <td></td>\n",
       "      <td></td>\n",
       "    </tr>\n",
       "    <tr>\n",
       "      <th>16</th>\n",
       "      <td>132</td>\n",
       "      <td>302</td>\n",
       "      <td>22r</td>\n",
       "      <td>4737233.534</td>\n",
       "      <td>347648.449</td>\n",
       "      <td>1.257</td>\n",
       "      <td>edge,R</td>\n",
       "      <td>2</td>\n",
       "      <td>22</td>\n",
       "      <td>107.075806</td>\n",
       "      <td>85.469118</td>\n",
       "      <td></td>\n",
       "      <td></td>\n",
       "      <td></td>\n",
       "    </tr>\n",
       "    <tr>\n",
       "      <th>17</th>\n",
       "      <td>133</td>\n",
       "      <td>303</td>\n",
       "      <td>22r</td>\n",
       "      <td>4737242.847</td>\n",
       "      <td>347649.187</td>\n",
       "      <td>1.172</td>\n",
       "      <td>edge,R</td>\n",
       "      <td>2</td>\n",
       "      <td>22</td>\n",
       "      <td>85.469118</td>\n",
       "      <td>80.133836</td>\n",
       "      <td></td>\n",
       "      <td></td>\n",
       "      <td></td>\n",
       "    </tr>\n",
       "    <tr>\n",
       "      <th>18</th>\n",
       "      <td>134</td>\n",
       "      <td>304</td>\n",
       "      <td>22r</td>\n",
       "      <td>4737256.405</td>\n",
       "      <td>347651.545</td>\n",
       "      <td>1.235</td>\n",
       "      <td>edge,R</td>\n",
       "      <td>2</td>\n",
       "      <td>22</td>\n",
       "      <td>80.133836</td>\n",
       "      <td>0.000000</td>\n",
       "      <td></td>\n",
       "      <td></td>\n",
       "      <td></td>\n",
       "    </tr>\n",
       "  </tbody>\n",
       "</table>\n",
       "</div>"
      ],
      "text/plain": [
       "   Transect  Point Number Subclass     Northing     Easting  Altitude   Notes  \\\n",
       "0         1             1      22r  4737159.533  347668.963     0.695  edge,R   \n",
       "1         1             2      22r  4737157.980  347669.880     0.726  edge,R   \n",
       "2         1             3      22r  4737157.053  347671.442     0.785  edge,R   \n",
       "3         1             4      22r  4737155.156  347673.739     0.976  edge,R   \n",
       "4         2             5      22r  4737151.725  347671.306     0.342  edge,R   \n",
       "5         2             6      22r  4737149.745  347671.894     0.634  edge,R   \n",
       "6         2             7      22r  4737148.561  347671.512     0.609  edge,R   \n",
       "7         2             8      22r  4737148.145  347669.894     0.445  edge,R   \n",
       "8       130           294      22r  4737193.703  347654.516     0.987  edge,R   \n",
       "9       130           295      22r  4737196.930  347653.195     1.030  edge,R   \n",
       "10      130           296      22r  4737201.154  347652.098     1.059  edge,R   \n",
       "11      130           297      22r  4737204.810  347652.896     0.913  edge,R   \n",
       "12      130           298      22r  4737208.269  347653.551     0.770  edge,R   \n",
       "13      131           299      22r  4737221.576  347650.887     1.116  edge,R   \n",
       "14      131           300      22r  4737223.897  347650.832     0.983  edge,R   \n",
       "15      131           301      22r  4737225.607  347650.884     1.017  edge,R   \n",
       "16      132           302      22r  4737233.534  347648.449     1.257  edge,R   \n",
       "17      133           303      22r  4737242.847  347649.187     1.172  edge,R   \n",
       "18      134           304      22r  4737256.405  347651.545     1.235  edge,R   \n",
       "\n",
       "    Class Raw Subclass   Pre Angle  Post Angle mu Class mu Pre/Post  \n",
       "0       2           22    0.000000  -59.439421                       \n",
       "1       2           22  -59.439421  -30.687856                       \n",
       "2       2           22  -30.687856  -39.551932                       \n",
       "3       2           22  -39.551932 -125.341319                       \n",
       "4       2           22 -125.341319  -73.460176                       \n",
       "5       2           22  -73.460176 -107.881524                       \n",
       "6       2           22 -107.881524 -165.581125                       \n",
       "7       2           22 -165.581125  108.651994                       \n",
       "8       2           22  108.651994  112.262158                       \n",
       "9       2           22  112.262158  104.558460                       \n",
       "10      2           22  104.558460   77.687088                       \n",
       "11      2           22   77.687088   79.277369                       \n",
       "12      2           22   79.277369  101.320696                       \n",
       "13      2           22  101.320696   91.357466                       \n",
       "14      2           22   91.357466   88.258209                       \n",
       "15      2           22   88.258209  107.075806                       \n",
       "16      2           22  107.075806   85.469118                       \n",
       "17      2           22   85.469118   80.133836                       \n",
       "18      2           22   80.133836    0.000000                       "
      ]
     },
     "execution_count": 30,
     "metadata": {},
     "output_type": "execute_result"
    }
   ],
   "source": [
    "\n",
    "filter_dato"
   ]
  },
  {
   "cell_type": "code",
   "execution_count": 31,
   "metadata": {},
   "outputs": [
    {
     "name": "stdout",
     "output_type": "stream",
     "text": [
      "not mu\n",
      "not mu\n",
      "not mu\n",
      "not mu\n",
      "not mu\n",
      "not mu\n",
      "not mu\n",
      "not mu\n",
      "not mu\n",
      "not mu\n",
      "not mu\n",
      "not mu\n",
      "not mu\n",
      "not mu\n",
      "not mu\n",
      "not mu\n",
      "mu\n",
      "mu\n"
     ]
    }
   ],
   "source": [
    "# Create new shapefile for Points that do not create a line\n",
    "y = 0\n",
    "muList = []\n",
    "\n",
    "# for loop to write point for every mapping unit\n",
    "for feat in filter_dato.iterrows():\n",
    "\n",
    "    # Create if statement so you y is never > the length of your data set; this will end your script\n",
    "    if y + 1 < len(filter_dato):\n",
    "#         if filter_dato['Raw Subclass'].iloc[y] == \"13\":\n",
    "#             muList.append(1)\n",
    "#             print(\"thirteen\")\n",
    "#         else:\n",
    "        if muCheck(y, filter_dato) == 2:\n",
    "            muList.append(1)\n",
    "            print(\"mu\")\n",
    "\n",
    "\n",
    "\n",
    "            y += 1\n",
    "        else: \n",
    "            muList.append(0)\n",
    "            y += 1\n",
    "            print(\"not mu\")\n",
    "            \n",
    "            \n",
    "# THIS IS CHANGED TO ZERO IN CREEK EDGE GENERATION\n",
    "muList.append(0)        \n",
    "        \n",
    "# Repeart for Class mapping units\n",
    "\n",
    "y = 0\n",
    "ClassmuList = []\n",
    "for feat in filter_dato.iterrows():\n",
    "    if y + 1 < len(filter_dato):\n",
    "        if muClassCheck(y, filter_dato) == 2:\n",
    "            ClassmuList.append(1)\n",
    "            \n",
    "            \n",
    "\n",
    "            y += 1\n",
    "        else: \n",
    "            ClassmuList.append(0)\n",
    "            y += 1\n",
    "    else:\n",
    "        ClassmuList.append(1)"
   ]
  },
  {
   "cell_type": "code",
   "execution_count": 32,
   "metadata": {},
   "outputs": [
    {
     "data": {
      "text/plain": [
       "[0, 0, 0, 0, 0, 0, 0, 0, 0, 0, 0, 0, 0, 0, 0, 0, 1, 1, 0]"
      ]
     },
     "execution_count": 32,
     "metadata": {},
     "output_type": "execute_result"
    }
   ],
   "source": [
    "muList"
   ]
  },
  {
   "cell_type": "code",
   "execution_count": 33,
   "metadata": {},
   "outputs": [],
   "source": [
    "# Append muList to dataframe\n",
    "filter_dato['mu'] = 0\n",
    "filter_dato['Class mu'] = 0"
   ]
  },
  {
   "cell_type": "code",
   "execution_count": 34,
   "metadata": {},
   "outputs": [
    {
     "data": {
      "text/plain": [
       "0     0\n",
       "1     0\n",
       "2     0\n",
       "3     0\n",
       "4     0\n",
       "5     0\n",
       "6     0\n",
       "7     0\n",
       "8     0\n",
       "9     0\n",
       "10    0\n",
       "11    0\n",
       "12    0\n",
       "13    0\n",
       "14    0\n",
       "15    0\n",
       "16    0\n",
       "17    0\n",
       "18    0\n",
       "Name: mu, dtype: int64"
      ]
     },
     "execution_count": 34,
     "metadata": {},
     "output_type": "execute_result"
    }
   ],
   "source": [
    "filter_dato[\"mu\"]"
   ]
  },
  {
   "cell_type": "code",
   "execution_count": 35,
   "metadata": {},
   "outputs": [
    {
     "name": "stdout",
     "output_type": "stream",
     "text": [
      "Keep value as zero if the last point in the data is not a mapping unit. Press Enter. \n"
     ]
    },
    {
     "name": "stderr",
     "output_type": "stream",
     "text": [
      "C:\\Users\\brett\\anaconda3\\envs\\CAFE\\lib\\site-packages\\ipykernel_launcher.py:4: SettingWithCopyWarning: \n",
      "A value is trying to be set on a copy of a slice from a DataFrame\n",
      "\n",
      "See the caveats in the documentation: https://pandas.pydata.org/pandas-docs/stable/user_guide/indexing.html#returning-a-view-versus-a-copy\n",
      "  after removing the cwd from sys.path.\n"
     ]
    }
   ],
   "source": [
    "# EDITTED IN CREEK EDGE\n",
    "\n",
    "input(\"Keep value as zero if the last point in the data is not a mapping unit. Press Enter. \")\n",
    "filter_dato['mu'][-1:] = 0"
   ]
  },
  {
   "cell_type": "code",
   "execution_count": 36,
   "metadata": {},
   "outputs": [],
   "source": [
    "# Create for loop to create list of pre or post to append to dataframe\n",
    "# This angle determines the angle the mapping unit should be rotated\n",
    "\n",
    "y = 0\n",
    "prepost = []\n",
    "\n",
    "for i in filter_dato.iterrows():\n",
    "    if y + 1 < len(filter_dato):\n",
    "        pp = prepostCheck(y, filter_dato)\n",
    "        prepost.append(pp)\n",
    "        y += 1\n",
    "    else: prepost.append(\"pre\")"
   ]
  },
  {
   "cell_type": "code",
   "execution_count": 37,
   "metadata": {},
   "outputs": [],
   "source": [
    "# Append prepost list to dataframe\n",
    "\n",
    "filter_dato[\"Pre/Post\"] = prepost"
   ]
  },
  {
   "cell_type": "code",
   "execution_count": 38,
   "metadata": {},
   "outputs": [],
   "source": [
    "# Remove extra spaces from transect column\n",
    "\n",
    "# Create list of 'Transect' column\n",
    "\n",
    "tLists = filter_dato['Transect'].tolist()\n",
    "\n",
    "# Replace spaces with no space\n",
    "\n",
    "tList2 = []\n",
    "for i in tLists:\n",
    "    tList2.append(i.replace(\" \", \"\"))\n",
    "    \n",
    "# Append list to column\n",
    "\n",
    "filter_dato['Transect'] = tList2"
   ]
  },
  {
   "cell_type": "code",
   "execution_count": 39,
   "metadata": {},
   "outputs": [],
   "source": [
    "# Create QGIS XY Point Data into a List based on coordinates\n",
    "point_list = [QgsPointXY(r['Easting'], r['Northing']) for i, r in filter_dato.iterrows() ]"
   ]
  },
  {
   "cell_type": "code",
   "execution_count": 40,
   "metadata": {},
   "outputs": [],
   "source": [
    "# Create Multipoint list\n",
    "points = QgsGeometry.fromMultiPointXY(point_list)"
   ]
  },
  {
   "cell_type": "markdown",
   "metadata": {},
   "source": [
    "Create the XY Point Shapefile"
   ]
  },
  {
   "cell_type": "code",
   "execution_count": 41,
   "metadata": {},
   "outputs": [
    {
     "data": {
      "text/plain": [
       "True"
      ]
     },
     "execution_count": 41,
     "metadata": {},
     "output_type": "execute_result"
    }
   ],
   "source": [
    "# Create fields with correct data types\n",
    "\n",
    "layerFields = QgsFields()\n",
    "layerFields.append(QgsField('Transect', QVariant.String))\n",
    "layerFields.append(QgsField('PointNum', QVariant.Int))\n",
    "layerFields.append(QgsField('SubClass', QVariant.String))\n",
    "layerFields.append(QgsField('Northing', QVariant.Double))\n",
    "layerFields.append(QgsField('Easting', QVariant.Double))\n",
    "layerFields.append(QgsField('Altitude', QVariant.Double))\n",
    "layerFields.append(QgsField('Notes', QVariant.String))\n",
    "layerFields.append(QgsField('Class', QVariant.Int))\n",
    "layerFields.append(QgsField('Raw Subclass', QVariant.String))\n",
    "layerFields.append(QgsField('Pre Angle', QVariant.Double))\n",
    "layerFields.append(QgsField('Post Angle', QVariant.Double))\n",
    "layerFields.append(QgsField('mu', QVariant.Int))\n",
    "layerFields.append(QgsField('Class mu', QVariant.Int))\n",
    "layerFields.append(QgsField('Pre/Post', QVariant.String))\n",
    "\n"
   ]
  },
  {
   "cell_type": "code",
   "execution_count": 42,
   "metadata": {},
   "outputs": [],
   "source": [
    "# Set attributes by assigning to list assigned to variable\n",
    "attributeList = [filter_dato['Transect'].iloc[y], \\\n",
    "                 int(filter_dato['Point Number'].iloc[y]), \\\n",
    "                 filter_dato['Subclass'].iloc[y], \\\n",
    "                 filter_dato['Northing'].iloc[y].item(), \\\n",
    "                 filter_dato['Easting'].iloc[y].item(), \\\n",
    "                 filter_dato['Altitude'].iloc[y].item(), \\\n",
    "                 filter_dato['Notes'].iloc[y], \\\n",
    "                 filter_dato['Class'].iloc[y].item(), \\\n",
    "                 filter_dato['Raw Subclass'].iloc[y], \\\n",
    "                 filter_dato['Pre Angle'].iloc[y].item(), \\\n",
    "                 filter_dato['Post Angle'].iloc[y].item(), \\\n",
    "                 filter_dato['mu'].iloc[y].item(),  \\\n",
    "                 filter_dato['Class mu'].iloc[y].item(), \\\n",
    "                 filter_dato['Pre/Post'].iloc[y]]"
   ]
  },
  {
   "cell_type": "code",
   "execution_count": 43,
   "metadata": {},
   "outputs": [],
   "source": [
    "# Write XY Point Data for each row in .csv\n",
    "# Specify output to variable\n",
    "XY_Output_Path = XY_Points_Folder"
   ]
  },
  {
   "cell_type": "code",
   "execution_count": 44,
   "metadata": {},
   "outputs": [
    {
     "name": "stderr",
     "output_type": "stream",
     "text": [
      "C:\\Users\\brett\\anaconda3\\envs\\CAFE\\lib\\site-packages\\ipykernel_launcher.py:7: DeprecationWarning: QgsVectorFileWriter constructor is deprecated\n",
      "  import sys\n"
     ]
    }
   ],
   "source": [
    "# Use for loop to create shapefile\n",
    "y = 0\n",
    "for x in filter_dato.itertuples():\n",
    "    # Specify file output and name of .shp\n",
    "    file = XY_Output_Path + \"\\XYPoint\" + str(y) + \".shp\"\n",
    "    # Set type (QgsWkbTypes.), CRS (EPSG:26919), and type of file (ESRI Shapefile)\n",
    "    writer = QgsVectorFileWriter(file, 'UTF-8', layerFields, QgsWkbTypes.MultiPoint, QgsCoordinateReferenceSystem('EPSG:26919'), 'ESRI Shapefile')\n",
    "    # Appends X and Y coordinates to variable 'point1' at the y position (starts at 0 and adds 1 for each iteration of the for loop)\n",
    "    point1 = QgsGeometry.fromPointXY(point_list[y])\n",
    "    # Create an empty feature\n",
    "    feat = QgsFeature()\n",
    "    # Set feature's geometry to that of point1\n",
    "    feat.setGeometry(point1)\n",
    "    # Set values from dataframe to attributes\n",
    "    # Values will be applied in the order you created the layerFields\n",
    "    feat.setAttributes([filter_dato['Transect'].iloc[y], \\\n",
    "                 int(filter_dato['Point Number'].iloc[y]), \\\n",
    "                 filter_dato['Subclass'].iloc[y], \\\n",
    "                 filter_dato['Northing'].iloc[y].item(), \\\n",
    "                 filter_dato['Easting'].iloc[y].item(), \\\n",
    "                 filter_dato['Altitude'].iloc[y].item(), \\\n",
    "                 filter_dato['Notes'].iloc[y], \\\n",
    "                 filter_dato['Class'].iloc[y].item(), \\\n",
    "                 filter_dato['Raw Subclass'].iloc[y], \\\n",
    "                 filter_dato['Pre Angle'].iloc[y].item(), \\\n",
    "                 filter_dato['Post Angle'].iloc[y].item(), \\\n",
    "                 filter_dato['mu'].iloc[y].item(),  \\\n",
    "                 filter_dato['Class mu'].iloc[y].item(), \\\n",
    "                 filter_dato['Pre/Post'].iloc[y]])\n",
    "    # Add 1 to y to continue through the dataframe during next for loop\n",
    "    y += 1\n",
    "    # write the feature\n",
    "    writer.addFeature(feat)\n",
    "\n",
    "del(writer)"
   ]
  },
  {
   "cell_type": "markdown",
   "metadata": {},
   "source": [
    "Concatenate all XY Point shapefiles into a single shapefile"
   ]
  },
  {
   "cell_type": "code",
   "execution_count": 45,
   "metadata": {},
   "outputs": [],
   "source": [
    "# Specify which folder to look in\n",
    "file = os.listdir(XY_Output_Path)\n",
    "\n",
    "# Look for all files ending in \".shp\"\n",
    "path = [os.path.join(XY_Output_Path, i) for i in file if \".shp\" in i]\n",
    "\n",
    "# Concatenate to file specified in last line of code\n",
    "gdf = gpd.GeoDataFrame(pd.concat([gpd.read_file(i) for i in path],\n",
    "                        ignore_index=True), crs=gpd.read_file(path[0]).crs)\n",
    "# Write to same folder + name of new folder to be created which will include the shapefile of compiled XY Points\n",
    "XY_Points_Comp = \"\\XY_Points_Comp\""
   ]
  },
  {
   "cell_type": "code",
   "execution_count": 46,
   "metadata": {},
   "outputs": [],
   "source": [
    "# Write concatenated files to output path\n",
    "gdf.to_file(XY_Output_Path + XY_Points_Comp )"
   ]
  },
  {
   "cell_type": "code",
   "execution_count": 47,
   "metadata": {},
   "outputs": [],
   "source": [
    "# Sort shapefile by Point Number attribute\n",
    "# Assign XY_Points__Outfile to where the sorted compiled XY Points will be saved\n",
    "XY_Points_outfile = XY_Output_Path + XY_Points_Comp + \"\\\\XY_Points_Comp_Sort.shp\"\n",
    "# Designate which compiled shapefile will be sorted\n",
    "filePath = XY_Output_Path + XY_Points_Comp + XY_Points_Comp + \".shp\"\n",
    "# Use geopandas to read in shapefile - Append read shapefile to variable 'shape'\n",
    "shape = gpd.read_file(filePath)\n",
    "# Sort based on Point Number\n",
    "shape_sort = shape.iloc[shape['PointNum'].sort_values().index.values]"
   ]
  },
  {
   "cell_type": "code",
   "execution_count": 48,
   "metadata": {},
   "outputs": [],
   "source": [
    "# Re-write file back out as sorted compiled shapefile\n",
    "shape_sort.to_file(driver = 'ESRI Shapefile', filename = XY_Points_outfile)"
   ]
  },
  {
   "cell_type": "markdown",
   "metadata": {},
   "source": [
    "Create PolyLine Shapefile"
   ]
  },
  {
   "cell_type": "code",
   "execution_count": 49,
   "metadata": {},
   "outputs": [],
   "source": [
    "# Specify empty folder to put the Line files in\n",
    "linesFolder = Lines_Folder\n",
    "classlinesFolder = Class_Lines_Folder"
   ]
  },
  {
   "cell_type": "code",
   "execution_count": 50,
   "metadata": {},
   "outputs": [],
   "source": [
    "# create variable to iterate through\n",
    "shape = fiona.open(XY_Points_outfile)"
   ]
  },
  {
   "cell_type": "code",
   "execution_count": null,
   "metadata": {},
   "outputs": [],
   "source": []
  },
  {
   "cell_type": "code",
   "execution_count": 51,
   "metadata": {},
   "outputs": [
    {
     "name": "stderr",
     "output_type": "stream",
     "text": [
      "C:\\Users\\brett\\anaconda3\\envs\\CAFE\\lib\\site-packages\\ipykernel_launcher.py:12: DeprecationWarning: QgsVectorFileWriter constructor is deprecated\n",
      "  if sys.path[0] == '':\n"
     ]
    }
   ],
   "source": [
    "# Create lines based on subclasses\n",
    "\n",
    "# for loop to write line file between every 2 sequential points with matching sublass\n",
    "y = 0\n",
    "for feat in shape:\n",
    "    # Create if statement so you y is never > the length of your data set; this will end your script\n",
    "    if y + 1 < len(filter_dato):\n",
    "        # What file to write\n",
    "        file = linesFolder + \"\\line_\" + str(y) + \".shp\"\n",
    "        # Same as previous writer, except QgsWkbTypes. is LineString\n",
    "        writer = QgsVectorFileWriter(file, 'UTF-8', layerFields, QgsWkbTypes.LineString, \\\n",
    "                                 QgsCoordinateReferenceSystem('EPSG:26919'), 'ESRI Shapefile')\n",
    "        # y point in point_list will act as the start of the line\n",
    "        lineStart = point_list[y]\n",
    "        # y + 1 point in point_list will act as the end of the line\n",
    "        lineEnd = point_list[y+1]\n",
    "        # Creates line based on the start and end points previously specified\n",
    "        line = QgsGeometry.fromPolylineXY([lineStart, lineEnd])\n",
    "        # Create empty feature for line\n",
    "        linef = QgsFeature()\n",
    "        # Set geometry to previously created PolyLine\n",
    "        linef.setGeometry(line)\n",
    "        # Append attributes from dataframe\n",
    "        # Since the Line will consist of 2 points, both points' attributes must be stored in the line\n",
    "        linef.setAttributes([filter_dato['Transect'].iloc[y], \\\n",
    "                 int(filter_dato['Point Number'].iloc[y]), \\\n",
    "                 filter_dato['Subclass'].iloc[y], \\\n",
    "                 filter_dato['Northing'].iloc[y].item(), \\\n",
    "                 filter_dato['Easting'].iloc[y].item(), \\\n",
    "                 filter_dato['Altitude'].iloc[y].item(), \\\n",
    "                 filter_dato['Notes'].iloc[y], \\\n",
    "                 filter_dato['Class'].iloc[y].item(), \\\n",
    "                 filter_dato['Raw Subclass'].iloc[y], \\\n",
    "                 filter_dato['Pre Angle'].iloc[y].item(), \\\n",
    "                 filter_dato['Post Angle'].iloc[y].item(), \\\n",
    "                 filter_dato['mu'].iloc[y].item(),  \\\n",
    "                 filter_dato['Class mu'].iloc[y].item(), \\\n",
    "                 filter_dato['Pre/Post'].iloc[y]])\n",
    "        # if statement so a line is only written if it belongs to the same transect\n",
    "        if str(filter_dato['Subclass'].iloc[y])[:2] == str(filter_dato['Subclass'].iloc[y+1])[:2] and transectCheck(y,filter_dato) == 1:\n",
    "            if filter_dato['mu'].iloc[y] == 1:\n",
    "                y +=1\n",
    "            else:\n",
    "                writer.addFeature(linef)\n",
    "                y += 1\n",
    "        else:\n",
    "            y += 1\n",
    "    else: break\n",
    "del(writer)"
   ]
  },
  {
   "cell_type": "code",
   "execution_count": 52,
   "metadata": {},
   "outputs": [],
   "source": [
    "# # Create lines based on Class\n",
    "\n",
    "# # for loop to write line file between every 2 sequential points with matching Class\n",
    "# y = 0\n",
    "# for feat in shape:\n",
    "#     # Create if statement so you y is never > the length of your data set; this will end your script\n",
    "#     if y + 1 < len(filter_dato):\n",
    "#         # What file to write\n",
    "#         file = classlinesFolder + \"\\line_\" + str(y) + \".shp\"\n",
    "#         # Same as previous writer, except QgsWkbTypes. is LineString\n",
    "#         writer = QgsVectorFileWriter(file, 'UTF-8', layerFields, QgsWkbTypes.LineString, \\\n",
    "#                                  QgsCoordinateReferenceSystem('EPSG:26919'), 'ESRI Shapefile')\n",
    "#         # y point in point_list will act as the start of the line\n",
    "#         lineStart = point_list[y]\n",
    "#         # y + 1 point in point_list will act as the end of the line\n",
    "#         lineEnd = point_list[y+1]\n",
    "#         # Creates line based on the start and end points previously specified\n",
    "#         line = QgsGeometry.fromPolylineXY([lineStart, lineEnd])\n",
    "#         # Create empty feature for line\n",
    "#         linef = QgsFeature()\n",
    "#         # Set geometry to previously created PolyLine\n",
    "#         linef.setGeometry(line)\n",
    "#         # Append attributes from dataframe\n",
    "#         # Since the Line will consist of 2 points, both points' attributes must be stored in the line\n",
    "#         linef.setAttributes([filter_dato['Transect'].iloc[y], \\\n",
    "#                  int(filter_dato['Point Number'].iloc[y]), \\\n",
    "#                  filter_dato['Subclass'].iloc[y], \\\n",
    "#                  filter_dato['Northing'].iloc[y].item(), \\\n",
    "#                  filter_dato['Easting'].iloc[y].item(), \\\n",
    "#                  filter_dato['Altitude'].iloc[y].item(), \\\n",
    "#                  filter_dato['Notes'].iloc[y], \\\n",
    "#                  filter_dato['Class'].iloc[y].item(), \\\n",
    "#                  filter_dato['Raw Subclass'].iloc[y], \\\n",
    "#                  filter_dato['Pre Angle'].iloc[y].item(), \\\n",
    "#                  filter_dato['Post Angle'].iloc[y].item(), \\\n",
    "#                  filter_dato['mu'].iloc[y].item(),  \\\n",
    "#                  filter_dato['Class mu'].iloc[y].item(), \\\n",
    "#                  filter_dato['Pre/Post'].iloc[y]])\n",
    "#         # if statement so a line is only written if it belongs to the same transect\n",
    "#         if filter_dato['Class'].iloc[y] == filter_dato['Class'].iloc[y+1] and transectCheck(y,filter_dato) == 1:\n",
    "#             writer.addFeature(linef)\n",
    "#             y += 1\n",
    "#         else:\n",
    "#             y += 1\n",
    "#     else: break\n",
    "# del(writer)"
   ]
  },
  {
   "cell_type": "code",
   "execution_count": 53,
   "metadata": {},
   "outputs": [],
   "source": [
    "# Create mapping units based on subclasses\n",
    "\n",
    "# Create new shapefile for Points that do not create a line\n",
    "\n",
    "y = 0\n",
    "shape = gpd.read_file(XY_Points_outfile)\n",
    "muList2 = filter_dato['mu'].to_list()\n",
    "\n",
    "# for loop to write point for every mapping unit\n",
    "for i in muList2:\n",
    "    # Create if statement so you y is never > the length of your data set; this will end your script\n",
    "    if i == 1:\n",
    "            \n",
    "        # What file to write\n",
    "        file = mu_Folder + \"\\mu_\" + str(y) + \".shp\"\n",
    "        # Same as previous writer, except QgsWkbTypes. is Polygon\n",
    "        writer = QgsVectorFileWriter(file, 'UTF-8', layerFields, QgsWkbTypes.MultiPoint, \\\n",
    "                                QgsCoordinateReferenceSystem('EPSG:26919'), 'ESRI Shapefile')\n",
    "        poly1 = QgsGeometry.fromPointXY(point_list[y])\n",
    "        feat1 = QgsFeature()\n",
    "        feat1.setGeometry(poly1)\n",
    "        feat1.setAttributes([filter_dato['Transect'].iloc[y], \\\n",
    "                 int(filter_dato['Point Number'].iloc[y]), \\\n",
    "                 filter_dato['Subclass'].iloc[y], \\\n",
    "                 filter_dato['Northing'].iloc[y].item(), \\\n",
    "                 filter_dato['Easting'].iloc[y].item(), \\\n",
    "                 filter_dato['Altitude'].iloc[y].item(), \\\n",
    "                 filter_dato['Notes'].iloc[y], \\\n",
    "                 filter_dato['Class'].iloc[y].item(), \\\n",
    "                 filter_dato['Raw Subclass'].iloc[y], \\\n",
    "                 filter_dato['Pre Angle'].iloc[y].item(), \\\n",
    "                 filter_dato['Post Angle'].iloc[y].item(), \\\n",
    "                 filter_dato['mu'].iloc[y].item(),  \\\n",
    "                 filter_dato['Class mu'].iloc[y].item(), \\\n",
    "                 filter_dato['Pre/Post'].iloc[y]])\n",
    "        y += 1\n",
    "        writer.addFeature(feat1)\n",
    "    else: \n",
    "        y += 1\n",
    "# del(writer)"
   ]
  },
  {
   "cell_type": "code",
   "execution_count": null,
   "metadata": {},
   "outputs": [],
   "source": []
  },
  {
   "cell_type": "code",
   "execution_count": 54,
   "metadata": {},
   "outputs": [],
   "source": [
    "# Create list of folders that contain newly created shapefiles to iterate through\n",
    "\n",
    "# COMMENTED OUT MU IN CREEK EDGE\n",
    "\n",
    "\n",
    "# concat_list = [linesFolder, mu_Folder]\n",
    "\n",
    "\n",
    "# Concat lines\n",
    "file = os.listdir(linesFolder)\n",
    "path = [os.path.join(linesFolder, x) for x in file if \".shp\" in x]\n",
    "gdf = gpd.GeoDataFrame(pd.concat([gpd.read_file(x) for x in path],\n",
    "                                    ignore_index=True), crs=gpd.read_file(path[0]).crs)\n",
    "gdf.to_file(linesFolder + \"\\\\Lines_Comp\")\n",
    "\n",
    "# # Concat mu\n",
    "# file = os.listdir(mu_Folder)\n",
    "# path = [os.path.join(mu_Folder, x) for x in file if \".shp\" in x]\n",
    "# gdf = gpd.GeoDataFrame(pd.concat([gpd.read_file(x) for x in path],\n",
    "#                                     ignore_index=True), crs=gpd.read_file(path[0]).crs)\n",
    "\n",
    "# # gdf.to_file(i + \"\\\\Class_Lines_Comp\")\n",
    "# gdf.to_file(mu_Folder + \"\\\\mu_Comp\")\n",
    "    \n"
   ]
  },
  {
   "cell_type": "code",
   "execution_count": 55,
   "metadata": {},
   "outputs": [],
   "source": [
    "concat_fileList = [linesFolder + \"\\\\Lines_Comp\\\\Lines_Comp.shp\"]\n",
    "#                    mu_Folder + \"\\\\mu_Comp\\\\mu_Comp.shp\"]"
   ]
  },
  {
   "cell_type": "code",
   "execution_count": 56,
   "metadata": {},
   "outputs": [
    {
     "data": {
      "text/plain": [
       "['G:\\\\.shortcut-targets-by-id\\\\0B6-MI-dco6FLWkZmTDZ4MFhRU1k\\\\7. SaltMUAS_share\\\\EPA Salt Marsh UAS Study\\\\Newbury\\\\Jupyter_Working_Folder\\\\OTH_14_Oct_2018_CreekR\\\\Lines\\\\Lines_Comp\\\\Lines_Comp.shp']"
      ]
     },
     "execution_count": 56,
     "metadata": {},
     "output_type": "execute_result"
    }
   ],
   "source": [
    "concat_fileList"
   ]
  },
  {
   "cell_type": "markdown",
   "metadata": {},
   "source": [
    "Buffer time"
   ]
  },
  {
   "cell_type": "code",
   "execution_count": 57,
   "metadata": {},
   "outputs": [],
   "source": [
    "# # Buffer lines\n",
    "\n",
    "# # Assign empty folder to variable to write new file to\n",
    "linesBufferFolder = Buffer_Folder\n",
    "# # Read in line shapefile of transects\n",
    "# lines= gpd.read_file(concat_fileList[0])\n",
    "# # Assign buffer and keep attributes\n",
    "# lines['geometry'] = lines.buffer(1, cap_style=3)\n",
    "# # Write new shapefile\n",
    "# lines.to_file(linesBufferFolder + \"\\\\Lines_Buffer\")\n",
    "\n",
    "# # # Buffer Class lines\n",
    "\n",
    "# # # Assign empty folder to variable to write new file to\n",
    "# # classlinesBufferFolder = Class_Buffer_Folder\n",
    "# # # Read in line shapefile of transects\n",
    "# # lines= gpd.read_file(concat_fileList[1])\n",
    "# # # Assign buffer and keep attributes\n",
    "# # lines['geometry'] = lines.buffer(1, cap_style=3)\n",
    "# # # Write new shapefile\n",
    "# # lines.to_file(classlinesBufferFolder + \"\\\\Class_Lines_Buffer\")"
   ]
  },
  {
   "cell_type": "code",
   "execution_count": 58,
   "metadata": {},
   "outputs": [],
   "source": [
    "# Set Buffered Lines to Variable\n",
    "lineZ = Lines_Folder + \"\\Lines_Comp\\Lines_Comp.shp\"\n",
    "outL = Buffer_Folder + \"\\Pos_Buffer.shp\""
   ]
  },
  {
   "cell_type": "code",
   "execution_count": 59,
   "metadata": {},
   "outputs": [],
   "source": [
    "from shapely.geometry import mapping, Polygon, Point, LineString\n",
    "import fiona\n"
   ]
  },
  {
   "cell_type": "code",
   "execution_count": 60,
   "metadata": {},
   "outputs": [],
   "source": [
    "lineZ1 = gpd.GeoDataFrame.from_file(lineZ)\n",
    "lines = gpd.read_file(lineZ)\n",
    "\n",
    "# buffered_lines_pos = lines.to_crs('EPSG:26919').buffer(1, single_sided=True)\n",
    "# buffered_lines_pos.plot(alpha=0.75, cmap=\"tab10\")"
   ]
  },
  {
   "cell_type": "code",
   "execution_count": 61,
   "metadata": {},
   "outputs": [],
   "source": [
    "# x = linebuffers.geometry[0]\n",
    "# type(x)"
   ]
  },
  {
   "cell_type": "code",
   "execution_count": 62,
   "metadata": {},
   "outputs": [],
   "source": [
    "# y = lineZ1.geometry[0]"
   ]
  },
  {
   "cell_type": "code",
   "execution_count": 63,
   "metadata": {},
   "outputs": [],
   "source": [
    "# new = shapely.ops.split(x,y)\n",
    "# new.wkt\n"
   ]
  },
  {
   "cell_type": "code",
   "execution_count": 64,
   "metadata": {},
   "outputs": [],
   "source": [
    "# pt = Point((1,1))\n",
    "# polygon = Point(1,1).buffer(1)\n",
    "# line = LineString([(0,0), (4,4)])\n",
    "# result = shapely.ops.split(polygon, line)\n",
    "# result.wkt\n",
    "# result[0]"
   ]
  },
  {
   "cell_type": "code",
   "execution_count": 65,
   "metadata": {},
   "outputs": [
    {
     "data": {
      "text/plain": [
       "<AxesSubplot:>"
      ]
     },
     "execution_count": 65,
     "metadata": {},
     "output_type": "execute_result"
    },
    {
     "data": {
      "image/png": "[encoded data removed]",
      "text/plain": [
       "<Figure size 432x288 with 1 Axes>"
      ]
     },
     "metadata": {
      "needs_background": "light"
     },
     "output_type": "display_data"
    }
   ],
   "source": [
    "# -1 for Right, 1 for Left\n",
    "\n",
    "lines['geometry'] = lines.buffer(-1, single_sided=True)\n",
    "lines.to_file(outL)\n",
    "lines.plot(alpha=0.75, cmap=\"tab10\")"
   ]
  },
  {
   "cell_type": "code",
   "execution_count": null,
   "metadata": {},
   "outputs": [],
   "source": []
  },
  {
   "cell_type": "code",
   "execution_count": null,
   "metadata": {},
   "outputs": [],
   "source": []
  },
  {
   "cell_type": "code",
   "execution_count": 66,
   "metadata": {},
   "outputs": [],
   "source": [
    "# # COMMENTED OUT IN EDGE\n",
    "# # Buffer the mapping units\n",
    "\n",
    "# # Specify which folder to look in to buffer mu\n",
    "# file = os.listdir(mu_Folder)\n",
    "\n",
    "# # Assign empty folder to variable to write new file to\n",
    "# muBufferFolder = mu_Buffer_Folder\n",
    "\n",
    "# # Begin buffer by iterating through each mapping unit\n",
    "# path = [os.path.join(mu_Folder, i) for i in file if \".shp\" in i]\n",
    "# y = 0\n",
    "# for i in path:\n",
    "#     mus = gpd.read_file(path[y])\n",
    "#     if mus['Pre/Post'][0] == \"post\": \n",
    "#         mus['geometry'] = mus.buffer(1, cap_style=3).rotate(mus[\"Post Angle\"][0], origin='center')\n",
    "#         mus.to_file(muBufferFolder + \"\\\\mu_\" + str(mus[\"PointNum\"][0]) + \"_Buffer.shp\")\n",
    "#     else: \n",
    "#         mus['geometry'] = mus.buffer(1, cap_style=3).rotate(mus[\"Pre Angle\"][0], origin='center')\n",
    "#         mus.to_file(muBufferFolder + \"\\\\mu_\" + str(mus[\"PointNum\"][0]) + \"_Buffer.shp\")\n",
    "#     y += 1\n"
   ]
  },
  {
   "cell_type": "code",
   "execution_count": 67,
   "metadata": {},
   "outputs": [],
   "source": [
    "# # Concatenate mapping units\n",
    "\n",
    "# # Specify which folder to look in to compile mu\n",
    "# file = os.listdir(muBufferFolder)\n",
    "\n",
    "# # Look for all files ending in \".shp\"\n",
    "# path = [os.path.join(muBufferFolder, i) for i in file if \".shp\" in i]\n",
    "\n",
    "# # Concatenate to file specified in last line of code\n",
    "# gdf = gpd.GeoDataFrame(pd.concat([gpd.read_file(i) for i in path],\n",
    "#                         ignore_index=True), crs=gpd.read_file(path[0]).crs)\n",
    "# # Write to same folder + name of new folder to be created which will include the shapefile of compiled XY Points\n",
    "# # Variable below is the suffix to add to linesFolder to specify folder to store compiled line files\n",
    "# muCompSuff = \"\\\\mu_Comp\"\n",
    "# gdf.to_file(muBufferFolder + muCompSuff)"
   ]
  },
  {
   "cell_type": "markdown",
   "metadata": {},
   "source": [
    "Erase the Duplicate Overlapping Data"
   ]
  },
  {
   "cell_type": "code",
   "execution_count": 68,
   "metadata": {},
   "outputs": [],
   "source": [
    "# Import libraries needed for erase\n",
    "\n",
    "from itertools import combinations\n",
    "from shapely.geometry import LineString\n",
    "import matplotlib"
   ]
  },
  {
   "cell_type": "code",
   "execution_count": 69,
   "metadata": {},
   "outputs": [],
   "source": [
    "# Read in transect polygons as GeoDataFrame\n",
    "polygdf = gpd.GeoDataFrame.from_file(outL)"
   ]
  },
  {
   "cell_type": "code",
   "execution_count": 70,
   "metadata": {},
   "outputs": [],
   "source": [
    "# Use itertools to iterate through all polys within shapefile by combination\n",
    "\n",
    "for p1_idx, p2_idx in combinations(polygdf.geometry.index, 2):\n",
    "    if polygdf.geometry.loc[p1_idx].intersects(polygdf.geometry.loc[p2_idx]):\n",
    "        # Store intermediary results back to poly\n",
    "        polygdf.geometry.loc[p2_idx] -= polygdf.geometry.loc[p1_idx]\n",
    "# polygdf is now saved with the new geometry where it does not overlap itself"
   ]
  },
  {
   "cell_type": "code",
   "execution_count": 71,
   "metadata": {},
   "outputs": [
    {
     "data": {
      "text/plain": [
       "<AxesSubplot:>"
      ]
     },
     "execution_count": 71,
     "metadata": {},
     "output_type": "execute_result"
    },
    {
     "data": {
      "image/png": "[encoded data removed]",
      "text/plain": [
       "<Figure size 432x288 with 1 Axes>"
      ]
     },
     "metadata": {
      "needs_background": "light"
     },
     "output_type": "display_data"
    }
   ],
   "source": [
    "# Preview polygons using matplotlib\n",
    "polygdf.plot(alpha=0.75, cmap=\"tab10\")"
   ]
  },
  {
   "cell_type": "code",
   "execution_count": 72,
   "metadata": {},
   "outputs": [],
   "source": [
    "# mugdf = gpd.GeoDataFrame.from_file(muBufferFolder + muCompSuff)"
   ]
  },
  {
   "cell_type": "code",
   "execution_count": 73,
   "metadata": {},
   "outputs": [],
   "source": [
    "# for mu_idx in mugdf.geometry.index:\n",
    "#     for p1_idx in polygdf.geometry.index:\n",
    "#         if mugdf.geometry.loc[mu_idx].intersects(polygdf.geometry.loc[p1_idx]):\n",
    "#             # Store intermediary results back to poly\n",
    "#             polygdf.geometry.loc[p1_idx] -= mugdf.geometry.loc[mu_idx]"
   ]
  },
  {
   "cell_type": "code",
   "execution_count": 74,
   "metadata": {},
   "outputs": [],
   "source": [
    "# mugdf.plot(alpha=0.75, cmap=\"tab10\")"
   ]
  },
  {
   "cell_type": "code",
   "execution_count": 75,
   "metadata": {},
   "outputs": [],
   "source": [
    "# # Erase overlapping mapping untis\n",
    "\n",
    "# for p1_idx, p2_idx in combinations(mugdf.geometry.index, 2):\n",
    "#     if mugdf.geometry.loc[p1_idx].intersects(mugdf.geometry.loc[p2_idx]):\n",
    "#         # Store intermediary results back to poly\n",
    "#         mugdf.geometry.loc[p2_idx] -= mugdf.geometry.loc[p1_idx]\n",
    "# # mugdf is now saved with the new geometry where it does not overlap itself"
   ]
  },
  {
   "cell_type": "code",
   "execution_count": 76,
   "metadata": {},
   "outputs": [],
   "source": [
    "# mugdf"
   ]
  },
  {
   "cell_type": "markdown",
   "metadata": {},
   "source": [
    "Begin Final File Output"
   ]
  },
  {
   "cell_type": "code",
   "execution_count": 77,
   "metadata": {},
   "outputs": [
    {
     "name": "stdout",
     "output_type": "stream",
     "text": [
      "Enter Path of Site in UAS Data Collection (and Year if Applicable) to Write Final Output --- \"G:\\.shortcut-targets-by-id\\0B6-MI-dco6FLWkZmTDZ4MFhRU1k\\7. SaltMUAS_share\\UAS Data Collection\\Old Town Hill\\GIS_Data\\2018\"\n",
      "Folder creation complete.\n"
     ]
    }
   ],
   "source": [
    "# Input Final Output Folder Path\n",
    "rootOut = input(\"Enter Path of Site in UAS Data Collection (and Year if Applicable) to Write Final Output --- \")\n",
    "rootOut = rootOut[1:-1]\n",
    "workingFinal = rootOut + \"\\\\CreekEdge_Working\"\n",
    "transectFinal = rootOut + \"\\\\CreekEdge\"\n",
    "\n",
    "# Create list of variables with folder paths stored\n",
    "finalfolderList = [workingFinal, transectFinal]\n",
    "\n",
    "# Iterate through folder list and create folder if it does not already exist\n",
    "for i in finalfolderList:\n",
    "    if not os.path.exists(i):\n",
    "        os.makedirs(i)\n",
    "        print(str(i) + \" created.\")\n",
    "print(\"Folder creation complete.\")\n"
   ]
  },
  {
   "cell_type": "code",
   "execution_count": 78,
   "metadata": {},
   "outputs": [],
   "source": [
    "# Specify date in the name of the shapefile\n",
    "\n",
    "# Use previously defined workIn variable to name file\n",
    "outShape = workingFinal + r\"\\\\\" + workIn + \"_CreekEdgeLines.shp\"\n",
    "# outMu = workingFinal + r\"\\\\\" + workIn + \"_mu_Final.shp\"\n",
    "\n",
    "polygdf.to_file(outShape)\n",
    "# mugdf.to_file(outMu)"
   ]
  },
  {
   "cell_type": "code",
   "execution_count": 79,
   "metadata": {},
   "outputs": [
    {
     "data": {
      "text/plain": [
       "'G:\\\\.shortcut-targets-by-id\\\\0B6-MI-dco6FLWkZmTDZ4MFhRU1k\\\\7. SaltMUAS_share\\\\UAS Data Collection\\\\Old Town Hill\\\\GIS_Data\\\\2018\\\\CreekEdge_Working\\\\\\\\OTH_14_Oct_2018_CreekR_CreekEdgeLines.shp'"
      ]
     },
     "execution_count": 79,
     "metadata": {},
     "output_type": "execute_result"
    }
   ],
   "source": [
    "outShape"
   ]
  },
  {
   "cell_type": "code",
   "execution_count": null,
   "metadata": {},
   "outputs": [],
   "source": []
  }
 ],
 "metadata": {
  "kernelspec": {
   "display_name": "Python 3",
   "language": "python",
   "name": "python3"
  },
  "language_info": {
   "codemirror_mode": {
    "name": "ipython",
    "version": 3
   },
   "file_extension": ".py",
   "mimetype": "text/x-python",
   "name": "python",
   "nbconvert_exporter": "python",
   "pygments_lexer": "ipython3",
   "version": "3.7.6"
  }
 },
 "nbformat": 4,
 "nbformat_minor": 4
}
